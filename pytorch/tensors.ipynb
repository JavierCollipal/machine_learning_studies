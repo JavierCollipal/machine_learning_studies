{
 "cells": [
  {
   "cell_type": "markdown",
   "metadata": {},
   "source": [
    "## Tensors: The Foundation of PyTorch\n",
    "\n",
    "# Introduction to Tensors\n",
    "Tensors are the primary data structure used in PyTorch. They are multi-dimensional arrays that can represent scalars, vectors, matrices, and higher-dimensional data. \n",
    "Tensors are similar to NumPy arrays, but they have the added benefit of being able to run on GPUs, which can significantly speed up computations.\n",
    "\n",
    "# Creating Tensors\n",
    "Let's start by creating some basic tensors in PyTorch:"
   ]
  },
  {
   "cell_type": "code",
   "execution_count": 1,
   "metadata": {},
   "outputs": [
    {
     "name": "stdout",
     "output_type": "stream",
     "text": [
      "tensor(3.1400)\n",
      "tensor([1, 2, 3])\n",
      "tensor([[1, 2],\n",
      "        [3, 4]])\n"
     ]
    }
   ],
   "source": [
    "import torch\n",
    "\n",
    "# Create a scalar tensor\n",
    "scalar_tensor = torch.tensor(3.14)\n",
    "print(scalar_tensor)\n",
    "\n",
    "# Create a vector tensor\n",
    "vector_tensor = torch.tensor([1, 2, 3])\n",
    "print(vector_tensor)\n",
    "\n",
    "# Create a matrix tensor\n",
    "matrix_tensor = torch.tensor([[1, 2], [3, 4]])\n",
    "print(matrix_tensor)"
   ]
  },
  {
   "cell_type": "markdown",
   "metadata": {},
   "source": [
    "As you can see, we can create tensors of different shapes and sizes, representing scalars, vectors, and matrices.\n",
    "\n",
    "Tensor Attributes\n",
    "Tensors have several important attributes that you should be familiar with:"
   ]
  },
  {
   "cell_type": "code",
   "execution_count": 2,
   "metadata": {},
   "outputs": [
    {
     "name": "stdout",
     "output_type": "stream",
     "text": [
      "torch.Size([])\n",
      "torch.Size([3])\n",
      "torch.Size([2, 2])\n",
      "torch.float32\n",
      "torch.int64\n",
      "torch.int64\n"
     ]
    }
   ],
   "source": [
    "# Check the tensor's shape\n",
    "print(scalar_tensor.shape)\n",
    "print(vector_tensor.shape)\n",
    "print(matrix_tensor.shape)\n",
    "\n",
    "# Check the tensor's data type\n",
    "print(scalar_tensor.dtype)\n",
    "print(vector_tensor.dtype)\n",
    "print(matrix_tensor.dtype)"
   ]
  },
  {
   "cell_type": "markdown",
   "metadata": {},
   "source": [
    "The shape attribute tells us the dimensions of the tensor, and the dtype attribute tells us the data type of the tensor.\n",
    "\n",
    "Tensor Operations\n",
    "Tensors support a wide range of mathematical operations, similar to NumPy arrays. Here are some examples:\n",
    "\n"
   ]
  },
  {
   "cell_type": "code",
   "execution_count": 3,
   "metadata": {},
   "outputs": [
    {
     "name": "stdout",
     "output_type": "stream",
     "text": [
      "tensor([2, 4, 6])\n",
      "tensor([[ 7, 10],\n",
      "        [15, 22]])\n",
      "tensor([1, 4, 9])\n"
     ]
    }
   ],
   "source": [
    "# Tensor addition\n",
    "print(vector_tensor + vector_tensor)\n",
    "\n",
    "# Tensor multiplication\n",
    "print(matrix_tensor @ matrix_tensor)\n",
    "\n",
    "# Tensor element-wise multiplication\n",
    "print(vector_tensor * vector_tensor)"
   ]
  },
  {
   "cell_type": "markdown",
   "metadata": {},
   "source": [
    "These are just a few examples of the many operations you can perform on tensors in PyTorch, they are multi-dimensional arrays that can be operated(mathematically) on GPU or CPU.\n",
    "Now lets center in the main benefits of using tensors:\n",
    "\n",
    "## GPU Acceleration for Tensors:\n",
    "\n",
    "One of the key advantages of using PyTorch is the ability to leverage GPU acceleration for faster computations. PyTorch seamlessly integrates with CUDA-enabled GPUs, allowing you to offload tensor operations to the GPU for significant performance improvements.\n",
    "\n",
    "Here's a function that demonstrates how to create and operate on tensors on the GPU:"
   ]
  },
  {
   "cell_type": "code",
   "execution_count": 4,
   "metadata": {},
   "outputs": [],
   "source": [
    "import torch\n",
    "\n",
    "def tensor_operations_on_gpu():\n",
    "    # Check if GPU is available\n",
    "    if torch.cuda.is_available():\n",
    "        print(\"GPU is available. Using GPU acceleration.\")\n",
    "        \n",
    "        # Create a tensor on the GPU and convert it to float type\n",
    "        matrix_tensor = torch.tensor([[1, 2], [3, 4]], device='cuda', dtype=torch.float32)\n",
    "        print(f\"Matrix tensor on GPU: {matrix_tensor}\")\n",
    "        \n",
    "        # Perform tensor operations on the GPU\n",
    "        matrix_product = matrix_tensor @ matrix_tensor\n",
    "        print(f\"Matrix product on GPU: {matrix_product}\")\n",
    "        \n",
    "        # Move the tensor back to the CPU (if needed)\n",
    "        matrix_tensor_cpu = matrix_tensor.to('cpu')\n",
    "        print(f\"Matrix tensor on CPU: {matrix_tensor_cpu}\")\n",
    "    else:\n",
    "        print(\"GPU is not available. Using CPU.\")"
   ]
  },
  {
   "cell_type": "markdown",
   "metadata": {},
   "source": [
    "### Let's break down the code:\n",
    "\n",
    "1-We first check if a GPU is available using torch.cuda.is_available(). This function returns True if a CUDA-enabled GPU is detected, and False otherwise.\n",
    "\n",
    "2-If a GPU is available, we create a tensor directly on the GPU using the device='cuda' argument in the torch.tensor() function.\n",
    "\n",
    "3-We then perform a matrix multiplication operation on the GPU-based tensor using the @ operator. This operation is executed on the GPU, taking advantage of the GPU's parallel processing capabilities.\n",
    "\n",
    "4-Finally, we move the tensor back to the CPU using the .to('cpu') method, in case we need to use the tensor on the CPU later in our code.\n",
    "\n",
    "5-To use this function, simply call it in your code:"
   ]
  },
  {
   "cell_type": "code",
   "execution_count": 5,
   "metadata": {},
   "outputs": [
    {
     "name": "stdout",
     "output_type": "stream",
     "text": [
      "GPU is available. Using GPU acceleration.\n",
      "Matrix tensor on GPU: tensor([[1., 2.],\n",
      "        [3., 4.]], device='cuda:0')\n",
      "Matrix product on GPU: tensor([[ 7., 10.],\n",
      "        [15., 22.]], device='cuda:0')\n",
      "Matrix tensor on CPU: tensor([[1., 2.],\n",
      "        [3., 4.]])\n"
     ]
    }
   ],
   "source": [
    "tensor_operations_on_gpu()"
   ]
  },
  {
   "cell_type": "markdown",
   "metadata": {},
   "source": [
    "### Visualizing Tensor Operations on the GPU:\n",
    "One way to visualize the tensor operations is to use a library like matplotlib to plot the tensors before and after the operations. <br>\n",
    "This can give you a better sense of the data structure and how the operations transform the tensors.\n",
    "\n",
    "Here's an example of how you can visualize the matrix multiplication operation we performed earlier:"
   ]
  },
  {
   "cell_type": "code",
   "execution_count": 6,
   "metadata": {},
   "outputs": [],
   "source": [
    "import torch\n",
    "import matplotlib.pyplot as plt\n",
    "\n",
    "def visualize_tensor_operations_in_table():\n",
    "    # Check if GPU is available\n",
    "    if torch.cuda.is_available():\n",
    "        print(\"GPU is available. Using GPU acceleration.\")\n",
    "        \n",
    "        # Create a tensor on the GPU and convert it to float type\n",
    "        matrix_tensor = torch.tensor([[1, 2], [3, 4]], device='cuda', dtype=torch.float32)\n",
    "        \n",
    "        # Perform tensor operations on the GPU\n",
    "        matrix_product = matrix_tensor @ matrix_tensor\n",
    "        \n",
    "        # Move the tensors back to the CPU for visualization\n",
    "        matrix_tensor_cpu = matrix_tensor.to('cpu')\n",
    "        matrix_product_cpu = matrix_product.to('cpu')\n",
    "        \n",
    "        # Set up the plot\n",
    "        fig, (ax1, ax2) = plt.subplots(1, 2, figsize=(10, 5))\n",
    "        \n",
    "        # Display the input tensor as a table\n",
    "        ax1.axis('tight')\n",
    "        ax1.axis('off')\n",
    "        ax1.table(cellText=matrix_tensor_cpu.numpy(), loc='center')\n",
    "        ax1.set_title('Input Matrix')\n",
    "        \n",
    "        # Display the matrix product as a table\n",
    "        ax2.axis('tight')\n",
    "        ax2.axis('off')\n",
    "        ax2.table(cellText=matrix_product_cpu.numpy(), loc='center')\n",
    "        ax2.set_title('Matrix Product')\n",
    "        \n",
    "        plt.show()\n",
    "    else:\n",
    "        print(\"GPU is not available. Using CPU.\")"
   ]
  },
  {
   "cell_type": "code",
   "execution_count": 7,
   "metadata": {},
   "outputs": [
    {
     "name": "stdout",
     "output_type": "stream",
     "text": [
      "GPU is available. Using GPU acceleration.\n"
     ]
    },
    {
     "data": {
      "image/png": "[encoded data removed]",
      "text/plain": [
       "<Figure size 1000x500 with 2 Axes>"
      ]
     },
     "metadata": {},
     "output_type": "display_data"
    }
   ],
   "source": [
    "visualize_tensor_operations_in_table()"
   ]
  },
  {
   "cell_type": "markdown",
   "metadata": {},
   "source": [
    "We created a grid of numbers (a tensor) and let the computer (GPU) do some math on it really fast. \n",
    "Then, we showed the original numbers and the result of the math in an easy-to-see table. \n",
    "\n",
    "The key idea is that the GPU helps do the math much faster than a regular computer by working on many things at the same time, this makes it great for handling big calculations without us needing to worry about every little step and taking fully advantage of using pytorch library."
   ]
  }
 ],
 "metadata": {
  "kernelspec": {
   "display_name": "myenv",
   "language": "python",
   "name": "python3"
  },
  "language_info": {
   "codemirror_mode": {
    "name": "ipython",
    "version": 3
   },
   "file_extension": ".py",
   "mimetype": "text/x-python",
   "name": "python",
   "nbconvert_exporter": "python",
   "pygments_lexer": "ipython3",
   "version": "3.12.4"
  }
 },
 "nbformat": 4,
 "nbformat_minor": 2
}
