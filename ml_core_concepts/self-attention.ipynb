{
 "cells": [
  {
   "cell_type": "markdown",
   "metadata": {},
   "source": [
    "### Understanding Attention Mechanisms\n",
    "\n",
    "Attention mechanisms have revolutionized the field of natural language processing and computer vision by allowing models to focus on specific parts of the input data when making predictions. Here's an overview, along with markdown explanations, code examples, and visualizations.\n",
    "\n",
    "#### What is Attention?\n",
    "\n",
    "Attention allows a model to weigh the importance of different parts of the input data differently. This is particularly useful when dealing with sequences or images, where certain parts of the input might be more relevant for the task at hand than others.\n",
    "\n",
    "### Self-Attention in Transformers\n",
    "\n",
    "The self-attention mechanism is a key component of transformer models like BERT and GPT. It allows the model to look at other words in the sentence when encoding a particular word.\n",
    "\n",
    "#### Steps of Self-Attention\n",
    "\n",
    "1. **Input Representation**: Convert input tokens to embeddings.\n",
    "2. **Query, Key, and Value Vectors**: For each token, create three vectors: Query (Q), Key (K), and Value (V).\n",
    "3. **Attention Scores**: Compute attention scores using dot product of Q and K, followed by scaling and softmax.\n",
    "4. **Weighted Sum**: Use the attention scores to compute a weighted sum of the value vectors.\n",
    "\n",
    "### Example: Self-Attention Mechanism\n",
    "\n",
    "#### Step-by-Step Explanation of Self-Attention\n",
    "\n",
    "1. **Input Representation**:\n",
    "   - Convert each token in the input sequence to its corresponding embedding vector.\n",
    "\n",
    "2. **Query, Key, and Value Vectors**:\n",
    "   - For each token embedding, create three vectors: Query (Q), Key (K), and Value (V) using learned weight matrices.\n",
    "\n",
    "3. **Attention Scores**:\n",
    "   - Compute attention scores by taking the dot product of the Query vector with all Key vectors.\n",
    "   - Scale the scores by the square root of the dimensionality of the Key vectors.\n",
    "   - Apply a softmax function to obtain normalized attention weights.\n",
    "\n",
    "4. **Weighted Sum**:\n",
    "   - Compute the weighted sum of the Value vectors using the attention weights to produce the final output for each token.\n"
   ]
  },
  {
   "cell_type": "code",
   "execution_count": 6,
   "metadata": {},
   "outputs": [
    {
     "name": "stdout",
     "output_type": "stream",
     "text": [
      "Attention Weights:\n",
      " tensor([[[0.3651, 0.2964, 0.3385],\n",
      "         [0.6297, 0.0678, 0.3026],\n",
      "         [0.5238, 0.1395, 0.3367]]], grad_fn=<SoftmaxBackward0>)\n",
      "Output:\n",
      " tensor([[[ 0.1501,  0.6861,  0.5080, -0.5340],\n",
      "         [ 0.1742,  0.5091,  0.5989, -0.7344],\n",
      "         [ 0.1673,  0.5761,  0.5725, -0.6707]]], grad_fn=<UnsafeViewBackward0>)\n"
     ]
    }
   ],
   "source": [
    "import torch\n",
    "import torch.nn.functional as F\n",
    "\n",
    "# Example input (batch_size=1, seq_len=3, embed_dim=4)\n",
    "x = torch.tensor([[[1.0, 0.0, 1.0, 0.0],\n",
    "                   [0.0, 2.0, 0.0, 2.0],\n",
    "                   [1.0, 1.0, 1.0, 1.0]]])\n",
    "\n",
    "# Initialize query, key, value weight matrices\n",
    "W_q = torch.nn.Linear(4, 4, bias=False)\n",
    "W_k = torch.nn.Linear(4, 4, bias=False)\n",
    "W_v = torch.nn.Linear(4, 4, bias=False)\n",
    "\n",
    "# Compute query, key, value matrices\n",
    "Q = W_q(x)  # (1, 3, 4)\n",
    "K = W_k(x)  # (1, 3, 4)\n",
    "V = W_v(x)  # (1, 3, 4)\n",
    "\n",
    "# Compute attention scores\n",
    "attention_scores = torch.matmul(Q, K.transpose(-2, -1))  # (1, 3, 3)\n",
    "attention_scores = attention_scores / (4 ** 0.5)  # Scaling\n",
    "\n",
    "# Apply softmax to obtain attention weights\n",
    "attention_weights = F.softmax(attention_scores, dim=-1)  # (1, 3, 3)\n",
    "\n",
    "# Compute weighted sum of value vectors\n",
    "output = torch.matmul(attention_weights, V)  # (1, 3, 4)\n",
    "\n",
    "print(\"Attention Weights:\\n\", attention_weights)\n",
    "print(\"Output:\\n\", output)"
   ]
  },
  {
   "cell_type": "markdown",
   "metadata": {},
   "source": [
    "Visualizing Self-Attention with PCA To understand how attention works, we can visualize the attention weights. Here’s an example of how to plot the attention weight"
   ]
  },
  {
   "cell_type": "code",
   "execution_count": 7,
   "metadata": {},
   "outputs": [
    {
     "data": {
      "image/png": "[encoded data removed]",
      "text/plain": [
       "<Figure size 800x600 with 2 Axes>"
      ]
     },
     "metadata": {},
     "output_type": "display_data"
    }
   ],
   "source": [
    "import matplotlib.pyplot as plt\n",
    "import seaborn as sns\n",
    "import numpy as np\n",
    "\n",
    "# Example words (for visualization purposes)\n",
    "words = [\"I\", \"love\", \"NLP\"]\n",
    "\n",
    "# Convert attention weights to numpy\n",
    "attention_weights_np = attention_weights.detach().numpy().squeeze()\n",
    "\n",
    "# Plot the attention weights\n",
    "plt.figure(figsize=(8, 6))\n",
    "sns.heatmap(attention_weights_np, xticklabels=words, yticklabels=words, cmap=\"YlGnBu\", annot=True)\n",
    "plt.title(\"Self-Attention Heatmap\")\n",
    "plt.xlabel(\"Key\")\n",
    "plt.ylabel(\"Query\")\n",
    "plt.show()\n"
   ]
  },
  {
   "cell_type": "markdown",
   "metadata": {},
   "source": [
    "### Visualizing Self-Attention with a Heatmap\n",
    "\n",
    "To understand how attention works, we can visualize the attention weights using a heatmap. Here’s how to interpret the heatmap:\n",
    "\n",
    "#### What is a Heatmap?\n",
    "\n",
    "A heatmap is a graphical representation of data where individual values are represented as colors. In the context of self-attention, a heatmap can show how much each word (query) attends to every other word (key) in the input sequence.\n",
    "\n",
    "#### Components of the Heatmap\n",
    "\n",
    "1. **Axes**:\n",
    "   - **X-axis (Key)**: Represents the words in the sequence that the model attends to.\n",
    "   - **Y-axis (Query)**: Represents the words in the sequence for which the attention is being computed.\n",
    "\n",
    "2. **Color Intensity**:\n",
    "   - The color intensity represents the attention weight. A higher value (darker color) indicates that the model is paying more attention to that word pair (query, key).\n",
    "\n",
    "#### Interpreting the Heatmap\n",
    "\n",
    "- **Diagonal Elements**: These represent self-attention where the query and key are the same word.\n",
    "- **Off-Diagonal Elements**: These indicate how much attention a query word pays to different key words.\n",
    "\n",
    "#### Example Interpretation\n",
    "\n",
    "In the provided heatmap:\n",
    "- **\"love\" (query)** pays significant attention to **\"I\" (key)** and **\"NLP\" (key)**.\n",
    "- **\"I\" (query)** has a balanced attention to all words including itself.\n",
    "- **\"NLP\" (query)** also distributes its attention relatively evenly across all words.\n",
    "\n",
    "### Conclusion\n",
    "\n",
    "The heatmap provides a visual representation of the attention distribution across different words in a sequence. By analyzing the heatmap, we can understand which words are considered important by the model when processing each word in the sequence.\n"
   ]
  },
  {
   "cell_type": "markdown",
   "metadata": {},
   "source": [
    "### Conclusion\n",
    "Attention mechanisms, especially self-attention, allow models to dynamically focus on different parts of the input, making them extremely powerful for tasks involving sequences and images. Understanding and visualizing attention can provide insights into how models interpret and process data.\n",
    "\n",
    "By implementing and visualizing attention, you can gain a deeper understanding of the inner workings of transformer models and their applications in tasks like plant disease classification."
   ]
  }
 ],
 "metadata": {
  "kernelspec": {
   "display_name": "Python (myenv)",
   "language": "python",
   "name": "myenv"
  },
  "language_info": {
   "codemirror_mode": {
    "name": "ipython",
    "version": 3
   },
   "file_extension": ".py",
   "mimetype": "text/x-python",
   "name": "python",
   "nbconvert_exporter": "python",
   "pygments_lexer": "ipython3",
   "version": "3.12.0"
  }
 },
 "nbformat": 4,
 "nbformat_minor": 2
}
