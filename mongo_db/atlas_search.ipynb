{
 "cells": [
  {
   "cell_type": "markdown",
   "metadata": {},
   "source": [
    "### Atlas search:\n",
    "Atlas search is Relevance-baseed search, an search who surface records based on a search term.\n",
    "is not an database search for a particular record.\n",
    "\n",
    "### atlas search example:\n",
    "For example, suppose you have an mongodb docs and you search for specific information in atlas search.\n",
    "you can type for atlas search on the search bar of mongodb.com, and it will sshow matwches for what you search for. This is revelance-based search.\n",
    "\n",
    "In programming what are the hardest thing to do well is search too many items and return revelant result.\n",
    "Because that involve complex computaiton, that swhy many engineer turn to aditional software outside of their database for search solution # Note: search solution can be made isolated from the base model or software then?.\n",
    "\n",
    "Managing two systems and sync between can slowdown time  to deliver, Knowing that Mongodb built a searc solution otn top of  industry standard, open source search algrothim Aparche lucene directly into MongoDbAtlas. # TODO: notebook abouth the algorithm with python\n",
    "Atlas search with search indexes, which are used to specify how the search algorthym should work with a set of data\n",
    "\n",
    "### Search Indexes:\n",
    "Atlass search start with search indexer which are used to specify how the search algorithm should work with the set of data.\n",
    "Search indexes are not the same as database indexes, search Indexes specify how recrords are referenced for relevance-based search\n",
    "### Revelance-based search vs datasbase search Search:\n",
    "    \n",
    "### Search  index vs  database index:\n",
    "()\n"
   ]
  },
  {
   "cell_type": "markdown",
   "metadata": {},
   "source": [
    "### Search index creation\n",
    "Visual option made by web:\n",
    "https://learn.mongodb.com/learn/course/mongodb-atlas-search/lesson-2-creating-a-search-index-with-dynamic-mapping/learn?page=1"
   ]
  },
  {
   "cell_type": "code",
   "execution_count": null,
   "metadata": {},
   "outputs": [],
   "source": [
    "#Lucene algorithm"
   ]
  }
 ],
 "metadata": {
  "language_info": {
   "name": "python"
  }
 },
 "nbformat": 4,
 "nbformat_minor": 2
}
