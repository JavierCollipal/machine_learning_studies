{
 "cells": [
  {
   "cell_type": "markdown",
   "metadata": {},
   "source": [
    "# Visualizing Scrapy Output in Jupyter Notebook\n",
    "\n",
    "This notebook demonstrates how to scrape web content using Scrapy and visualize the results in a Jupyter notebook. \n",
    "\n",
    "## Steps to Set Up and Run Scrapy\n",
    "**Install Scrapy**:\n",
    "   pip install scrapy\n"
   ]
  },
  {
   "cell_type": "markdown",
   "metadata": {},
   "source": [
    "# Create a Scrapy Project:\n",
    " If you haven't already, create a new Scrapy project:\n",
    "scrapy startproject myproject\n",
    "cd myproject"
   ]
  },
  {
   "cell_type": "markdown",
   "metadata": {},
   "source": [
    "# Define a Spider:\n",
    "Create a new spider file in the spiders directory (e.g., my_spider.py) with the following content:"
   ]
  },
  {
   "cell_type": "markdown",
   "metadata": {},
   "source": [
    "# Run the Spider:\n",
    "\n",
    "Run the spider from the command line to generate the output:\n",
    " scrapy crawl spider_name -O output_name.json"
   ]
  },
  {
   "cell_type": "code",
   "execution_count": 26,
   "metadata": {},
   "outputs": [
    {
     "data": {
      "text/html": [
       "<h2>What are cannabis deficiencies?</h2>"
      ],
      "text/plain": [
       "<IPython.core.display.HTML object>"
      ]
     },
     "metadata": {},
     "output_type": "display_data"
    },
    {
     "data": {
      "text/html": [
       "<p>A cannabis deficiency is seen when the cannabis plant is unable to access a key nutrient or mineral essential for healthy growth. Even if your plants have a relatively healthy diet/feed, the absence of a single essential nutrient can have profound effects. This can have a severe impact on yield and/or quality. In the worst cases, a cannabis deficiency can threaten the survival of your plant.</p>"
      ],
      "text/plain": [
       "<IPython.core.display.HTML object>"
      ]
     },
     "metadata": {},
     "output_type": "display_data"
    },
    {
     "data": {
      "text/html": [
       "<p>Fortunately for weed growers, the cannabis plant is able to communicate many of the common deficiencies and issues to us. That’s assuming we know what to look for and how to interpret the signs. Visual clues from the leaves and general plant appearance can convey a lot of useful information to the experienced cultivator. Read on to find out more.</p>"
      ],
      "text/plain": [
       "<IPython.core.display.HTML object>"
      ]
     },
     "metadata": {},
     "output_type": "display_data"
    },
    {
     "data": {
      "text/html": [
       "<h2>Cannabis deficiencies and water supply</h2>"
      ],
      "text/plain": [
       "<IPython.core.display.HTML object>"
      ]
     },
     "metadata": {},
     "output_type": "display_data"
    },
    {
     "data": {
      "text/html": [
       "<img src=\"https://dutch-passion.com/img/cms/Blogs/overwatering-and-not-enough-water-cannabis.jpg\" width=\"300\" height=\"300\"/>"
      ],
      "text/plain": [
       "<IPython.core.display.Image object>"
      ]
     },
     "metadata": {},
     "output_type": "display_data"
    },
    {
     "data": {
      "text/html": [
       "<p>Some local water sources can have naturally high levels of some minerals but may be low in others. This can make it tricky to use certain nutrient additives if you already have variable levels in your water supply.</p>"
      ],
      "text/plain": [
       "<IPython.core.display.HTML object>"
      ]
     },
     "metadata": {},
     "output_type": "display_data"
    },
    {
     "data": {
      "text/html": [
       "<p>That’s why some professional growers try to take the variables within the natural water supply out of the equation and use fully deionised water. This is water that has been specially filtered to remove any mineral ions present. The result is pure water that is free from any mineral content. Some growers prefer to use fully deionised water as the starting point. But this approach tends to be used by a small minority of serious growers. Most cannabis home growers tend to use tap water and find it generally works well enough.</p>"
      ],
      "text/plain": [
       "<IPython.core.display.HTML object>"
      ]
     },
     "metadata": {},
     "output_type": "display_data"
    },
    {
     "data": {
      "text/html": [
       "<h2>Cannabis deficiencies, macronutrients and micronutrients</h2>"
      ],
      "text/plain": [
       "<IPython.core.display.HTML object>"
      ]
     },
     "metadata": {},
     "output_type": "display_data"
    },
    {
     "data": {
      "text/html": [
       "<img src=\"https://dutch-passion.com/img/cms/Blogs/Mobile-and-immobile-nutrients.jpg\" width=\"300\" height=\"300\"/>"
      ],
      "text/plain": [
       "<IPython.core.display.Image object>"
      ]
     },
     "metadata": {},
     "output_type": "display_data"
    },
    {
     "data": {
      "text/html": [
       "<p>Macronutrients are those required in high quantities by your cannabis plants. The main macronutrients for cannabis are Nitrogen, Potassium and Phosphorus. These are used in many of the primary biochemical processes during vegetative growth and bloom.</p>"
      ],
      "text/plain": [
       "<IPython.core.display.HTML object>"
      ]
     },
     "metadata": {},
     "output_type": "display_data"
    },
    {
     "data": {
      "text/html": [
       "<p>Micronutrients are minerals that are required in trace quantities to ensure that plant cellular biology can function well. Micronutrients include Copper, Silicon, Zinc, Sulphur etc.</p>"
      ],
      "text/plain": [
       "<IPython.core.display.HTML object>"
      ]
     },
     "metadata": {},
     "output_type": "display_data"
    },
    {
     "data": {
      "text/html": [
       "<h2>Mobile nutrients vs immobile nutrients in cannabis deficiencies</h2>"
      ],
      "text/plain": [
       "<IPython.core.display.HTML object>"
      ]
     },
     "metadata": {},
     "output_type": "display_data"
    },
    {
     "data": {
      "text/html": [
       "<p>Understanding the subtle differences between mobile and immobile nutrients can also help the grower understand cannabis deficiencies better. Mobile nutrients such as Phosphorus can be transferred from one part of the plant to another. If that Phosphorus was stored in an old fan leaf before being transferred to another part pf the plant, you will first spot the deficiency in older growth.</p>"
      ],
      "text/plain": [
       "<IPython.core.display.HTML object>"
      ]
     },
     "metadata": {},
     "output_type": "display_data"
    },
    {
     "data": {
      "text/html": [
       "<p>Other minerals, such as Zinc are immobile minerals. Once deposited by the plant, they are difficult to transfer around the plant. This means that you might initially notice deficiencies of immobile minerals in new growth.</p>"
      ],
      "text/plain": [
       "<IPython.core.display.HTML object>"
      ]
     },
     "metadata": {},
     "output_type": "display_data"
    },
    {
     "data": {
      "text/html": [
       "<h2>Cannabis plant deficiencies and excesses chart</h2>"
      ],
      "text/plain": [
       "<IPython.core.display.HTML object>"
      ]
     },
     "metadata": {},
     "output_type": "display_data"
    },
    {
     "data": {
      "text/html": [
       "<img src=\"https://dutch-passion.com/img/cms/Blogs/cannabis-nutrient-deficiencies-and-excesses-chart.jpg\" width=\"300\" height=\"300\"/>"
      ],
      "text/plain": [
       "<IPython.core.display.Image object>"
      ]
     },
     "metadata": {},
     "output_type": "display_data"
    },
    {
     "data": {
      "text/html": [
       "<p>The images and information in this post are partly based on content from Jorge Cervantes. All rights reserved. Visit marijuanagrowing.com for more information.</p>"
      ],
      "text/plain": [
       "<IPython.core.display.HTML object>"
      ]
     },
     "metadata": {},
     "output_type": "display_data"
    },
    {
     "data": {
      "text/html": [
       "<p>As always with cannabis cultivation, problem prevention is far better than cure. One classic problem with mineral deficiencies is that they are misinterpreted and treated incorrectly which only makes the problem worse. Some of the cannabis deficiencies can look similar and may take an experienced eye to correctly identify.</p>"
      ],
      "text/plain": [
       "<IPython.core.display.HTML object>"
      ]
     },
     "metadata": {},
     "output_type": "display_data"
    },
    {
     "data": {
      "text/html": [
       "<p>One basic way for soil growers to try to avoid deficiencies is to lean towards larger containers of high quality, professionally prepared soil. With larger quantities of soil, assuming the soil is correctly formulated, the cannabis roots have a larger volume of nutrients to draw from. This reduces the chance of later deficiencies.</p>"
      ],
      "text/plain": [
       "<IPython.core.display.HTML object>"
      ]
     },
     "metadata": {},
     "output_type": "display_data"
    },
    {
     "data": {
      "text/html": [
       "<p>To further complicate matters, plants can sometimes experience multiple deficiencies especially if they are growing in low quality grow medium. Of course, if the pH is out of range then ‘nutrient lockout’ can occur. This is where nutrients are available but unable to be absorbed.</p>"
      ],
      "text/plain": [
       "<IPython.core.display.HTML object>"
      ]
     },
     "metadata": {},
     "output_type": "display_data"
    },
    {
     "data": {
      "text/html": [
       "<p>Related: Optimising your grow room conditions</p>"
      ],
      "text/plain": [
       "<IPython.core.display.HTML object>"
      ]
     },
     "metadata": {},
     "output_type": "display_data"
    },
    {
     "data": {
      "text/html": [
       "<p>What is wrong with my cannabis plant?</p>"
      ],
      "text/plain": [
       "<IPython.core.display.HTML object>"
      ]
     },
     "metadata": {},
     "output_type": "display_data"
    },
    {
     "data": {
      "text/html": [
       "<h2>How to identify and treat nutrient deficiencies</h2>"
      ],
      "text/plain": [
       "<IPython.core.display.HTML object>"
      ]
     },
     "metadata": {},
     "output_type": "display_data"
    },
    {
     "data": {
      "text/html": [
       "<p>If you are unfortunate enough to have a sick plant with deficiencies it helps to get on top of the situation as quickly as possible. If a plant continues to suffer with deficiencies it will usually mean a severely compromised harvest. In the worst case scenario your plant may not survive. When a plant is in good health it is far more resistant to pests and diseases than a plant which is already compromised by poor health and poor nutrition.</p>"
      ],
      "text/plain": [
       "<IPython.core.display.HTML object>"
      ]
     },
     "metadata": {},
     "output_type": "display_data"
    },
    {
     "data": {
      "text/html": [
       "<h2>Nitrogen deficiency in cannabis</h2>"
      ],
      "text/plain": [
       "<IPython.core.display.HTML object>"
      ]
     },
     "metadata": {},
     "output_type": "display_data"
    },
    {
     "data": {
      "text/html": [
       "<img src=\"https://dutch-passion.com/img/cms/Blogs/Nitrogen.jpg\" width=\"300\" height=\"300\"/>"
      ],
      "text/plain": [
       "<IPython.core.display.Image object>"
      ]
     },
     "metadata": {},
     "output_type": "display_data"
    },
    {
     "data": {
      "text/html": [
       "<p>Nitrogen (chemical symbol ’N’) is regarded as a mobile macronutrient. Not only is Nitrogen an essential part of plant proteins it is vital for the healthy functioning of photosynthesis, especially in vegetative growth.</p>"
      ],
      "text/plain": [
       "<IPython.core.display.HTML object>"
      ]
     },
     "metadata": {},
     "output_type": "display_data"
    },
    {
     "data": {
      "text/html": [
       "<img src=\"https://dutch-passion.com/img/cms/Blogs/Nitrogen-Deficiency.jpg\" width=\"300\" height=\"300\"/>"
      ],
      "text/plain": [
       "<IPython.core.display.Image object>"
      ]
     },
     "metadata": {},
     "output_type": "display_data"
    },
    {
     "data": {
      "text/html": [
       "<p>Symptoms Nitrogen deficiency can result in leaves looking pale, and eventually turning yellow, curling and dropping off. Leaves nearer the base of the plant can be first to display it. Yellowing can progress up the plant. Leaf discolouration/browning can occur.  Bloom may seem to be faster, with lower yields and fewer bud points.</p>"
      ],
      "text/plain": [
       "<IPython.core.display.HTML object>"
      ]
     },
     "metadata": {},
     "output_type": "display_data"
    },
    {
     "data": {
      "text/html": [
       "<p>Nitrogen toxicity If Nitrogen levels are too high leaves can show an unnaturally deep/dark hue. This can be fixed with a decrease in nutrients, or a quick flush of your plant container to remove the excess nutrients. How to treat Nitrogen deficiency in cannabis Many standard nutrients contain high levels of Nitrogen and are usually a quick fix. Fish-based nutrients are often rich in nitrogen-containing amines. Check that your nutrient pH is OK. Consider a light foliar feed spray with a nitrogen rich nutrient, such as a seaweed or fish based foliar spray. Cannabis leaves can absorb small amounts of nutrients directly through the leaf surface. This makes foliar feeding a great option.</p>"
      ],
      "text/plain": [
       "<IPython.core.display.HTML object>"
      ]
     },
     "metadata": {},
     "output_type": "display_data"
    },
    {
     "data": {
      "text/html": [
       "<h2>Phosphorus deficiency in cannabis</h2>"
      ],
      "text/plain": [
       "<IPython.core.display.HTML object>"
      ]
     },
     "metadata": {},
     "output_type": "display_data"
    },
    {
     "data": {
      "text/html": [
       "<img src=\"https://dutch-passion.com/img/cms/Blogs/PHOSPHORUS.jpg\" width=\"300\" height=\"300\"/>"
      ],
      "text/plain": [
       "<IPython.core.display.Image object>"
      ]
     },
     "metadata": {},
     "output_type": "display_data"
    },
    {
     "data": {
      "text/html": [
       "<p>Just like Nitrogen, Phosphorus (chemical Symbol ‘P’) is a mobile macronutrient which is essential to plant health and growth. It is used in the formation of plant proteins, plant DNA and is essential for proper photosynthesis to occur.</p>"
      ],
      "text/plain": [
       "<IPython.core.display.HTML object>"
      ]
     },
     "metadata": {},
     "output_type": "display_data"
    },
    {
     "data": {
      "text/html": [
       "<img src=\"https://dutch-passion.com/img/cms/Blogs/PHOSPHOROUS-deficiency plant and leaf.jpg\" width=\"300\" height=\"300\"/>"
      ],
      "text/plain": [
       "<IPython.core.display.Image object>"
      ]
     },
     "metadata": {},
     "output_type": "display_data"
    },
    {
     "data": {
      "text/html": [
       "<p>Symptoms If you have ever seen dry leaves with areas of brown discolouration then you may well have seen Phosphorus deficiency yourself. It may also cause red/purple collations (or dead spots) in the petioles (leaf stems). The leaves may subsequently take on a dark blue/green hue. If left unchecked, Phosphorus deficiency slows vertical and horizontal growth significantly. Dark, blackish spots can appear on leaves. Leaves can curl and drop, possibly showing hints of a metallic purple or a dark bronze appearance.</p>"
      ],
      "text/plain": [
       "<IPython.core.display.HTML object>"
      ]
     },
     "metadata": {},
     "output_type": "display_data"
    },
    {
     "data": {
      "text/html": [
       "<p>How to treat it Keeping your pH nearer the acidic side (closer to pH 6) can help increase bio-availability. Adding a Phosphorus rich feed/fertiliser is recommended. Fish meal or worm castings are a good organic alternative. Ensure your temperatures are in range, cool temperatures seem to make it more difficult for effective Phosphorus uptake. Ensure you’re not over-watering.</p>"
      ],
      "text/plain": [
       "<IPython.core.display.HTML object>"
      ]
     },
     "metadata": {},
     "output_type": "display_data"
    },
    {
     "data": {
      "text/html": [
       "<p>How to prevent it Try to use a grow medium rich in Phosphorus. To make the soil easier to grow in and easier to use, try using a well aerated grow container such as an airpot which will allow better soil oxygenation levels. Perhaps some manure (well rotted) in your compost will help. Use of beneficial mycorrhizal fungi will help with overall soil health. The microbes may also help convert less soluble phosphates into soluble forms which are easier for your cannabis plant to absorb and utilise.</p>"
      ],
      "text/plain": [
       "<IPython.core.display.HTML object>"
      ]
     },
     "metadata": {},
     "output_type": "display_data"
    },
    {
     "data": {
      "text/html": [
       "<h2>Potassium deficiency in cannabis</h2>"
      ],
      "text/plain": [
       "<IPython.core.display.HTML object>"
      ]
     },
     "metadata": {},
     "output_type": "display_data"
    },
    {
     "data": {
      "text/html": [
       "<img src=\"https://dutch-passion.com/img/cms/Blogs/POTASSIUM.jpg\" width=\"300\" height=\"300\"/>"
      ],
      "text/plain": [
       "<IPython.core.display.Image object>"
      ]
     },
     "metadata": {},
     "output_type": "display_data"
    },
    {
     "data": {
      "text/html": [
       "<p>Alongside Phosphorus and Nitrogen, Potassium (chemical symbols is ‘K’) is the other main mobile macronutrient used by the cannabis plant. Potassium is vital for the synthesis and transportation of sugars and simple carbohydrates. Potassium is also required to enable transpiration/water uptake as well as root growth and cell division. Potassium is also vital for the production of Adenosine Triphosphate (‘ATP’) which is a measure of cellular energy.</p>"
      ],
      "text/plain": [
       "<IPython.core.display.HTML object>"
      ]
     },
     "metadata": {},
     "output_type": "display_data"
    },
    {
     "data": {
      "text/html": [
       "<img src=\"https://dutch-passion.com/img/cms/Blogs/POTASSIUM-deficiency-leaf-and-plant.jpg\" width=\"300\" height=\"300\"/>"
      ],
      "text/plain": [
       "<IPython.core.display.Image object>"
      ]
     },
     "metadata": {},
     "output_type": "display_data"
    },
    {
     "data": {
      "text/html": [
       "<p>Symptoms You may see curling leaves as well as brown and yellow colours on leaf tips and leaf edges. Your plants may stretch more than normal with a Potassium deficiency.</p>"
      ],
      "text/plain": [
       "<IPython.core.display.HTML object>"
      ]
     },
     "metadata": {},
     "output_type": "display_data"
    },
    {
     "data": {
      "text/html": [
       "<p>How to treat it Some growers like to flush their grow medium to ensure they are not dealing with other issues, such as overfeeding which can interfere with Potassium uptake. Chicken manure as a top dressing to your grow medium can help, as can a Potassium rich nutrient feed or foliar feed. Organic seaweed is particularly useful as a foliar feed.</p>"
      ],
      "text/plain": [
       "<IPython.core.display.HTML object>"
      ]
     },
     "metadata": {},
     "output_type": "display_data"
    },
    {
     "data": {
      "text/html": [
       "<h2>Magnesium deficiency in cannabis</h2>"
      ],
      "text/plain": [
       "<IPython.core.display.HTML object>"
      ]
     },
     "metadata": {},
     "output_type": "display_data"
    },
    {
     "data": {
      "text/html": [
       "<img src=\"https://dutch-passion.com/img/cms/Blogs/magnesium.jpg\" width=\"300\" height=\"300\"/>"
      ],
      "text/plain": [
       "<IPython.core.display.Image object>"
      ]
     },
     "metadata": {},
     "output_type": "display_data"
    },
    {
     "data": {
      "text/html": [
       "<p>Magnesium (chemical symbol ‘Mg’) is a mobile micronutrient. It is essential for photosynthesis and is used to make the vital chlorophyll pigment. Without Magnesium, chlorophyll and photosynthesis simply can’t happen.</p>"
      ],
      "text/plain": [
       "<IPython.core.display.HTML object>"
      ]
     },
     "metadata": {},
     "output_type": "display_data"
    },
    {
     "data": {
      "text/html": [
       "<img src=\"https://dutch-passion.com/img/cms/Blogs/mag-deficiency.jpg\" width=\"300\" height=\"300\"/>"
      ],
      "text/plain": [
       "<IPython.core.display.Image object>"
      ]
     },
     "metadata": {},
     "output_type": "display_data"
    },
    {
     "data": {
      "text/html": [
       "<p>Symptoms The leaves start to show yellow spots which eventually turn brown causing leaves to die. Areas between the veins of older leaves turn yellow (interveinal chlorosis) and may also show rust coloured spots. If left untreated, Magnesium deficiency can seriously diminish a plants ability to produce any type of harvest.</p>"
      ],
      "text/plain": [
       "<IPython.core.display.HTML object>"
      ]
     },
     "metadata": {},
     "output_type": "display_data"
    },
    {
     "data": {
      "text/html": [
       "<p>How to treat it If pH is outside the desired range, flush your grow medium with water (preferably at pH 6 or thereabouts). Epsom salts are often used to fix the problem. Try adding a teaspoon of epsom salts to a litre of water and seeing how your plants respond to a feed. Some people benefit from water with naturally high levels of Magnesium. Try doing a google search for water analysis where you live. In many countries, water analysis has to be legally available, showing you the precise levels of trace minerals that you can typically expect to be present. But remember, water composition and pH can vary at different times of the year.</p>"
      ],
      "text/plain": [
       "<IPython.core.display.HTML object>"
      ]
     },
     "metadata": {},
     "output_type": "display_data"
    },
    {
     "data": {
      "text/html": [
       "<p>How to prevent Magnesium deficiency As with all cannabis deficiencies, prevention is better than cure. By the time you see the signs of a Magnesium deficiency your plant may already have been feeling the effects for a month or so. Use good quality compost, large containers will contain more grow nutrients than small containers. You may wish to include some powdered dolomite limestone mixed into your grow medium. This is Magnesium-rich and slowly breaks down releasing Magnesium for the roots to uptake. Specialist Calcium/Magnesium rich nutrients can also be bought in grow shops.</p>"
      ],
      "text/plain": [
       "<IPython.core.display.HTML object>"
      ]
     },
     "metadata": {},
     "output_type": "display_data"
    },
    {
     "data": {
      "text/html": [
       "<h2>Calcium deficiency in cannabis</h2>"
      ],
      "text/plain": [
       "<IPython.core.display.HTML object>"
      ]
     },
     "metadata": {},
     "output_type": "display_data"
    },
    {
     "data": {
      "text/html": [
       "<img src=\"https://dutch-passion.com/img/cms/Blogs/Calcium.jpg\" width=\"300\" height=\"300\"/>"
      ],
      "text/plain": [
       "<IPython.core.display.Image object>"
      ]
     },
     "metadata": {},
     "output_type": "display_data"
    },
    {
     "data": {
      "text/html": [
       "<p>Calcium (chemical symbol ‘Ca’) is an immobile micronutrient, but one which has an essential role in the plant structure. Calcium helps fortify the cell walls. A Calcium deficiency can therefore result in warped structure/lack of structure to new growth. Calcium also helps the flow of Nitrogen and sugars through the plant.</p>"
      ],
      "text/plain": [
       "<IPython.core.display.HTML object>"
      ]
     },
     "metadata": {},
     "output_type": "display_data"
    },
    {
     "data": {
      "text/html": [
       "<img src=\"https://dutch-passion.com/img/cms/Blogs/calcium-deficiency.jpg\" width=\"300\" height=\"300\"/>"
      ],
      "text/plain": [
       "<IPython.core.display.Image object>"
      ]
     },
     "metadata": {},
     "output_type": "display_data"
    },
    {
     "data": {
      "text/html": [
       "<p>Symptoms Leaves, especially lower ones can curl and take on unusual shapes. You may also observe yellow/brown spots. These can have brown borders and will grow over time as the problem continues. Root health is also damaged by Calcium deficiency, root tips will slowly die. The result is a stunted plant which will struggle to recover in the worst cases.</p>"
      ],
      "text/plain": [
       "<IPython.core.display.HTML object>"
      ]
     },
     "metadata": {},
     "output_type": "display_data"
    },
    {
     "data": {
      "text/html": [
       "<p>How to treat it A Calcium/Magnesium nutrient supplement is a fast and direct solution. Ensure your feed pH hasn't become too alkaline and is in range. If you don't have a Ca/Mg supplement, you can try adding a teaspoon of hydrated lime to around 4 litres of water and using this as a feed. A good way to prevent Calcium deficiency (prevention is always better than cure) is to add some powdered dolomite lime to your grow medium.</p>"
      ],
      "text/plain": [
       "<IPython.core.display.HTML object>"
      ]
     },
     "metadata": {},
     "output_type": "display_data"
    },
    {
     "data": {
      "text/html": [
       "<h2>Boron deficiency in cannabis</h2>"
      ],
      "text/plain": [
       "<IPython.core.display.HTML object>"
      ]
     },
     "metadata": {},
     "output_type": "display_data"
    },
    {
     "data": {
      "text/html": [
       "<img src=\"https://dutch-passion.com/img/cms/Blogs/Boron.jpg\" width=\"300\" height=\"300\"/>"
      ],
      "text/plain": [
       "<IPython.core.display.Image object>"
      ]
     },
     "metadata": {},
     "output_type": "display_data"
    },
    {
     "data": {
      "text/html": [
       "<p>Boron (chemical symbol ‘B’) is used together with Calcium to ensure healthy cell walls and effective cell division. Boron is an immobile macronutrient. It is required in small amounts, so it is one of the less common cannabis nutrient deficiencies to see. Most good quality soils/compost contain sufficient Boron.</p>"
      ],
      "text/plain": [
       "<IPython.core.display.HTML object>"
      ]
     },
     "metadata": {},
     "output_type": "display_data"
    },
    {
     "data": {
      "text/html": [
       "<img src=\"https://dutch-passion.com/img/cms/Blogs/Boron-deficiency.jpg\" width=\"300\" height=\"300\"/>"
      ],
      "text/plain": [
       "<IPython.core.display.Image object>"
      ]
     },
     "metadata": {},
     "output_type": "display_data"
    },
    {
     "data": {
      "text/html": [
       "<p>Symptoms A lack of Boron will produce a plant that looks like it’s wilting, the technical term is lack of turgor. Vegetative growth will be poor, new growth can appear twisted. The leaves can show a yellow/brownish discolouration.</p>"
      ],
      "text/plain": [
       "<IPython.core.display.HTML object>"
      ]
     },
     "metadata": {},
     "output_type": "display_data"
    },
    {
     "data": {
      "text/html": [
       "<p>How to treat it Flush your grow medium and add some extra Boron. This is done by adding a teaspoon of Boric acid to 3-4 litres of water and feeding to your plant.</p>"
      ],
      "text/plain": [
       "<IPython.core.display.HTML object>"
      ]
     },
     "metadata": {},
     "output_type": "display_data"
    },
    {
     "data": {
      "text/html": [
       "<h2>Copper deficiency in cannabis</h2>"
      ],
      "text/plain": [
       "<IPython.core.display.HTML object>"
      ]
     },
     "metadata": {},
     "output_type": "display_data"
    },
    {
     "data": {
      "text/html": [
       "<img src=\"https://dutch-passion.com/img/cms/Blogs/Copper.jpg\" width=\"300\" height=\"300\"/>"
      ],
      "text/plain": [
       "<IPython.core.display.Image object>"
      ]
     },
     "metadata": {},
     "output_type": "display_data"
    },
    {
     "data": {
      "text/html": [
       "<p>Copper (chemical symbols ‘Cu’) is a macro nutrient which is semi-mobile. It helps the plant utilise Nitrogen as well as assisting in the metabolism of carbohydrates. It’s unusual to see genuine cases of copper deficiency, most grow mediums and feeds have sufficient Copper for the plant requirements.</p>"
      ],
      "text/plain": [
       "<IPython.core.display.HTML object>"
      ]
     },
     "metadata": {},
     "output_type": "display_data"
    },
    {
     "data": {
      "text/html": [
       "<p>Symptoms You will see slow wilting occurring. New growth can appear to twist and turn as it grows.</p>"
      ],
      "text/plain": [
       "<IPython.core.display.HTML object>"
      ]
     },
     "metadata": {},
     "output_type": "display_data"
    },
    {
     "data": {
      "text/html": [
       "<p>How to treat it Treating deficiencies of mobile macronutrients such as Nitrogen, Phosphorus and Potassium is more straightforward than treating more complicated deficiencies involving micro nutrients of heavier metals such as Molybdenum, Iron, Copper etc. Getting the correct dosing required, and the correct form of the mineral isn’t easy. Who really wants to be dosing their cannabis plants with heavy metals when they plan to be smoking the weed a few weeks later? Prevention of these deficiencies is the only real way to go.</p>"
      ],
      "text/plain": [
       "<IPython.core.display.HTML object>"
      ]
     },
     "metadata": {},
     "output_type": "display_data"
    },
    {
     "data": {
      "text/html": [
       "<h2>Iron deficiency in cannabis</h2>"
      ],
      "text/plain": [
       "<IPython.core.display.HTML object>"
      ]
     },
     "metadata": {},
     "output_type": "display_data"
    },
    {
     "data": {
      "text/html": [
       "<img src=\"https://dutch-passion.com/img/cms/Blogs/Iron.jpg\" width=\"300\" height=\"300\"/>"
      ],
      "text/plain": [
       "<IPython.core.display.Image object>"
      ]
     },
     "metadata": {},
     "output_type": "display_data"
    },
    {
     "data": {
      "text/html": [
       "<p>Iron (chemical symbol ‘Fe’) is a semi-mobile macro nutrient. It is necessary in the use of nitrates (Nitrogen containing) and sulphates (Sulphur containing) compounds. Iron is also required for the production of chlorophyll. Iron deficiencies can occur if pH is out of range. It can also be caused by excess Zinc, Manganese or Copper. All of these can interfere with Iron uptake. Iron is an important mineral for processes involved in general metabolic and energy-forming processes.</p>"
      ],
      "text/plain": [
       "<IPython.core.display.HTML object>"
      ]
     },
     "metadata": {},
     "output_type": "display_data"
    },
    {
     "data": {
      "text/html": [
       "<img src=\"https://dutch-passion.com/img/cms/Blogs/iron-deficiency-leaf-and-plant.jpg\" width=\"300\" height=\"300\"/>"
      ],
      "text/plain": [
       "<IPython.core.display.Image object>"
      ]
     },
     "metadata": {},
     "output_type": "display_data"
    },
    {
     "data": {
      "text/html": [
       "<p>Symptoms Symptoms of Iron deficiency can initially appear in new plant growth. Interveinal chlorosis can appear at the base of new leaves. After this, the same symptoms can be seen through the leaves and older growth. Overall yellowing between the leaf veins is a good indicator of Iron deficiency.</p>"
      ],
      "text/plain": [
       "<IPython.core.display.HTML object>"
      ]
     },
     "metadata": {},
     "output_type": "display_data"
    },
    {
     "data": {
      "text/html": [
       "<h2>Manganese deficiency in cannabis</h2>"
      ],
      "text/plain": [
       "<IPython.core.display.HTML object>"
      ]
     },
     "metadata": {},
     "output_type": "display_data"
    },
    {
     "data": {
      "text/html": [
       "<img src=\"https://dutch-passion.com/img/cms/Blogs/Manganese.jpg\" width=\"300\" height=\"300\"/>"
      ],
      "text/plain": [
       "<IPython.core.display.Image object>"
      ]
     },
     "metadata": {},
     "output_type": "display_data"
    },
    {
     "data": {
      "text/html": [
       "<p>Manganese (‘Mn’) is an immobile micronutrient. It helps with several important cell functions including nitrogen use, respiration and photosynthesis. Root cell growth is aided by Manganese, which also protects roots from less useful/bad microbes. It’s unusual to see genuine cases of Manganese deficiency. Often it is related to excess Iron or high pH.</p>"
      ],
      "text/plain": [
       "<IPython.core.display.HTML object>"
      ]
     },
     "metadata": {},
     "output_type": "display_data"
    },
    {
     "data": {
      "text/html": [
       "<img src=\"https://dutch-passion.com/img/cms/Blogs/Manganese-deficiency.jpg\" width=\"300\" height=\"300\"/>"
      ],
      "text/plain": [
       "<IPython.core.display.Image object>"
      ]
     },
     "metadata": {},
     "output_type": "display_data"
    },
    {
     "data": {
      "text/html": [
       "<p>Symptoms Just like other immobile nutrient deficiencies, Manganese deficiency tends to show up as pale discolouration (chlorosis) near the base of new plant growth. This can eventually spread out to effect the tips of leaves and brown (necrotic) spots start to appear, eventually on older leaves. The leaf margins and veins can appear green while the interveinal areas can start to yellow.</p>"
      ],
      "text/plain": [
       "<IPython.core.display.HTML object>"
      ]
     },
     "metadata": {},
     "output_type": "display_data"
    },
    {
     "data": {
      "text/html": [
       "<h2>Molybdenum deficiency in cannabis</h2>"
      ],
      "text/plain": [
       "<IPython.core.display.HTML object>"
      ]
     },
     "metadata": {},
     "output_type": "display_data"
    },
    {
     "data": {
      "text/html": [
       "<img src=\"https://dutch-passion.com/img/cms/Blogs/Molybdenum.jpg\" width=\"300\" height=\"300\"/>"
      ],
      "text/plain": [
       "<IPython.core.display.Image object>"
      ]
     },
     "metadata": {},
     "output_type": "display_data"
    },
    {
     "data": {
      "text/html": [
       "<p>Molybdenum (chemical symbol ‘Mo’) is a mobile micronutrient. It is essential for the correct function of two important enzyme systems which convert nitrates to ammonium compounds (for amino acid formation and subsequent plant protein production). Again, genuine deficiencies are rare and difficult to correct.</p>"
      ],
      "text/plain": [
       "<IPython.core.display.HTML object>"
      ]
     },
     "metadata": {},
     "output_type": "display_data"
    },
    {
     "data": {
      "text/html": [
       "<img src=\"https://dutch-passion.com/img/cms/Blogs/Molybdenum-deficiency-leaf-plant.jpg\" width=\"300\" height=\"300\"/>"
      ],
      "text/plain": [
       "<IPython.core.display.Image object>"
      ]
     },
     "metadata": {},
     "output_type": "display_data"
    },
    {
     "data": {
      "text/html": [
       "<p>Symptoms Genuine deficiencies are scarce, they can be exacerbated by cold weather. You may see a yellowing of older leaves which may also show interveinal chlorosis. The leaves may ‘cup’ and curl upwards before twisting and dying.</p>"
      ],
      "text/plain": [
       "<IPython.core.display.HTML object>"
      ]
     },
     "metadata": {},
     "output_type": "display_data"
    },
    {
     "data": {
      "text/html": [
       "<h2>Silicon deficiency in cannabis</h2>"
      ],
      "text/plain": [
       "<IPython.core.display.HTML object>"
      ]
     },
     "metadata": {},
     "output_type": "display_data"
    },
    {
     "data": {
      "text/html": [
       "<p>Silicon is an immobile micronutrient which has attracted a lot of attention in recent years. Genuine cases of Silicon deficiency are uncommon. It’s a mineral that strengthens cellular walls, allowing sturdy growth and strong plants. Specialist liquid Silicon feeds are available, though most growers use them in the hope of stronger plants rather than for trying to fix a deficiency.</p>"
      ],
      "text/plain": [
       "<IPython.core.display.HTML object>"
      ]
     },
     "metadata": {},
     "output_type": "display_data"
    },
    {
     "data": {
      "text/html": [
       "<h2>Sulfur deficiency in cannabis</h2>"
      ],
      "text/plain": [
       "<IPython.core.display.HTML object>"
      ]
     },
     "metadata": {},
     "output_type": "display_data"
    },
    {
     "data": {
      "text/html": [
       "<img src=\"https://dutch-passion.com/img/cms/Blogs/Sulfur.jpg\" width=\"300\" height=\"300\"/>"
      ],
      "text/plain": [
       "<IPython.core.display.Image object>"
      ]
     },
     "metadata": {},
     "output_type": "display_data"
    },
    {
     "data": {
      "text/html": [
       "<p>Sulphur (or Sulfur) is a critical immobile micronutrient. It’s used for vital enzymes and proteins. Sulphur is essential to plant respiration as well as for the synthesis and breakdown of fatty acids. It also plays an important role in the synthesis of oils and terpenes. Deficiencies of Sulphur may be caused by the loss of Phosphorous (due to a high pH level) in the root zone.</p>"
      ],
      "text/plain": [
       "<IPython.core.display.HTML object>"
      ]
     },
     "metadata": {},
     "output_type": "display_data"
    },
    {
     "data": {
      "text/html": [
       "<img src=\"https://dutch-passion.com/img/cms/Blogs/sulfur-deficiency-plant-leafs.jpg\" width=\"300\" height=\"300\"/>"
      ],
      "text/plain": [
       "<IPython.core.display.Image object>"
      ]
     },
     "metadata": {},
     "output_type": "display_data"
    },
    {
     "data": {
      "text/html": [
       "<p>Symptoms It’s uncommon to see Sulphur deficiency, but if you have it you may see young leaves turning lime green before turning yellow. You may observe stunted growth followed by the gradual yellowing of leaf veins. The leaves may also be dry and brittle. Continued deficiency results in lowered potency and inferior yields.</p>"
      ],
      "text/plain": [
       "<IPython.core.display.HTML object>"
      ]
     },
     "metadata": {},
     "output_type": "display_data"
    },
    {
     "data": {
      "text/html": [
       "<h2>Zinc deficiency in cannabis</h2>"
      ],
      "text/plain": [
       "<IPython.core.display.HTML object>"
      ]
     },
     "metadata": {},
     "output_type": "display_data"
    },
    {
     "data": {
      "text/html": [
       "<img src=\"https://dutch-passion.com/img/cms/Blogs/Zinc.jpg\" width=\"300\" height=\"300\"/>"
      ],
      "text/plain": [
       "<IPython.core.display.Image object>"
      ]
     },
     "metadata": {},
     "output_type": "display_data"
    },
    {
     "data": {
      "text/html": [
       "<p>Zinc (chemical symbols Zn) is a metallic immobile micro nutrient. It’s important for the production of sugar and protein. Zinc is also used to make chlorophyll as well as for healthy stem growth. Deficiencies can be seen especially where alkaline soils and dry climates are present. It may also be the result of acidic pH levels. Zinc is only required in small quantities, but it is vital for the formation of cell membranes, proteins and plant growth hormones.</p>"
      ],
      "text/plain": [
       "<IPython.core.display.HTML object>"
      ]
     },
     "metadata": {},
     "output_type": "display_data"
    },
    {
     "data": {
      "text/html": [
       "<img src=\"https://dutch-passion.com/img/cms/Blogs/Zinc-deficiency.jpg\" width=\"300\" height=\"300\"/>"
      ],
      "text/plain": [
       "<IPython.core.display.Image object>"
      ]
     },
     "metadata": {},
     "output_type": "display_data"
    },
    {
     "data": {
      "text/html": [
       "<p>Symptoms New leaves and new plant growth tend to show interveinal chlorosis. The blades of the cannabis leaf may look wrinkled, yellow and distorted. The leaf tips will discolor (yellow) and may show brown burn at the tips. The leaves may rotate 90º sideways.</p>"
      ],
      "text/plain": [
       "<IPython.core.display.HTML object>"
      ]
     },
     "metadata": {},
     "output_type": "display_data"
    },
    {
     "data": {
      "text/html": [
       "<h2>Diagnosing common cannabis plant problems</h2>"
      ],
      "text/plain": [
       "<IPython.core.display.HTML object>"
      ]
     },
     "metadata": {},
     "output_type": "display_data"
    },
    {
     "data": {
      "text/html": [
       "<p>The problem with emerging plant health issues is that they can be easily confused and misidentified. Many deficiencies, for example, involve the leaves yellowing in one way or another. Misdiagnosing the problem may well leave the problem unfixed - the plant continues to struggle and may even develop new issues as a result of the incorrect treatment provided.</p>"
      ],
      "text/plain": [
       "<IPython.core.display.HTML object>"
      ]
     },
     "metadata": {},
     "output_type": "display_data"
    },
    {
     "data": {
      "text/html": [
       "<p>Simply overwatering your plant and leaving it a cold room may also result in yellowing/browning of leaves. This could be misidentified as a deficiency of nutrients/minerals. The experienced grower tends to avoid cannabis deficiencies by preparing for the grow with the right conditions, a consistent grow medium and reliable nutrients.</p>"
      ],
      "text/plain": [
       "<IPython.core.display.HTML object>"
      ]
     },
     "metadata": {},
     "output_type": "display_data"
    },
    {
     "data": {
      "text/html": [
       "<p>A grower that regularly experiences nutrient deficiencies when growing in 5 litre soil containers might find that switching to a larger grow container of around 20 litres helps. The cannabis roots have a larger reserve of nutrients to use, this allows them to develop a larger and stronger root network and build a larger plant with less risk of deficiencies. Another useful tip might be to use some slow release organic nutrients which will gradually replenish the soil health. BioTabs offer some highly recommended slow release organic nutrients which produce great results and should prevent the risk of nutrient deficiencies.</p>"
      ],
      "text/plain": [
       "<IPython.core.display.HTML object>"
      ]
     },
     "metadata": {},
     "output_type": "display_data"
    },
    {
     "data": {
      "text/html": [
       "<p>Growers using hydroponic systems may find that refreshing their nutrient reservoir more frequently reduces the risk of their tank running low in an important nutrient.</p>"
      ],
      "text/plain": [
       "<IPython.core.display.HTML object>"
      ]
     },
     "metadata": {},
     "output_type": "display_data"
    },
    {
     "data": {
      "text/html": [
       "<img src=\"https://dutch-passion.com/img/cms/Blogs/Biotabs-starterkit-image.jpg\" width=\"300\" height=\"300\"/>"
      ],
      "text/plain": [
       "<IPython.core.display.Image object>"
      ]
     },
     "metadata": {},
     "output_type": "display_data"
    },
    {
     "data": {
      "text/html": [
       "<h2>How to keep cannabis plants healthy throughout their lifecycle</h2>"
      ],
      "text/plain": [
       "<IPython.core.display.HTML object>"
      ]
     },
     "metadata": {},
     "output_type": "display_data"
    },
    {
     "data": {
      "text/html": [
       "<p>Nutrient management is one of the key skills for any successful cannabis grower. Finding a grow method/system that works consistently well for you is one of the basics of cannabis growing. Likewise, finding a nutrient supplier you can trust is vital. Fortunately, the vast majority of growers find that growing cannabis is easy. It’s called weed for good reasons, and can be grown successfully in a wide range of grow medium and grow systems.</p>"
      ],
      "text/plain": [
       "<IPython.core.display.HTML object>"
      ]
     },
     "metadata": {},
     "output_type": "display_data"
    },
    {
     "data": {
      "text/html": [
       "<p>You can grow weed indoors, in a greenhouse or outdoors. If you use nutrients from any of the larger, established, suppliers you should get good results. Many nutrient companies have been selling proven nutrients for many years with solid, consistent results. If you have a good local grow shop you should find plenty of qualified help.</p>"
      ],
      "text/plain": [
       "<IPython.core.display.HTML object>"
      ]
     },
     "metadata": {},
     "output_type": "display_data"
    }
   ],
   "source": [
    "import pandas as pd\n",
    "from IPython.display import display, Image, HTML\n",
    "\n",
    "# Load the scraped data\n",
    "data = pd.read_json('images.json')\n",
    "# Function to display images and text for each label\n",
    "def display_content(data):\n",
    "    for index, row in data.iterrows():\n",
    "        label = row['label']\n",
    "        content = row['content']\n",
    "        display(HTML(f\"<h2>{label}</h2>\"))\n",
    "        for section in content:\n",
    "            if section['images']:\n",
    "                for img in section['images']:\n",
    "                    display(Image(url=img['image_url'], width=300, height=300))\n",
    "            if section['text']:\n",
    "                display(HTML(f\"<p>{section['text']}</p>\"))\n",
    "\n",
    "# Display the content\n",
    "display_content(data)\n",
    "\n"
   ]
  },
  {
   "cell_type": "code",
   "execution_count": 28,
   "metadata": {},
   "outputs": [
    {
     "data": {
      "text/html": [
       "<h2><h2><span style=\"font-weight: 400;\">What Causes Cannabis Deficiencies? </span></h2></h2>"
      ],
      "text/plain": [
       "<IPython.core.display.HTML object>"
      ]
     },
     "metadata": {},
     "output_type": "display_data"
    },
    {
     "data": {
      "text/html": [
       "<h2><h2><span style=\"font-weight: 400;\">The Proper pH Level for Cannabis</span></h2></h2>"
      ],
      "text/plain": [
       "<IPython.core.display.HTML object>"
      ]
     },
     "metadata": {},
     "output_type": "display_data"
    },
    {
     "data": {
      "text/html": [
       "<h2><h2><span style=\"font-weight: 400;\">Macro vs micronutrients </span></h2></h2>"
      ],
      "text/plain": [
       "<IPython.core.display.HTML object>"
      ]
     },
     "metadata": {},
     "output_type": "display_data"
    },
    {
     "data": {
      "text/html": [
       "<h2><h2><span style=\"font-weight: 400;\">Mobile vs immobile nutrients</span></h2></h2>"
      ],
      "text/plain": [
       "<IPython.core.display.HTML object>"
      ]
     },
     "metadata": {},
     "output_type": "display_data"
    },
    {
     "data": {
      "text/html": [
       "<h2><h2><span style=\"font-weight: 400;\">How to prevent and fix common cannabis deficiencies</span></h2></h2>"
      ],
      "text/plain": [
       "<IPython.core.display.HTML object>"
      ]
     },
     "metadata": {},
     "output_type": "display_data"
    },
    {
     "data": {
      "text/html": [
       "<h2><h3><span style=\"font-weight: 400;\"><img decoding=\"async\" class=\"alignnone size-full wp-image-9711\" src=\"https://humboldtseedcompany.com/wp-content/uploads/2023/07/Calcium-Ca-deficiency.png\" alt=\"Calcium (Ca) deficiency chart for cannabis plant\" width=\"512\" height=\"292\" srcset=\"https://humboldtseedcompany.com/wp-content/uploads/2023/07/Calcium-Ca-deficiency-200x114.png 200w, https://humboldtseedcompany.com/wp-content/uploads/2023/07/Calcium-Ca-deficiency-300x171.png 300w, https://humboldtseedcompany.com/wp-content/uploads/2023/07/Calcium-Ca-deficiency-400x228.png 400w, https://humboldtseedcompany.com/wp-content/uploads/2023/07/Calcium-Ca-deficiency.png 512w\" sizes=\"(max-width: 512px) 100vw, 512px\"><br>\n",
       "Calcium (Ca) deficiency</span></h3></h2>"
      ],
      "text/plain": [
       "<IPython.core.display.HTML object>"
      ]
     },
     "metadata": {},
     "output_type": "display_data"
    },
    {
     "data": {
      "text/html": [
       "<h2><h3><span style=\"font-weight: 400;\"><img decoding=\"async\" class=\"alignnone size-full wp-image-9710\" src=\"https://humboldtseedcompany.com/wp-content/uploads/2023/07/Boron-B-deficiency.png\" alt=\"Boron (B) deficiency chart for cannabis plant\" width=\"512\" height=\"292\" srcset=\"https://humboldtseedcompany.com/wp-content/uploads/2023/07/Boron-B-deficiency-200x114.png 200w, https://humboldtseedcompany.com/wp-content/uploads/2023/07/Boron-B-deficiency-300x171.png 300w, https://humboldtseedcompany.com/wp-content/uploads/2023/07/Boron-B-deficiency-400x228.png 400w, https://humboldtseedcompany.com/wp-content/uploads/2023/07/Boron-B-deficiency.png 512w\" sizes=\"(max-width: 512px) 100vw, 512px\"></span></h3></h2>"
      ],
      "text/plain": [
       "<IPython.core.display.HTML object>"
      ]
     },
     "metadata": {},
     "output_type": "display_data"
    },
    {
     "data": {
      "text/html": [
       "<h2><h3><span style=\"font-weight: 400;\">Boron (B) deficiency</span></h3></h2>"
      ],
      "text/plain": [
       "<IPython.core.display.HTML object>"
      ]
     },
     "metadata": {},
     "output_type": "display_data"
    },
    {
     "data": {
      "text/html": [
       "<h2><h3><span style=\"font-weight: 400;\"><img decoding=\"async\" class=\"alignnone size-full wp-image-9713\" src=\"https://humboldtseedcompany.com/wp-content/uploads/2023/07/Copper-Cu-deficiency.png\" alt=\"Copper (Cu) deficiency chart for cannabis plant\" width=\"512\" height=\"292\" srcset=\"https://humboldtseedcompany.com/wp-content/uploads/2023/07/Copper-Cu-deficiency-200x114.png 200w, https://humboldtseedcompany.com/wp-content/uploads/2023/07/Copper-Cu-deficiency-300x171.png 300w, https://humboldtseedcompany.com/wp-content/uploads/2023/07/Copper-Cu-deficiency-400x228.png 400w, https://humboldtseedcompany.com/wp-content/uploads/2023/07/Copper-Cu-deficiency.png 512w\" sizes=\"(max-width: 512px) 100vw, 512px\"></span></h3></h2>"
      ],
      "text/plain": [
       "<IPython.core.display.HTML object>"
      ]
     },
     "metadata": {},
     "output_type": "display_data"
    },
    {
     "data": {
      "text/html": [
       "<h2><h3><span style=\"font-weight: 400;\">Copper (Cu) deficiency</span></h3></h2>"
      ],
      "text/plain": [
       "<IPython.core.display.HTML object>"
      ]
     },
     "metadata": {},
     "output_type": "display_data"
    },
    {
     "data": {
      "text/html": [
       "<h2><h3><img decoding=\"async\" class=\"alignnone size-full wp-image-9714\" src=\"https://humboldtseedcompany.com/wp-content/uploads/2023/07/Iron-Fe-deficiency.png\" alt=\"Iron (Fe) deficiency chart for weed plants\" width=\"512\" height=\"292\" srcset=\"https://humboldtseedcompany.com/wp-content/uploads/2023/07/Iron-Fe-deficiency-200x114.png 200w, https://humboldtseedcompany.com/wp-content/uploads/2023/07/Iron-Fe-deficiency-300x171.png 300w, https://humboldtseedcompany.com/wp-content/uploads/2023/07/Iron-Fe-deficiency-400x228.png 400w, https://humboldtseedcompany.com/wp-content/uploads/2023/07/Iron-Fe-deficiency.png 512w\" sizes=\"(max-width: 512px) 100vw, 512px\"></h3></h2>"
      ],
      "text/plain": [
       "<IPython.core.display.HTML object>"
      ]
     },
     "metadata": {},
     "output_type": "display_data"
    },
    {
     "data": {
      "text/html": [
       "<h2><h3><span style=\"font-weight: 400;\">Iron (Fe) deficiency</span></h3></h2>"
      ],
      "text/plain": [
       "<IPython.core.display.HTML object>"
      ]
     },
     "metadata": {},
     "output_type": "display_data"
    },
    {
     "data": {
      "text/html": [
       "<h2><h3><img decoding=\"async\" class=\"alignnone size-full wp-image-9715\" src=\"https://humboldtseedcompany.com/wp-content/uploads/2023/07/Manganese-Mn-deficiency.png\" alt=\"Manganese (Mn) deficiency chart for marijuana plants\" width=\"512\" height=\"292\" srcset=\"https://humboldtseedcompany.com/wp-content/uploads/2023/07/Manganese-Mn-deficiency-200x114.png 200w, https://humboldtseedcompany.com/wp-content/uploads/2023/07/Manganese-Mn-deficiency-300x171.png 300w, https://humboldtseedcompany.com/wp-content/uploads/2023/07/Manganese-Mn-deficiency-400x228.png 400w, https://humboldtseedcompany.com/wp-content/uploads/2023/07/Manganese-Mn-deficiency.png 512w\" sizes=\"(max-width: 512px) 100vw, 512px\"></h3></h2>"
      ],
      "text/plain": [
       "<IPython.core.display.HTML object>"
      ]
     },
     "metadata": {},
     "output_type": "display_data"
    },
    {
     "data": {
      "text/html": [
       "<h2><h3><span style=\"font-weight: 400;\">Manganese (Mn) deficiency</span></h3></h2>"
      ],
      "text/plain": [
       "<IPython.core.display.HTML object>"
      ]
     },
     "metadata": {},
     "output_type": "display_data"
    },
    {
     "data": {
      "text/html": [
       "<h2><h3><img decoding=\"async\" class=\"alignnone size-full wp-image-9723\" src=\"https://humboldtseedcompany.com/wp-content/uploads/2023/07/Magnesium-Mg-deficiency-1.png\" alt=\"Magnesium (Mg) deficiency in cannabis plant\" width=\"512\" height=\"292\" srcset=\"https://humboldtseedcompany.com/wp-content/uploads/2023/07/Magnesium-Mg-deficiency-1-200x114.png 200w, https://humboldtseedcompany.com/wp-content/uploads/2023/07/Magnesium-Mg-deficiency-1-300x171.png 300w, https://humboldtseedcompany.com/wp-content/uploads/2023/07/Magnesium-Mg-deficiency-1-400x228.png 400w, https://humboldtseedcompany.com/wp-content/uploads/2023/07/Magnesium-Mg-deficiency-1.png 512w\" sizes=\"(max-width: 512px) 100vw, 512px\"></h3></h2>"
      ],
      "text/plain": [
       "<IPython.core.display.HTML object>"
      ]
     },
     "metadata": {},
     "output_type": "display_data"
    },
    {
     "data": {
      "text/html": [
       "<h2><h3><span style=\"font-weight: 400;\">Magnesium (Mg) deficiency</span></h3></h2>"
      ],
      "text/plain": [
       "<IPython.core.display.HTML object>"
      ]
     },
     "metadata": {},
     "output_type": "display_data"
    },
    {
     "data": {
      "text/html": [
       "<h2><h3><img decoding=\"async\" class=\"alignnone size-full wp-image-9717\" src=\"https://humboldtseedcompany.com/wp-content/uploads/2023/07/Molybdenum-Mb-deficiency.png\" alt=\"Molybdenum (Mb) deficiency chart for marijuana plants\" width=\"512\" height=\"292\" srcset=\"https://humboldtseedcompany.com/wp-content/uploads/2023/07/Molybdenum-Mb-deficiency-200x114.png 200w, https://humboldtseedcompany.com/wp-content/uploads/2023/07/Molybdenum-Mb-deficiency-300x171.png 300w, https://humboldtseedcompany.com/wp-content/uploads/2023/07/Molybdenum-Mb-deficiency-400x228.png 400w, https://humboldtseedcompany.com/wp-content/uploads/2023/07/Molybdenum-Mb-deficiency.png 512w\" sizes=\"(max-width: 512px) 100vw, 512px\"></h3></h2>"
      ],
      "text/plain": [
       "<IPython.core.display.HTML object>"
      ]
     },
     "metadata": {},
     "output_type": "display_data"
    },
    {
     "data": {
      "text/html": [
       "<h2><h3><span style=\"font-weight: 400;\">Molybdenum (Mb) deficiency</span></h3></h2>"
      ],
      "text/plain": [
       "<IPython.core.display.HTML object>"
      ]
     },
     "metadata": {},
     "output_type": "display_data"
    },
    {
     "data": {
      "text/html": [
       "<h2><h3><img decoding=\"async\" class=\"alignnone size-full wp-image-9718\" src=\"https://humboldtseedcompany.com/wp-content/uploads/2023/07/Phosphorus-P-deficiency.png\" alt=\"Phosphorus (P) deficiency chart for weed plants\" width=\"512\" height=\"292\" srcset=\"https://humboldtseedcompany.com/wp-content/uploads/2023/07/Phosphorus-P-deficiency-200x114.png 200w, https://humboldtseedcompany.com/wp-content/uploads/2023/07/Phosphorus-P-deficiency-300x171.png 300w, https://humboldtseedcompany.com/wp-content/uploads/2023/07/Phosphorus-P-deficiency-400x228.png 400w, https://humboldtseedcompany.com/wp-content/uploads/2023/07/Phosphorus-P-deficiency.png 512w\" sizes=\"(max-width: 512px) 100vw, 512px\"></h3></h2>"
      ],
      "text/plain": [
       "<IPython.core.display.HTML object>"
      ]
     },
     "metadata": {},
     "output_type": "display_data"
    },
    {
     "data": {
      "text/html": [
       "<h2><h3><span style=\"font-weight: 400;\">Phosphorus (P) deficiency</span></h3></h2>"
      ],
      "text/plain": [
       "<IPython.core.display.HTML object>"
      ]
     },
     "metadata": {},
     "output_type": "display_data"
    },
    {
     "data": {
      "text/html": [
       "<h2><h3><img decoding=\"async\" class=\"alignnone wp-image-9719 size-full\" src=\"https://humboldtseedcompany.com/wp-content/uploads/2023/07/Potassium-K-deficiency.png\" alt=\"potassium deficiency chart for cannabis plants with visual example\" width=\"512\" height=\"292\" srcset=\"https://humboldtseedcompany.com/wp-content/uploads/2023/07/Potassium-K-deficiency-200x114.png 200w, https://humboldtseedcompany.com/wp-content/uploads/2023/07/Potassium-K-deficiency-300x171.png 300w, https://humboldtseedcompany.com/wp-content/uploads/2023/07/Potassium-K-deficiency-400x228.png 400w, https://humboldtseedcompany.com/wp-content/uploads/2023/07/Potassium-K-deficiency.png 512w\" sizes=\"(max-width: 512px) 100vw, 512px\"></h3></h2>"
      ],
      "text/plain": [
       "<IPython.core.display.HTML object>"
      ]
     },
     "metadata": {},
     "output_type": "display_data"
    },
    {
     "data": {
      "text/html": [
       "<h2><h3><span style=\"font-weight: 400;\">Potassium (K) deficiency</span></h3></h2>"
      ],
      "text/plain": [
       "<IPython.core.display.HTML object>"
      ]
     },
     "metadata": {},
     "output_type": "display_data"
    },
    {
     "data": {
      "text/html": [
       "<h2><h3><img decoding=\"async\" class=\"alignnone size-full wp-image-9721\" src=\"https://humboldtseedcompany.com/wp-content/uploads/2023/07/Nitrogen-N-deficiency.png\" alt=\"Nitrogen (N) deficiency chart for cannabis plants with visual example\" width=\"512\" height=\"292\" srcset=\"https://humboldtseedcompany.com/wp-content/uploads/2023/07/Nitrogen-N-deficiency-200x114.png 200w, https://humboldtseedcompany.com/wp-content/uploads/2023/07/Nitrogen-N-deficiency-300x171.png 300w, https://humboldtseedcompany.com/wp-content/uploads/2023/07/Nitrogen-N-deficiency-400x228.png 400w, https://humboldtseedcompany.com/wp-content/uploads/2023/07/Nitrogen-N-deficiency.png 512w\" sizes=\"(max-width: 512px) 100vw, 512px\"></h3></h2>"
      ],
      "text/plain": [
       "<IPython.core.display.HTML object>"
      ]
     },
     "metadata": {},
     "output_type": "display_data"
    },
    {
     "data": {
      "text/html": [
       "<h2><h3><span style=\"font-weight: 400;\">Nitrogen (N) deficiency</span></h3></h2>"
      ],
      "text/plain": [
       "<IPython.core.display.HTML object>"
      ]
     },
     "metadata": {},
     "output_type": "display_data"
    },
    {
     "data": {
      "text/html": [
       "<h2><h3><span style=\"font-weight: 400;\">Silicon (Si) deficiency</span></h3></h2>"
      ],
      "text/plain": [
       "<IPython.core.display.HTML object>"
      ]
     },
     "metadata": {},
     "output_type": "display_data"
    },
    {
     "data": {
      "text/html": [
       "<h2><h3><img decoding=\"async\" class=\"alignnone size-full wp-image-9722\" src=\"https://humboldtseedcompany.com/wp-content/uploads/2023/07/Sulfur-S-deficiency.png\" alt=\"Sulfur (S) deficiency visual chart and guide for marijuana plants\" width=\"512\" height=\"292\" srcset=\"https://humboldtseedcompany.com/wp-content/uploads/2023/07/Sulfur-S-deficiency-200x114.png 200w, https://humboldtseedcompany.com/wp-content/uploads/2023/07/Sulfur-S-deficiency-300x171.png 300w, https://humboldtseedcompany.com/wp-content/uploads/2023/07/Sulfur-S-deficiency-400x228.png 400w, https://humboldtseedcompany.com/wp-content/uploads/2023/07/Sulfur-S-deficiency.png 512w\" sizes=\"(max-width: 512px) 100vw, 512px\"></h3></h2>"
      ],
      "text/plain": [
       "<IPython.core.display.HTML object>"
      ]
     },
     "metadata": {},
     "output_type": "display_data"
    },
    {
     "data": {
      "text/html": [
       "<h2><h3><span style=\"font-weight: 400;\">Sulfur (S) deficiency</span></h3></h2>"
      ],
      "text/plain": [
       "<IPython.core.display.HTML object>"
      ]
     },
     "metadata": {},
     "output_type": "display_data"
    },
    {
     "data": {
      "text/html": [
       "<h2><h3><img decoding=\"async\" class=\"alignnone size-full wp-image-9720\" src=\"https://humboldtseedcompany.com/wp-content/uploads/2023/07/Zinc-Zn-deficiency.png\" alt=\"how to identify a Zinc (Zn) deficiency in cannabis\" width=\"512\" height=\"292\" srcset=\"https://humboldtseedcompany.com/wp-content/uploads/2023/07/Zinc-Zn-deficiency-200x114.png 200w, https://humboldtseedcompany.com/wp-content/uploads/2023/07/Zinc-Zn-deficiency-300x171.png 300w, https://humboldtseedcompany.com/wp-content/uploads/2023/07/Zinc-Zn-deficiency-400x228.png 400w, https://humboldtseedcompany.com/wp-content/uploads/2023/07/Zinc-Zn-deficiency.png 512w\" sizes=\"(max-width: 512px) 100vw, 512px\"></h3></h2>"
      ],
      "text/plain": [
       "<IPython.core.display.HTML object>"
      ]
     },
     "metadata": {},
     "output_type": "display_data"
    },
    {
     "data": {
      "text/html": [
       "<h2><h3><span style=\"font-weight: 400;\">Zinc (Zn) deficiency</span></h3></h2>"
      ],
      "text/plain": [
       "<IPython.core.display.HTML object>"
      ]
     },
     "metadata": {},
     "output_type": "display_data"
    },
    {
     "data": {
      "text/html": [
       "<img src=\"<img decoding=\"async\" class=\"alignnone size-full wp-image-9712\" src=\"https://humboldtseedcompany.com/wp-content/uploads/2023/07/cannabis-nutrient-deficiencies-jpeg.webp\" alt=\"cannabis nutrient deficiencies\" width=\"384\" height=\"512\" srcset=\"https://humboldtseedcompany.com/wp-content/uploads/2023/07/cannabis-nutrient-deficiencies-200x267.webp 200w, https://humboldtseedcompany.com/wp-content/uploads/2023/07/cannabis-nutrient-deficiencies-225x300.webp 225w, https://humboldtseedcompany.com/wp-content/uploads/2023/07/cannabis-nutrient-deficiencies-jpeg.webp 384w\" sizes=\"(max-width: 384px) 100vw, 384px\">\" width=\"300\" height=\"300\"/>"
      ],
      "text/plain": [
       "<IPython.core.display.Image object>"
      ]
     },
     "metadata": {},
     "output_type": "display_data"
    },
    {
     "data": {
      "text/html": [
       "<img src=\"<img decoding=\"async\" class=\"alignnone size-full wp-image-9716\" src=\"https://humboldtseedcompany.com/wp-content/uploads/2023/07/Mobile-vs-immobile-nutrients.png\" alt=\"Mobile vs immobile nutrients\" width=\"512\" height=\"293\" srcset=\"https://humboldtseedcompany.com/wp-content/uploads/2023/07/Mobile-vs-immobile-nutrients-200x114.png 200w, https://humboldtseedcompany.com/wp-content/uploads/2023/07/Mobile-vs-immobile-nutrients-300x172.png 300w, https://humboldtseedcompany.com/wp-content/uploads/2023/07/Mobile-vs-immobile-nutrients-400x229.png 400w, https://humboldtseedcompany.com/wp-content/uploads/2023/07/Mobile-vs-immobile-nutrients.png 512w\" sizes=\"(max-width: 512px) 100vw, 512px\">\" width=\"300\" height=\"300\"/>"
      ],
      "text/plain": [
       "<IPython.core.display.Image object>"
      ]
     },
     "metadata": {},
     "output_type": "display_data"
    },
    {
     "data": {
      "text/html": [
       "<img src=\"<img decoding=\"async\" class=\"alignnone size-full wp-image-9711\" src=\"https://humboldtseedcompany.com/wp-content/uploads/2023/07/Calcium-Ca-deficiency.png\" alt=\"Calcium (Ca) deficiency chart for cannabis plant\" width=\"512\" height=\"292\" srcset=\"https://humboldtseedcompany.com/wp-content/uploads/2023/07/Calcium-Ca-deficiency-200x114.png 200w, https://humboldtseedcompany.com/wp-content/uploads/2023/07/Calcium-Ca-deficiency-300x171.png 300w, https://humboldtseedcompany.com/wp-content/uploads/2023/07/Calcium-Ca-deficiency-400x228.png 400w, https://humboldtseedcompany.com/wp-content/uploads/2023/07/Calcium-Ca-deficiency.png 512w\" sizes=\"(max-width: 512px) 100vw, 512px\">\" width=\"300\" height=\"300\"/>"
      ],
      "text/plain": [
       "<IPython.core.display.Image object>"
      ]
     },
     "metadata": {},
     "output_type": "display_data"
    },
    {
     "data": {
      "text/html": [
       "<img src=\"<img decoding=\"async\" class=\"alignnone size-full wp-image-9710\" src=\"https://humboldtseedcompany.com/wp-content/uploads/2023/07/Boron-B-deficiency.png\" alt=\"Boron (B) deficiency chart for cannabis plant\" width=\"512\" height=\"292\" srcset=\"https://humboldtseedcompany.com/wp-content/uploads/2023/07/Boron-B-deficiency-200x114.png 200w, https://humboldtseedcompany.com/wp-content/uploads/2023/07/Boron-B-deficiency-300x171.png 300w, https://humboldtseedcompany.com/wp-content/uploads/2023/07/Boron-B-deficiency-400x228.png 400w, https://humboldtseedcompany.com/wp-content/uploads/2023/07/Boron-B-deficiency.png 512w\" sizes=\"(max-width: 512px) 100vw, 512px\">\" width=\"300\" height=\"300\"/>"
      ],
      "text/plain": [
       "<IPython.core.display.Image object>"
      ]
     },
     "metadata": {},
     "output_type": "display_data"
    },
    {
     "data": {
      "text/html": [
       "<img src=\"<img decoding=\"async\" class=\"alignnone size-full wp-image-9713\" src=\"https://humboldtseedcompany.com/wp-content/uploads/2023/07/Copper-Cu-deficiency.png\" alt=\"Copper (Cu) deficiency chart for cannabis plant\" width=\"512\" height=\"292\" srcset=\"https://humboldtseedcompany.com/wp-content/uploads/2023/07/Copper-Cu-deficiency-200x114.png 200w, https://humboldtseedcompany.com/wp-content/uploads/2023/07/Copper-Cu-deficiency-300x171.png 300w, https://humboldtseedcompany.com/wp-content/uploads/2023/07/Copper-Cu-deficiency-400x228.png 400w, https://humboldtseedcompany.com/wp-content/uploads/2023/07/Copper-Cu-deficiency.png 512w\" sizes=\"(max-width: 512px) 100vw, 512px\">\" width=\"300\" height=\"300\"/>"
      ],
      "text/plain": [
       "<IPython.core.display.Image object>"
      ]
     },
     "metadata": {},
     "output_type": "display_data"
    },
    {
     "data": {
      "text/html": [
       "<img src=\"<img decoding=\"async\" class=\"alignnone size-full wp-image-9714\" src=\"https://humboldtseedcompany.com/wp-content/uploads/2023/07/Iron-Fe-deficiency.png\" alt=\"Iron (Fe) deficiency chart for weed plants\" width=\"512\" height=\"292\" srcset=\"https://humboldtseedcompany.com/wp-content/uploads/2023/07/Iron-Fe-deficiency-200x114.png 200w, https://humboldtseedcompany.com/wp-content/uploads/2023/07/Iron-Fe-deficiency-300x171.png 300w, https://humboldtseedcompany.com/wp-content/uploads/2023/07/Iron-Fe-deficiency-400x228.png 400w, https://humboldtseedcompany.com/wp-content/uploads/2023/07/Iron-Fe-deficiency.png 512w\" sizes=\"(max-width: 512px) 100vw, 512px\">\" width=\"300\" height=\"300\"/>"
      ],
      "text/plain": [
       "<IPython.core.display.Image object>"
      ]
     },
     "metadata": {},
     "output_type": "display_data"
    },
    {
     "data": {
      "text/html": [
       "<img src=\"<img decoding=\"async\" class=\"alignnone size-full wp-image-9715\" src=\"https://humboldtseedcompany.com/wp-content/uploads/2023/07/Manganese-Mn-deficiency.png\" alt=\"Manganese (Mn) deficiency chart for marijuana plants\" width=\"512\" height=\"292\" srcset=\"https://humboldtseedcompany.com/wp-content/uploads/2023/07/Manganese-Mn-deficiency-200x114.png 200w, https://humboldtseedcompany.com/wp-content/uploads/2023/07/Manganese-Mn-deficiency-300x171.png 300w, https://humboldtseedcompany.com/wp-content/uploads/2023/07/Manganese-Mn-deficiency-400x228.png 400w, https://humboldtseedcompany.com/wp-content/uploads/2023/07/Manganese-Mn-deficiency.png 512w\" sizes=\"(max-width: 512px) 100vw, 512px\">\" width=\"300\" height=\"300\"/>"
      ],
      "text/plain": [
       "<IPython.core.display.Image object>"
      ]
     },
     "metadata": {},
     "output_type": "display_data"
    },
    {
     "data": {
      "text/html": [
       "<img src=\"<img decoding=\"async\" class=\"alignnone size-full wp-image-9723\" src=\"https://humboldtseedcompany.com/wp-content/uploads/2023/07/Magnesium-Mg-deficiency-1.png\" alt=\"Magnesium (Mg) deficiency in cannabis plant\" width=\"512\" height=\"292\" srcset=\"https://humboldtseedcompany.com/wp-content/uploads/2023/07/Magnesium-Mg-deficiency-1-200x114.png 200w, https://humboldtseedcompany.com/wp-content/uploads/2023/07/Magnesium-Mg-deficiency-1-300x171.png 300w, https://humboldtseedcompany.com/wp-content/uploads/2023/07/Magnesium-Mg-deficiency-1-400x228.png 400w, https://humboldtseedcompany.com/wp-content/uploads/2023/07/Magnesium-Mg-deficiency-1.png 512w\" sizes=\"(max-width: 512px) 100vw, 512px\">\" width=\"300\" height=\"300\"/>"
      ],
      "text/plain": [
       "<IPython.core.display.Image object>"
      ]
     },
     "metadata": {},
     "output_type": "display_data"
    },
    {
     "data": {
      "text/html": [
       "<img src=\"<img decoding=\"async\" class=\"alignnone size-full wp-image-9717\" src=\"https://humboldtseedcompany.com/wp-content/uploads/2023/07/Molybdenum-Mb-deficiency.png\" alt=\"Molybdenum (Mb) deficiency chart for marijuana plants\" width=\"512\" height=\"292\" srcset=\"https://humboldtseedcompany.com/wp-content/uploads/2023/07/Molybdenum-Mb-deficiency-200x114.png 200w, https://humboldtseedcompany.com/wp-content/uploads/2023/07/Molybdenum-Mb-deficiency-300x171.png 300w, https://humboldtseedcompany.com/wp-content/uploads/2023/07/Molybdenum-Mb-deficiency-400x228.png 400w, https://humboldtseedcompany.com/wp-content/uploads/2023/07/Molybdenum-Mb-deficiency.png 512w\" sizes=\"(max-width: 512px) 100vw, 512px\">\" width=\"300\" height=\"300\"/>"
      ],
      "text/plain": [
       "<IPython.core.display.Image object>"
      ]
     },
     "metadata": {},
     "output_type": "display_data"
    },
    {
     "data": {
      "text/html": [
       "<img src=\"<img decoding=\"async\" class=\"alignnone size-full wp-image-9718\" src=\"https://humboldtseedcompany.com/wp-content/uploads/2023/07/Phosphorus-P-deficiency.png\" alt=\"Phosphorus (P) deficiency chart for weed plants\" width=\"512\" height=\"292\" srcset=\"https://humboldtseedcompany.com/wp-content/uploads/2023/07/Phosphorus-P-deficiency-200x114.png 200w, https://humboldtseedcompany.com/wp-content/uploads/2023/07/Phosphorus-P-deficiency-300x171.png 300w, https://humboldtseedcompany.com/wp-content/uploads/2023/07/Phosphorus-P-deficiency-400x228.png 400w, https://humboldtseedcompany.com/wp-content/uploads/2023/07/Phosphorus-P-deficiency.png 512w\" sizes=\"(max-width: 512px) 100vw, 512px\">\" width=\"300\" height=\"300\"/>"
      ],
      "text/plain": [
       "<IPython.core.display.Image object>"
      ]
     },
     "metadata": {},
     "output_type": "display_data"
    },
    {
     "data": {
      "text/html": [
       "<img src=\"<img decoding=\"async\" class=\"alignnone wp-image-9719 size-full\" src=\"https://humboldtseedcompany.com/wp-content/uploads/2023/07/Potassium-K-deficiency.png\" alt=\"potassium deficiency chart for cannabis plants with visual example\" width=\"512\" height=\"292\" srcset=\"https://humboldtseedcompany.com/wp-content/uploads/2023/07/Potassium-K-deficiency-200x114.png 200w, https://humboldtseedcompany.com/wp-content/uploads/2023/07/Potassium-K-deficiency-300x171.png 300w, https://humboldtseedcompany.com/wp-content/uploads/2023/07/Potassium-K-deficiency-400x228.png 400w, https://humboldtseedcompany.com/wp-content/uploads/2023/07/Potassium-K-deficiency.png 512w\" sizes=\"(max-width: 512px) 100vw, 512px\">\" width=\"300\" height=\"300\"/>"
      ],
      "text/plain": [
       "<IPython.core.display.Image object>"
      ]
     },
     "metadata": {},
     "output_type": "display_data"
    },
    {
     "data": {
      "text/html": [
       "<img src=\"<img decoding=\"async\" class=\"alignnone size-full wp-image-9721\" src=\"https://humboldtseedcompany.com/wp-content/uploads/2023/07/Nitrogen-N-deficiency.png\" alt=\"Nitrogen (N) deficiency chart for cannabis plants with visual example\" width=\"512\" height=\"292\" srcset=\"https://humboldtseedcompany.com/wp-content/uploads/2023/07/Nitrogen-N-deficiency-200x114.png 200w, https://humboldtseedcompany.com/wp-content/uploads/2023/07/Nitrogen-N-deficiency-300x171.png 300w, https://humboldtseedcompany.com/wp-content/uploads/2023/07/Nitrogen-N-deficiency-400x228.png 400w, https://humboldtseedcompany.com/wp-content/uploads/2023/07/Nitrogen-N-deficiency.png 512w\" sizes=\"(max-width: 512px) 100vw, 512px\">\" width=\"300\" height=\"300\"/>"
      ],
      "text/plain": [
       "<IPython.core.display.Image object>"
      ]
     },
     "metadata": {},
     "output_type": "display_data"
    },
    {
     "data": {
      "text/html": [
       "<img src=\"<img decoding=\"async\" class=\"alignnone size-full wp-image-9722\" src=\"https://humboldtseedcompany.com/wp-content/uploads/2023/07/Sulfur-S-deficiency.png\" alt=\"Sulfur (S) deficiency visual chart and guide for marijuana plants\" width=\"512\" height=\"292\" srcset=\"https://humboldtseedcompany.com/wp-content/uploads/2023/07/Sulfur-S-deficiency-200x114.png 200w, https://humboldtseedcompany.com/wp-content/uploads/2023/07/Sulfur-S-deficiency-300x171.png 300w, https://humboldtseedcompany.com/wp-content/uploads/2023/07/Sulfur-S-deficiency-400x228.png 400w, https://humboldtseedcompany.com/wp-content/uploads/2023/07/Sulfur-S-deficiency.png 512w\" sizes=\"(max-width: 512px) 100vw, 512px\">\" width=\"300\" height=\"300\"/>"
      ],
      "text/plain": [
       "<IPython.core.display.Image object>"
      ]
     },
     "metadata": {},
     "output_type": "display_data"
    },
    {
     "data": {
      "text/html": [
       "<img src=\"<img decoding=\"async\" class=\"alignnone size-full wp-image-9720\" src=\"https://humboldtseedcompany.com/wp-content/uploads/2023/07/Zinc-Zn-deficiency.png\" alt=\"how to identify a Zinc (Zn) deficiency in cannabis\" width=\"512\" height=\"292\" srcset=\"https://humboldtseedcompany.com/wp-content/uploads/2023/07/Zinc-Zn-deficiency-200x114.png 200w, https://humboldtseedcompany.com/wp-content/uploads/2023/07/Zinc-Zn-deficiency-300x171.png 300w, https://humboldtseedcompany.com/wp-content/uploads/2023/07/Zinc-Zn-deficiency-400x228.png 400w, https://humboldtseedcompany.com/wp-content/uploads/2023/07/Zinc-Zn-deficiency.png 512w\" sizes=\"(max-width: 512px) 100vw, 512px\">\" width=\"300\" height=\"300\"/>"
      ],
      "text/plain": [
       "<IPython.core.display.Image object>"
      ]
     },
     "metadata": {},
     "output_type": "display_data"
    },
    {
     "data": {
      "text/html": [
       "<h3>What Causes Cannabis Deficiencies? </h3>"
      ],
      "text/plain": [
       "<IPython.core.display.HTML object>"
      ]
     },
     "metadata": {},
     "output_type": "display_data"
    },
    {
     "data": {
      "text/html": [
       "<p>Nutrient lock-out due to an imbalance in pH or  ratio of nutrients  is most often the cause of deficiencies. By maintaining optimal pH levels, providing a well-balanced nutrient regimen, and understanding the mobility of nutrients, cultivators can effectively prevent and address cannabis deficiencies.</p>"
      ],
      "text/plain": [
       "<IPython.core.display.HTML object>"
      ]
     },
     "metadata": {},
     "output_type": "display_data"
    },
    {
     "data": {
      "text/html": [
       "<h3>The Proper pH Level for Cannabis</h3>"
      ],
      "text/plain": [
       "<IPython.core.display.HTML object>"
      ]
     },
     "metadata": {},
     "output_type": "display_data"
    },
    {
     "data": {
      "text/html": [
       "<p>Maintaining the proper pH level is crucial for nutrient uptake. When the pH is imbalanced, several deficiencies can occur that you can find on many plant deficiency charts. Most cultivators aim for a pH range between 6 and 7. This range allows for adequate nutrient availability and absorption, minimizing the risk of deficiencies caused by pH imbalances.</p>"
      ],
      "text/plain": [
       "<IPython.core.display.HTML object>"
      ]
     },
     "metadata": {},
     "output_type": "display_data"
    },
    {
     "data": {
      "text/html": [
       "<h3>Macro vs micronutrients </h3>"
      ],
      "text/plain": [
       "<IPython.core.display.HTML object>"
      ]
     },
     "metadata": {},
     "output_type": "display_data"
    },
    {
     "data": {
      "text/html": [
       "<p>Macronutrients including nitrogen, phosphorus, and potassium are required in greater quantities by marijuana plants. On the other hand, micronutrients, including iron, zinc, and manganese, are needed in smaller amounts but are equally important. An excess of one nutrient can lead to deficiencies of others, known as a nutrient lockout. Maintaining a proper balance of primary and secondary nutrients is crucial to prevent toxicity-induced deficiencies and ensure optimal cannabis plant health.</p>"
      ],
      "text/plain": [
       "<IPython.core.display.HTML object>"
      ]
     },
     "metadata": {},
     "output_type": "display_data"
    },
    {
     "data": {
      "text/html": [
       "<h3>Mobile vs immobile nutrients</h3>"
      ],
      "text/plain": [
       "<IPython.core.display.HTML object>"
      ]
     },
     "metadata": {},
     "output_type": "display_data"
    },
    {
     "data": {
      "text/html": [
       "<p>Plant nutrients can be classified as either mobile or immobile within the plant. Mobile nutrients, such as nitrogen (N) and potassium (K), can be translocated from older to younger plant tissues. This means that when these nutrients are deficient, symptoms typically appear in older leaves as they are prepared to support new growth. Conversely, immobile nutrients like calcium (Ca) and iron (Fe) cannot be easily distributed within the plant. Consequently, deficiencies of immobile nutrients usually manifest in the new growth and younger leaves.</p>"
      ],
      "text/plain": [
       "<IPython.core.display.HTML object>"
      ]
     },
     "metadata": {},
     "output_type": "display_data"
    },
    {
     "data": {
      "text/html": [
       "<h3>How to prevent and fix common cannabis deficiencies</h3>"
      ],
      "text/plain": [
       "<IPython.core.display.HTML object>"
      ]
     },
     "metadata": {},
     "output_type": "display_data"
    },
    {
     "data": {
      "text/html": [
       "<p>Growers can prevent deficiencies by providing their plants with a  well-balanced ratio of nutrients,  watering effectively, and maintaining a balanced pH. Many deficiencies can be fixed by correctly diagnosing and making small changes to their gardens. Refer to a cannabis deficiency chart or cannabis nutrient deficiency chart to determine what weed deficiency you have.</p>"
      ],
      "text/plain": [
       "<IPython.core.display.HTML object>"
      ]
     },
     "metadata": {},
     "output_type": "display_data"
    },
    {
     "data": {
      "text/html": [
       "<h3>\n",
       "Calcium (Ca) deficiency</h3>"
      ],
      "text/plain": [
       "<IPython.core.display.HTML object>"
      ]
     },
     "metadata": {},
     "output_type": "display_data"
    },
    {
     "data": {
      "text/html": [
       "<p>Signs of  Calcium (Ca)  deficiency include distorted leaf development, necrotic spots on leaves, and weak stems. To address calcium deficiency, it is important to ensure an adequate supply of calcium in the growing medium. This can be achieved by adding calcium-rich amendments such as gypsum or oyster shell flour into the soil. Maintaining a balanced pH level between 6 and 7 is crucial, as acidic soil can inhibit calcium absorption.</p>"
      ],
      "text/plain": [
       "<IPython.core.display.HTML object>"
      ]
     },
     "metadata": {},
     "output_type": "display_data"
    },
    {
     "data": {
      "text/html": [
       "<h3>Boron (B) deficiency</h3>"
      ],
      "text/plain": [
       "<IPython.core.display.HTML object>"
      ]
     },
     "metadata": {},
     "output_type": "display_data"
    },
    {
     "data": {
      "text/html": [
       "<p>A  Boron  deficiency is relatively rare, it is a micronutrient and is required in very little amounts in plants. Symptoms of boron deficiency include stunted growth, distorted or brittle new growth, and yellowing or necrosis in between the veins, known as interveinal necrosis. Bud development can be impaired resulting in reduced yields. Boron deficiency can be caused by too much calcium, too much water, high humidity, and too high pH levels in your soil. Before adding more Boron, rule out these possible causes.</p>"
      ],
      "text/plain": [
       "<IPython.core.display.HTML object>"
      ]
     },
     "metadata": {},
     "output_type": "display_data"
    },
    {
     "data": {
      "text/html": [
       "<h3>Copper (Cu) deficiency</h3>"
      ],
      "text/plain": [
       "<IPython.core.display.HTML object>"
      ]
     },
     "metadata": {},
     "output_type": "display_data"
    },
    {
     "data": {
      "text/html": [
       "<p>This element is also a micronutrient and is required in small amounts, but it is essential for several important processes within your plant. Copper  deficiency symptoms include fewer branches, and interveinal chlorosis, and may even result in leaves with dark blue or purple spots or brown or yellow leaf tips and edges. New foliage may be smaller and curl in. Deficiency is often caused by imbalanced pH or lockout from excessive Phosphorus, Zinc, or Iron. Maintaining balanced nutrients and pH is the best way to prevent Copper deficiency.</p>"
      ],
      "text/plain": [
       "<IPython.core.display.HTML object>"
      ]
     },
     "metadata": {},
     "output_type": "display_data"
    },
    {
     "data": {
      "text/html": [
       "<h3>Iron (Fe) deficiency</h3>"
      ],
      "text/plain": [
       "<IPython.core.display.HTML object>"
      ]
     },
     "metadata": {},
     "output_type": "display_data"
    },
    {
     "data": {
      "text/html": [
       "<p>Iron  deficiency in cannabis leads to yellowing of younger leaves while veins remain green this begins near the base of the leaf. You may notice slower growth, burnt tips, pale green leaf color, and thin bud development. Causes of Iron deficiency include high pH levels, excessive watering, and excessive phosphorus. Treatments include effective watering, balanced pH, and nutrients.</p>"
      ],
      "text/plain": [
       "<IPython.core.display.HTML object>"
      ]
     },
     "metadata": {},
     "output_type": "display_data"
    },
    {
     "data": {
      "text/html": [
       "<h3>Manganese (Mn) deficiency</h3>"
      ],
      "text/plain": [
       "<IPython.core.display.HTML object>"
      ]
     },
     "metadata": {},
     "output_type": "display_data"
    },
    {
     "data": {
      "text/html": [
       "<p>Manganese  deficiency in cannabis plants can result in the yellowing of leaves, with distinct green veins remaining intact and accompanied by dark brown spots. This condition often occurs in soils with high pH levels. It can lead to stunted growth and reduced yields. Excessive levels of Calcium, Magnesium, Iron, Phosphorus, Zinc, or Copper can lead to a Manganese lockout resulting in an apparent deficiency.  Treatments include ensuring optimal soil pH and providing balanced nutrients.</p>"
      ],
      "text/plain": [
       "<IPython.core.display.HTML object>"
      ]
     },
     "metadata": {},
     "output_type": "display_data"
    },
    {
     "data": {
      "text/html": [
       "<h3>Magnesium (Mg) deficiency</h3>"
      ],
      "text/plain": [
       "<IPython.core.display.HTML object>"
      ]
     },
     "metadata": {},
     "output_type": "display_data"
    },
    {
     "data": {
      "text/html": [
       "<p>Magnesium  deficiency can be first seen in older leaves due to its mobility. You may notice the bottom leaves beginning to turn yellow accompanied by brown spots. Excessive levels of Calcium, Potassium, and Aluminum can lead to Magnesium deficiency, as well as too low of a pH. To correct this deficiency, maintain a balanced pH and proper ratio of nutrients.</p>"
      ],
      "text/plain": [
       "<IPython.core.display.HTML object>"
      ]
     },
     "metadata": {},
     "output_type": "display_data"
    },
    {
     "data": {
      "text/html": [
       "<h3>Molybdenum (Mb) deficiency</h3>"
      ],
      "text/plain": [
       "<IPython.core.display.HTML object>"
      ]
     },
     "metadata": {},
     "output_type": "display_data"
    },
    {
     "data": {
      "text/html": [
       "<p>Symptoms of a  molybdenum  deficiency include chlorosis of middle leaves accompanied by orange, red, or pink color around the leaf tips and edges. This nutrient tends to get locked out when the pH drops too low or there is too much Sulfur in the soil. Provide balanced nutrients and pH to correct this deficiency.</p>"
      ],
      "text/plain": [
       "<IPython.core.display.HTML object>"
      ]
     },
     "metadata": {},
     "output_type": "display_data"
    },
    {
     "data": {
      "text/html": [
       "<h3>Phosphorus (P) deficiency</h3>"
      ],
      "text/plain": [
       "<IPython.core.display.HTML object>"
      ]
     },
     "metadata": {},
     "output_type": "display_data"
    },
    {
     "data": {
      "text/html": [
       "<p>If you begin to see your lower leaves turn blueish or have brown blotches accompanied by purple stems and slow growth you may have  phosphorus  deficiency. Phosphorus can become bound to soil particles, making it difficult if not impossible for plants to access. You can improve P uptake by using P-solubilizing bacteria like  Bacilus megaterium  and enzymes like phosphatases through  compost . Lock-out can be caused by excessive watering, low temperatures, and imbalanced pH so make sure you maintain a balanced environment.</p>"
      ],
      "text/plain": [
       "<IPython.core.display.HTML object>"
      ]
     },
     "metadata": {},
     "output_type": "display_data"
    },
    {
     "data": {
      "text/html": [
       "<h3>Potassium (K) deficiency</h3>"
      ],
      "text/plain": [
       "<IPython.core.display.HTML object>"
      ]
     },
     "metadata": {},
     "output_type": "display_data"
    },
    {
     "data": {
      "text/html": [
       "<p>Potassium  (K) deficiency can result in various symptoms such as yellowing and necrosis of leaf margins, curling or wilting of leaves, and overall stunted growth. Potassium deficiency can occur when soil potassium levels are low, high pH levels, or excessive levels of other nutrients such as calcium or magnesium. These factors can contribute to potassium lockout, making it less available for uptake by the plant. Treatments involve applying potassium-rich amendments like kelp meal to the soil and maintaining proper nutrient and pH levels.</p>"
      ],
      "text/plain": [
       "<IPython.core.display.HTML object>"
      ]
     },
     "metadata": {},
     "output_type": "display_data"
    },
    {
     "data": {
      "text/html": [
       "<h3>Nitrogen (N) deficiency</h3>"
      ],
      "text/plain": [
       "<IPython.core.display.HTML object>"
      ]
     },
     "metadata": {},
     "output_type": "display_data"
    },
    {
     "data": {
      "text/html": [
       "<p>A  nitrogen  deficiency is associated with overall chlorosis of the lower and older leaves, stunted growth, and reduced vigor. Nitrogen is highly mobile and can wash out of the soil but using slow-release N like neem meal will help prevent this from happening. Excessive levels of Calcium, extreme imbalances in pH, and lack of oxygen due to excessive watering or compaction can reduce N availability.</p>"
      ],
      "text/plain": [
       "<IPython.core.display.HTML object>"
      ]
     },
     "metadata": {},
     "output_type": "display_data"
    },
    {
     "data": {
      "text/html": [
       "<h3>Silicon (Si) deficiency</h3>"
      ],
      "text/plain": [
       "<IPython.core.display.HTML object>"
      ]
     },
     "metadata": {},
     "output_type": "display_data"
    },
    {
     "data": {
      "text/html": [
       "<p>Symptoms of Phosphorus (P) deficiency may include weak stems, increased pest infestations, reduced tolerance to heat and drought, and decreased overall plant vigor. Silicon deficiency is very rare especially if plants are planted in the ground but can occur with extremely high pH. Consider a weekly foliar of mono-silicic acid.</p>"
      ],
      "text/plain": [
       "<IPython.core.display.HTML object>"
      ]
     },
     "metadata": {},
     "output_type": "display_data"
    },
    {
     "data": {
      "text/html": [
       "<h3>Sulfur (S) deficiency</h3>"
      ],
      "text/plain": [
       "<IPython.core.display.HTML object>"
      ]
     },
     "metadata": {},
     "output_type": "display_data"
    },
    {
     "data": {
      "text/html": [
       "<p>This deficiency is associated with yellowing leaves in new growth and can result in less flavor and terpenes. Excessive watering, high pH, and lack of sulfur in the soil can cause  sulfur  deficiencies in cannabis plants. By applying a weekly foliar of Sulfur throughout the vegetative cycle and adding elemental sulfur into your soil you can avoid deficiency.</p>"
      ],
      "text/plain": [
       "<IPython.core.display.HTML object>"
      ]
     },
     "metadata": {},
     "output_type": "display_data"
    },
    {
     "data": {
      "text/html": [
       "<h3>Zinc (Zn) deficiency</h3>"
      ],
      "text/plain": [
       "<IPython.core.display.HTML object>"
      ]
     },
     "metadata": {},
     "output_type": "display_data"
    },
    {
     "data": {
      "text/html": [
       "<p>Although incredibly rare, a zinc deficiency can be identified by new growth patterns changing such as internodal spacing shortening, shoots appearing to not open, and wrinkling. Causes can be attributed to excessive Phosphorus or imbalanced pH.</p>"
      ],
      "text/plain": [
       "<IPython.core.display.HTML object>"
      ]
     },
     "metadata": {},
     "output_type": "display_data"
    }
   ],
   "source": [
    "import pandas as pd\n",
    "from IPython.display import display, Image, HTML\n",
    "\n",
    "# Load the scraped data\n",
    "data = pd.read_json('images-humboldt.json')\n",
    "\n",
    "# Function to display images and text for each label\n",
    "def display_content(data):\n",
    "    for index, row in data.iterrows():\n",
    "        labels = row['labels']\n",
    "        images = row['images']\n",
    "        content = row['content']\n",
    "        \n",
    "        for label in labels:\n",
    "            display(HTML(f\"<h2>{label}</h2>\"))\n",
    "            \n",
    "        for img in images:\n",
    "            display(Image(url=img, width=300, height=300))\n",
    "            \n",
    "        for section, text in content.items():\n",
    "            display(HTML(f\"<h3>{section}</h3>\"))\n",
    "            display(HTML(f\"<p>{text}</p>\"))\n",
    "\n",
    "# Display the content\n",
    "display_content(data)\n"
   ]
  },
  {
   "cell_type": "code",
   "execution_count": 1,
   "metadata": {},
   "outputs": [
    {
     "data": {
      "text/html": [
       "<h2><a href='http://www.store.netdecker.cl/2-player-starter-set/33990-2-player-starter-set.html' target='_blank'>2-Player Starter Set</a></h2>"
      ],
      "text/plain": [
       "<IPython.core.display.HTML object>"
      ]
     },
     "metadata": {},
     "output_type": "display_data"
    },
    {
     "data": {
      "text/html": [
       "<img src=\"http://www.store.netdecker.cl/33990-35347-home/2-player-starter-set.jpg\" width=\"300\" height=\"300\"/>"
      ],
      "text/plain": [
       "<IPython.core.display.Image object>"
      ]
     },
     "metadata": {},
     "output_type": "display_data"
    },
    {
     "data": {
      "text/html": [
       "<p><strong>Description:</strong> 2-Player Starter Set﻿</p>"
      ],
      "text/plain": [
       "<IPython.core.display.HTML object>"
      ]
     },
     "metadata": {},
     "output_type": "display_data"
    },
    {
     "data": {
      "text/html": [
       "<p><strong>Price:</strong> $ 17.000</p>"
      ],
      "text/plain": [
       "<IPython.core.display.HTML object>"
      ]
     },
     "metadata": {},
     "output_type": "display_data"
    },
    {
     "data": {
      "text/html": [
       "<p><strong>Availability:</strong> Disponible</p>"
      ],
      "text/plain": [
       "<IPython.core.display.HTML object>"
      ]
     },
     "metadata": {},
     "output_type": "display_data"
    },
    {
     "data": {
      "text/html": [
       "<hr>"
      ],
      "text/plain": [
       "<IPython.core.display.HTML object>"
      ]
     },
     "metadata": {},
     "output_type": "display_data"
    },
    {
     "data": {
      "text/html": [
       "<h2><a href='http://www.store.netdecker.cl/2-player-starter-set/34051-2-player-starter-set.html' target='_blank'>2-Player Starter Set</a></h2>"
      ],
      "text/plain": [
       "<IPython.core.display.HTML object>"
      ]
     },
     "metadata": {},
     "output_type": "display_data"
    },
    {
     "data": {
      "text/html": [
       "<img src=\"http://www.store.netdecker.cl/34051-35409-home/2-player-starter-set.jpg\" width=\"300\" height=\"300\"/>"
      ],
      "text/plain": [
       "<IPython.core.display.Image object>"
      ]
     },
     "metadata": {},
     "output_type": "display_data"
    },
    {
     "data": {
      "text/html": [
       "<p><strong>Description:</strong> 2-Player Starter Set﻿</p>"
      ],
      "text/plain": [
       "<IPython.core.display.HTML object>"
      ]
     },
     "metadata": {},
     "output_type": "display_data"
    },
    {
     "data": {
      "text/html": [
       "<p><strong>Price:</strong> $ 17.000</p>"
      ],
      "text/plain": [
       "<IPython.core.display.HTML object>"
      ]
     },
     "metadata": {},
     "output_type": "display_data"
    },
    {
     "data": {
      "text/html": [
       "<p><strong>Availability:</strong> Agotado</p>"
      ],
      "text/plain": [
       "<IPython.core.display.HTML object>"
      ]
     },
     "metadata": {},
     "output_type": "display_data"
    },
    {
     "data": {
      "text/html": [
       "<hr>"
      ],
      "text/plain": [
       "<IPython.core.display.HTML object>"
      ]
     },
     "metadata": {},
     "output_type": "display_data"
    },
    {
     "data": {
      "text/html": [
       "<h2><a href='http://www.store.netdecker.cl/25th-rarity-collection-ii/34840-25th-rarity-collection-ii-booster-pack.html' target='_blank'>25th Rarity Collection II...</a></h2>"
      ],
      "text/plain": [
       "<IPython.core.display.HTML object>"
      ]
     },
     "metadata": {},
     "output_type": "display_data"
    },
    {
     "data": {
      "text/html": [
       "<img src=\"http://www.store.netdecker.cl/34840-36210-home/25th-rarity-collection-ii-booster-pack.jpg\" width=\"300\" height=\"300\"/>"
      ],
      "text/plain": [
       "<IPython.core.display.Image object>"
      ]
     },
     "metadata": {},
     "output_type": "display_data"
    },
    {
     "data": {
      "text/html": [
       "<p><strong>Description:</strong> 25th Rarity Collection II Booster Pack﻿</p>"
      ],
      "text/plain": [
       "<IPython.core.display.HTML object>"
      ]
     },
     "metadata": {},
     "output_type": "display_data"
    },
    {
     "data": {
      "text/html": [
       "<p><strong>Price:</strong> $ 11.000</p>"
      ],
      "text/plain": [
       "<IPython.core.display.HTML object>"
      ]
     },
     "metadata": {},
     "output_type": "display_data"
    },
    {
     "data": {
      "text/html": [
       "<p><strong>Availability:</strong> Disponible</p>"
      ],
      "text/plain": [
       "<IPython.core.display.HTML object>"
      ]
     },
     "metadata": {},
     "output_type": "display_data"
    },
    {
     "data": {
      "text/html": [
       "<hr>"
      ],
      "text/plain": [
       "<IPython.core.display.HTML object>"
      ]
     },
     "metadata": {},
     "output_type": "display_data"
    },
    {
     "data": {
      "text/html": [
       "<h2><a href='http://www.store.netdecker.cl/booster-packs/34695-25th-legend-of-blue-eyes-white-dragon-booster-pack.html' target='_blank'>25th: Legend of Blue Eyes White...</a></h2>"
      ],
      "text/plain": [
       "<IPython.core.display.HTML object>"
      ]
     },
     "metadata": {},
     "output_type": "display_data"
    },
    {
     "data": {
      "text/html": [
       "<img src=\"http://www.store.netdecker.cl/34695-36059-home/25th-legend-of-blue-eyes-white-dragon-booster-pack.jpg\" width=\"300\" height=\"300\"/>"
      ],
      "text/plain": [
       "<IPython.core.display.Image object>"
      ]
     },
     "metadata": {},
     "output_type": "display_data"
    },
    {
     "data": {
      "text/html": [
       "<p><strong>Description:</strong> 25th: Legend of Blue Eyes White Dragon Booster Pack﻿</p>"
      ],
      "text/plain": [
       "<IPython.core.display.HTML object>"
      ]
     },
     "metadata": {},
     "output_type": "display_data"
    },
    {
     "data": {
      "text/html": [
       "<p><strong>Price:</strong> $ 4.000</p>"
      ],
      "text/plain": [
       "<IPython.core.display.HTML object>"
      ]
     },
     "metadata": {},
     "output_type": "display_data"
    },
    {
     "data": {
      "text/html": [
       "<p><strong>Availability:</strong> Disponible</p>"
      ],
      "text/plain": [
       "<IPython.core.display.HTML object>"
      ]
     },
     "metadata": {},
     "output_type": "display_data"
    },
    {
     "data": {
      "text/html": [
       "<hr>"
      ],
      "text/plain": [
       "<IPython.core.display.HTML object>"
      ]
     },
     "metadata": {},
     "output_type": "display_data"
    },
    {
     "data": {
      "text/html": [
       "<h2><a href='http://www.store.netdecker.cl/booster-packs/31150-25th-pharaoh-s-servant-booster-pack.html' target='_blank'>25th: Pharaoh's Servant Booster...</a></h2>"
      ],
      "text/plain": [
       "<IPython.core.display.HTML object>"
      ]
     },
     "metadata": {},
     "output_type": "display_data"
    },
    {
     "data": {
      "text/html": [
       "<img src=\"http://www.store.netdecker.cl/31150-32230-home/25th-pharaoh-s-servant-booster-pack.jpg\" width=\"300\" height=\"300\"/>"
      ],
      "text/plain": [
       "<IPython.core.display.Image object>"
      ]
     },
     "metadata": {},
     "output_type": "display_data"
    },
    {
     "data": {
      "text/html": [
       "<p><strong>Description:</strong> 25th: Pharaoh's Servant Booster Pack﻿</p>"
      ],
      "text/plain": [
       "<IPython.core.display.HTML object>"
      ]
     },
     "metadata": {},
     "output_type": "display_data"
    },
    {
     "data": {
      "text/html": [
       "<p><strong>Price:</strong> $ 4.000</p>"
      ],
      "text/plain": [
       "<IPython.core.display.HTML object>"
      ]
     },
     "metadata": {},
     "output_type": "display_data"
    },
    {
     "data": {
      "text/html": [
       "<p><strong>Availability:</strong> Disponible</p>"
      ],
      "text/plain": [
       "<IPython.core.display.HTML object>"
      ]
     },
     "metadata": {},
     "output_type": "display_data"
    },
    {
     "data": {
      "text/html": [
       "<hr>"
      ],
      "text/plain": [
       "<IPython.core.display.HTML object>"
      ]
     },
     "metadata": {},
     "output_type": "display_data"
    },
    {
     "data": {
      "text/html": [
       "<h2><a href='http://www.store.netdecker.cl/special-pack/21781-advent-calendar-2018-collector-s-set.html' target='_blank'>Advent Calendar 2018 Collector's...</a></h2>"
      ],
      "text/plain": [
       "<IPython.core.display.HTML object>"
      ]
     },
     "metadata": {},
     "output_type": "display_data"
    },
    {
     "data": {
      "text/html": [
       "<img src=\"http://www.store.netdecker.cl/21781-22463-home/advent-calendar-2018-collector-s-set.jpg\" width=\"300\" height=\"300\"/>"
      ],
      "text/plain": [
       "<IPython.core.display.Image object>"
      ]
     },
     "metadata": {},
     "output_type": "display_data"
    },
    {
     "data": {
      "text/html": [
       "<p><strong>Description:</strong> Yu-Gi-Oh ! - Advent Calendar 2018 Collector's Set﻿</p>"
      ],
      "text/plain": [
       "<IPython.core.display.HTML object>"
      ]
     },
     "metadata": {},
     "output_type": "display_data"
    },
    {
     "data": {
      "text/html": [
       "<p><strong>Price:</strong> $ 14.000</p>"
      ],
      "text/plain": [
       "<IPython.core.display.HTML object>"
      ]
     },
     "metadata": {},
     "output_type": "display_data"
    },
    {
     "data": {
      "text/html": [
       "<p><strong>Availability:</strong> Disponible</p>"
      ],
      "text/plain": [
       "<IPython.core.display.HTML object>"
      ]
     },
     "metadata": {},
     "output_type": "display_data"
    },
    {
     "data": {
      "text/html": [
       "<hr>"
      ],
      "text/plain": [
       "<IPython.core.display.HTML object>"
      ]
     },
     "metadata": {},
     "output_type": "display_data"
    },
    {
     "data": {
      "text/html": [
       "<h2><a href='http://www.store.netdecker.cl/special-pack/27314-advent-calendar-2019-no-box.html' target='_blank'>Advent Calendar 2019 (No Box)</a></h2>"
      ],
      "text/plain": [
       "<IPython.core.display.HTML object>"
      ]
     },
     "metadata": {},
     "output_type": "display_data"
    },
    {
     "data": {
      "text/html": [
       "<img src=\"http://www.store.netdecker.cl/27314-28258-home/advent-calendar-2019-no-box.jpg\" width=\"300\" height=\"300\"/>"
      ],
      "text/plain": [
       "<IPython.core.display.Image object>"
      ]
     },
     "metadata": {},
     "output_type": "display_data"
    },
    {
     "data": {
      "text/html": [
       "<p><strong>Description:</strong> Yu-Gi-Oh ! - Advent Calendar 2019 (No Box)﻿</p>"
      ],
      "text/plain": [
       "<IPython.core.display.HTML object>"
      ]
     },
     "metadata": {},
     "output_type": "display_data"
    },
    {
     "data": {
      "text/html": [
       "<p><strong>Price:</strong> $ 15.000</p>"
      ],
      "text/plain": [
       "<IPython.core.display.HTML object>"
      ]
     },
     "metadata": {},
     "output_type": "display_data"
    },
    {
     "data": {
      "text/html": [
       "<p><strong>Availability:</strong> Agotado</p>"
      ],
      "text/plain": [
       "<IPython.core.display.HTML object>"
      ]
     },
     "metadata": {},
     "output_type": "display_data"
    },
    {
     "data": {
      "text/html": [
       "<hr>"
      ],
      "text/plain": [
       "<IPython.core.display.HTML object>"
      ]
     },
     "metadata": {},
     "output_type": "display_data"
    },
    {
     "data": {
      "text/html": [
       "<h2><a href='http://www.store.netdecker.cl/albaz-strike/28774-albaz-strike.html' target='_blank'>Albaz Strike</a></h2>"
      ],
      "text/plain": [
       "<IPython.core.display.HTML object>"
      ]
     },
     "metadata": {},
     "output_type": "display_data"
    },
    {
     "data": {
      "text/html": [
       "<img src=\"http://www.store.netdecker.cl/28774-29840-home/albaz-strike.jpg\" width=\"300\" height=\"300\"/>"
      ],
      "text/plain": [
       "<IPython.core.display.Image object>"
      ]
     },
     "metadata": {},
     "output_type": "display_data"
    },
    {
     "data": {
      "text/html": [
       "<p><strong>Description:</strong> Yu-Gi-Oh ! - Albaz Strike﻿</p>"
      ],
      "text/plain": [
       "<IPython.core.display.HTML object>"
      ]
     },
     "metadata": {},
     "output_type": "display_data"
    },
    {
     "data": {
      "text/html": [
       "<p><strong>Price:</strong> $ 13.000</p>"
      ],
      "text/plain": [
       "<IPython.core.display.HTML object>"
      ]
     },
     "metadata": {},
     "output_type": "display_data"
    },
    {
     "data": {
      "text/html": [
       "<p><strong>Availability:</strong> Disponible</p>"
      ],
      "text/plain": [
       "<IPython.core.display.HTML object>"
      ]
     },
     "metadata": {},
     "output_type": "display_data"
    },
    {
     "data": {
      "text/html": [
       "<hr>"
      ],
      "text/plain": [
       "<IPython.core.display.HTML object>"
      ]
     },
     "metadata": {},
     "output_type": "display_data"
    },
    {
     "data": {
      "text/html": [
       "<h2><a href='http://www.store.netdecker.cl/albaz-strike/28829-albaz-strike.html' target='_blank'>Albaz Strike</a></h2>"
      ],
      "text/plain": [
       "<IPython.core.display.HTML object>"
      ]
     },
     "metadata": {},
     "output_type": "display_data"
    },
    {
     "data": {
      "text/html": [
       "<img src=\"http://www.store.netdecker.cl/28829-29841-home/albaz-strike.jpg\" width=\"300\" height=\"300\"/>"
      ],
      "text/plain": [
       "<IPython.core.display.Image object>"
      ]
     },
     "metadata": {},
     "output_type": "display_data"
    },
    {
     "data": {
      "text/html": [
       "<p><strong>Description:</strong> Yu-Gi-Oh ! - Albaz Strike</p>"
      ],
      "text/plain": [
       "<IPython.core.display.HTML object>"
      ]
     },
     "metadata": {},
     "output_type": "display_data"
    },
    {
     "data": {
      "text/html": [
       "<p><strong>Price:</strong> $ 12.000</p>"
      ],
      "text/plain": [
       "<IPython.core.display.HTML object>"
      ]
     },
     "metadata": {},
     "output_type": "display_data"
    },
    {
     "data": {
      "text/html": [
       "<p><strong>Availability:</strong> Disponible</p>"
      ],
      "text/plain": [
       "<IPython.core.display.HTML object>"
      ]
     },
     "metadata": {},
     "output_type": "display_data"
    },
    {
     "data": {
      "text/html": [
       "<hr>"
      ],
      "text/plain": [
       "<IPython.core.display.HTML object>"
      ]
     },
     "metadata": {},
     "output_type": "display_data"
    },
    {
     "data": {
      "text/html": [
       "<h2><a href='http://www.store.netdecker.cl/amazing-defenders/30550-amazing-defenders-booster-pack.html' target='_blank'>Amazing Defenders Booster Pack</a></h2>"
      ],
      "text/plain": [
       "<IPython.core.display.HTML object>"
      ]
     },
     "metadata": {},
     "output_type": "display_data"
    },
    {
     "data": {
      "text/html": [
       "<img src=\"http://www.store.netdecker.cl/30550-31614-home/amazing-defenders-booster-pack.jpg\" width=\"300\" height=\"300\"/>"
      ],
      "text/plain": [
       "<IPython.core.display.Image object>"
      ]
     },
     "metadata": {},
     "output_type": "display_data"
    },
    {
     "data": {
      "text/html": [
       "<p><strong>Description:</strong> Yu-Gi-Oh ! - ﻿Amazing Defenders Booster Pack﻿</p>"
      ],
      "text/plain": [
       "<IPython.core.display.HTML object>"
      ]
     },
     "metadata": {},
     "output_type": "display_data"
    },
    {
     "data": {
      "text/html": [
       "<p><strong>Price:</strong> $ 4.000</p>"
      ],
      "text/plain": [
       "<IPython.core.display.HTML object>"
      ]
     },
     "metadata": {},
     "output_type": "display_data"
    },
    {
     "data": {
      "text/html": [
       "<p><strong>Availability:</strong> Disponible</p>"
      ],
      "text/plain": [
       "<IPython.core.display.HTML object>"
      ]
     },
     "metadata": {},
     "output_type": "display_data"
    },
    {
     "data": {
      "text/html": [
       "<hr>"
      ],
      "text/plain": [
       "<IPython.core.display.HTML object>"
      ]
     },
     "metadata": {},
     "output_type": "display_data"
    },
    {
     "data": {
      "text/html": [
       "<h2><a href='http://www.store.netdecker.cl/mega-tin-2021/27315-ancient-battles-tin.html' target='_blank'>Ancient Battles Tin</a></h2>"
      ],
      "text/plain": [
       "<IPython.core.display.HTML object>"
      ]
     },
     "metadata": {},
     "output_type": "display_data"
    },
    {
     "data": {
      "text/html": [
       "<img src=\"http://www.store.netdecker.cl/27315-29941-home/ancient-battles-tin.jpg\" width=\"300\" height=\"300\"/>"
      ],
      "text/plain": [
       "<IPython.core.display.Image object>"
      ]
     },
     "metadata": {},
     "output_type": "display_data"
    },
    {
     "data": {
      "text/html": [
       "<p><strong>Description:</strong> Yu-Gi-Oh ! - Ancient Battles Tin</p>"
      ],
      "text/plain": [
       "<IPython.core.display.HTML object>"
      ]
     },
     "metadata": {},
     "output_type": "display_data"
    },
    {
     "data": {
      "text/html": [
       "<p><strong>Price:</strong> $ 20.000</p>"
      ],
      "text/plain": [
       "<IPython.core.display.HTML object>"
      ]
     },
     "metadata": {},
     "output_type": "display_data"
    },
    {
     "data": {
      "text/html": [
       "<p><strong>Availability:</strong> Disponible</p>"
      ],
      "text/plain": [
       "<IPython.core.display.HTML object>"
      ]
     },
     "metadata": {},
     "output_type": "display_data"
    },
    {
     "data": {
      "text/html": [
       "<hr>"
      ],
      "text/plain": [
       "<IPython.core.display.HTML object>"
      ]
     },
     "metadata": {},
     "output_type": "display_data"
    },
    {
     "data": {
      "text/html": [
       "<h2><a href='http://www.store.netdecker.cl/ancient-guardians/26623-ancient-guardians-booster-pack.html' target='_blank'>Ancient Guardians Booster Pack</a></h2>"
      ],
      "text/plain": [
       "<IPython.core.display.HTML object>"
      ]
     },
     "metadata": {},
     "output_type": "display_data"
    },
    {
     "data": {
      "text/html": [
       "<img src=\"http://www.store.netdecker.cl/26623-27514-home/ancient-guardians-booster-pack.jpg\" width=\"300\" height=\"300\"/>"
      ],
      "text/plain": [
       "<IPython.core.display.Image object>"
      ]
     },
     "metadata": {},
     "output_type": "display_data"
    },
    {
     "data": {
      "text/html": [
       "<p><strong>Description:</strong> Yu-Gi-Oh ! - Ancient Guardians Booster Pack﻿</p>"
      ],
      "text/plain": [
       "<IPython.core.display.HTML object>"
      ]
     },
     "metadata": {},
     "output_type": "display_data"
    },
    {
     "data": {
      "text/html": [
       "<p><strong>Price:</strong> $ 3.000</p>"
      ],
      "text/plain": [
       "<IPython.core.display.HTML object>"
      ]
     },
     "metadata": {},
     "output_type": "display_data"
    },
    {
     "data": {
      "text/html": [
       "<p><strong>Availability:</strong> Disponible</p>"
      ],
      "text/plain": [
       "<IPython.core.display.HTML object>"
      ]
     },
     "metadata": {},
     "output_type": "display_data"
    },
    {
     "data": {
      "text/html": [
       "<hr>"
      ],
      "text/plain": [
       "<IPython.core.display.HTML object>"
      ]
     },
     "metadata": {},
     "output_type": "display_data"
    },
    {
     "data": {
      "text/html": [
       "<h2><a href='http://www.store.netdecker.cl/battle-of-chaos/28367-battle-of-chaos-booster-box.html' target='_blank'>Battle of Chaos Booster Pack</a></h2>"
      ],
      "text/plain": [
       "<IPython.core.display.HTML object>"
      ]
     },
     "metadata": {},
     "output_type": "display_data"
    },
    {
     "data": {
      "text/html": [
       "<img src=\"http://www.store.netdecker.cl/28367-29337-home/battle-of-chaos-booster-box.jpg\" width=\"300\" height=\"300\"/>"
      ],
      "text/plain": [
       "<IPython.core.display.Image object>"
      ]
     },
     "metadata": {},
     "output_type": "display_data"
    },
    {
     "data": {
      "text/html": [
       "<p><strong>Description:</strong> Yu-Gi-Oh ! - Battle of Chaos Booster Pack</p>"
      ],
      "text/plain": [
       "<IPython.core.display.HTML object>"
      ]
     },
     "metadata": {},
     "output_type": "display_data"
    },
    {
     "data": {
      "text/html": [
       "<p><strong>Price:</strong> $ 3.500</p>"
      ],
      "text/plain": [
       "<IPython.core.display.HTML object>"
      ]
     },
     "metadata": {},
     "output_type": "display_data"
    },
    {
     "data": {
      "text/html": [
       "<p><strong>Availability:</strong> Disponible</p>"
      ],
      "text/plain": [
       "<IPython.core.display.HTML object>"
      ]
     },
     "metadata": {},
     "output_type": "display_data"
    },
    {
     "data": {
      "text/html": [
       "<hr>"
      ],
      "text/plain": [
       "<IPython.core.display.HTML object>"
      ]
     },
     "metadata": {},
     "output_type": "display_data"
    },
    {
     "data": {
      "text/html": [
       "<h2><a href='http://www.store.netdecker.cl/battles-of-legend-chapter-1/34215-battles-of-legend-chapter-1-collection-box.html' target='_blank'>Battles of Legend Chapter 1...</a></h2>"
      ],
      "text/plain": [
       "<IPython.core.display.HTML object>"
      ]
     },
     "metadata": {},
     "output_type": "display_data"
    },
    {
     "data": {
      "text/html": [
       "<img src=\"http://www.store.netdecker.cl/34215-35575-home/battles-of-legend-chapter-1-collection-box.jpg\" width=\"300\" height=\"300\"/>"
      ],
      "text/plain": [
       "<IPython.core.display.Image object>"
      ]
     },
     "metadata": {},
     "output_type": "display_data"
    },
    {
     "data": {
      "text/html": [
       "<p><strong>Description:</strong> Battles of Legend Chapter 1 Collection Box﻿</p>"
      ],
      "text/plain": [
       "<IPython.core.display.HTML object>"
      ]
     },
     "metadata": {},
     "output_type": "display_data"
    },
    {
     "data": {
      "text/html": [
       "<p><strong>Price:</strong> $ 16.000</p>"
      ],
      "text/plain": [
       "<IPython.core.display.HTML object>"
      ]
     },
     "metadata": {},
     "output_type": "display_data"
    },
    {
     "data": {
      "text/html": [
       "<p><strong>Availability:</strong> Disponible</p>"
      ],
      "text/plain": [
       "<IPython.core.display.HTML object>"
      ]
     },
     "metadata": {},
     "output_type": "display_data"
    },
    {
     "data": {
      "text/html": [
       "<hr>"
      ],
      "text/plain": [
       "<IPython.core.display.HTML object>"
      ]
     },
     "metadata": {},
     "output_type": "display_data"
    },
    {
     "data": {
      "text/html": [
       "<h2><a href='http://www.store.netdecker.cl/battles-of-legend-chapter-1/34216-battles-of-legend-chapter-1-collection-box.html' target='_blank'>Battles of Legend Chapter 1...</a></h2>"
      ],
      "text/plain": [
       "<IPython.core.display.HTML object>"
      ]
     },
     "metadata": {},
     "output_type": "display_data"
    },
    {
     "data": {
      "text/html": [
       "<img src=\"http://www.store.netdecker.cl/34216-35576-home/battles-of-legend-chapter-1-collection-box.jpg\" width=\"300\" height=\"300\"/>"
      ],
      "text/plain": [
       "<IPython.core.display.Image object>"
      ]
     },
     "metadata": {},
     "output_type": "display_data"
    },
    {
     "data": {
      "text/html": [
       "<p><strong>Description:</strong> Battles of Legend Chapter 1 Collection Box﻿</p>"
      ],
      "text/plain": [
       "<IPython.core.display.HTML object>"
      ]
     },
     "metadata": {},
     "output_type": "display_data"
    },
    {
     "data": {
      "text/html": [
       "<p><strong>Price:</strong> $ 16.000</p>"
      ],
      "text/plain": [
       "<IPython.core.display.HTML object>"
      ]
     },
     "metadata": {},
     "output_type": "display_data"
    },
    {
     "data": {
      "text/html": [
       "<p><strong>Availability:</strong> Disponible</p>"
      ],
      "text/plain": [
       "<IPython.core.display.HTML object>"
      ]
     },
     "metadata": {},
     "output_type": "display_data"
    },
    {
     "data": {
      "text/html": [
       "<hr>"
      ],
      "text/plain": [
       "<IPython.core.display.HTML object>"
      ]
     },
     "metadata": {},
     "output_type": "display_data"
    },
    {
     "data": {
      "text/html": [
       "<h2><a href='http://www.store.netdecker.cl/booster-packs/26728-battles-of-legend-armageddon-booster-pack.html' target='_blank'>Battles of Legend: Armageddon...</a></h2>"
      ],
      "text/plain": [
       "<IPython.core.display.HTML object>"
      ]
     },
     "metadata": {},
     "output_type": "display_data"
    },
    {
     "data": {
      "text/html": [
       "<img src=\"http://www.store.netdecker.cl/26728-27641-home/battles-of-legend-armageddon-booster-pack.jpg\" width=\"300\" height=\"300\"/>"
      ],
      "text/plain": [
       "<IPython.core.display.Image object>"
      ]
     },
     "metadata": {},
     "output_type": "display_data"
    },
    {
     "data": {
      "text/html": [
       "<p><strong>Description:</strong> Yu-Gi-Oh ! - Battles of Legend: Armageddon Booster Pack﻿</p>"
      ],
      "text/plain": [
       "<IPython.core.display.HTML object>"
      ]
     },
     "metadata": {},
     "output_type": "display_data"
    },
    {
     "data": {
      "text/html": [
       "<p><strong>Price:</strong> $ 3.600</p>"
      ],
      "text/plain": [
       "<IPython.core.display.HTML object>"
      ]
     },
     "metadata": {},
     "output_type": "display_data"
    },
    {
     "data": {
      "text/html": [
       "<p><strong>Availability:</strong> Disponible</p>"
      ],
      "text/plain": [
       "<IPython.core.display.HTML object>"
      ]
     },
     "metadata": {},
     "output_type": "display_data"
    },
    {
     "data": {
      "text/html": [
       "<hr>"
      ],
      "text/plain": [
       "<IPython.core.display.HTML object>"
      ]
     },
     "metadata": {},
     "output_type": "display_data"
    },
    {
     "data": {
      "text/html": [
       "<h2><a href='http://www.store.netdecker.cl/battles-of-legend-crystal-revenge/30430-battles-of-legend-crystal-revenge-booster-pack.html' target='_blank'>Battles of Legend: Crystal...</a></h2>"
      ],
      "text/plain": [
       "<IPython.core.display.HTML object>"
      ]
     },
     "metadata": {},
     "output_type": "display_data"
    },
    {
     "data": {
      "text/html": [
       "<img src=\"http://www.store.netdecker.cl/30430-31493-home/battles-of-legend-crystal-revenge-booster-pack.jpg\" width=\"300\" height=\"300\"/>"
      ],
      "text/plain": [
       "<IPython.core.display.Image object>"
      ]
     },
     "metadata": {},
     "output_type": "display_data"
    },
    {
     "data": {
      "text/html": [
       "<p><strong>Description:</strong> Yu-Gi-Oh ! - Battles of Legend: Crystal Revenge Booster Pack﻿</p>"
      ],
      "text/plain": [
       "<IPython.core.display.HTML object>"
      ]
     },
     "metadata": {},
     "output_type": "display_data"
    },
    {
     "data": {
      "text/html": [
       "<p><strong>Price:</strong> $ 4.000</p>"
      ],
      "text/plain": [
       "<IPython.core.display.HTML object>"
      ]
     },
     "metadata": {},
     "output_type": "display_data"
    },
    {
     "data": {
      "text/html": [
       "<p><strong>Availability:</strong> Disponible</p>"
      ],
      "text/plain": [
       "<IPython.core.display.HTML object>"
      ]
     },
     "metadata": {},
     "output_type": "display_data"
    },
    {
     "data": {
      "text/html": [
       "<hr>"
      ],
      "text/plain": [
       "<IPython.core.display.HTML object>"
      ]
     },
     "metadata": {},
     "output_type": "display_data"
    },
    {
     "data": {
      "text/html": [
       "<h2><a href='http://www.store.netdecker.cl/battles-of-legend-monstrous/31613-battles-of-legend-monstrous-revenge-booster-pack.html' target='_blank'>Battles of Legend: Monstrous...</a></h2>"
      ],
      "text/plain": [
       "<IPython.core.display.HTML object>"
      ]
     },
     "metadata": {},
     "output_type": "display_data"
    },
    {
     "data": {
      "text/html": [
       "<img src=\"http://www.store.netdecker.cl/31613-32696-home/battles-of-legend-monstrous-revenge-booster-pack.jpg\" width=\"300\" height=\"300\"/>"
      ],
      "text/plain": [
       "<IPython.core.display.Image object>"
      ]
     },
     "metadata": {},
     "output_type": "display_data"
    },
    {
     "data": {
      "text/html": [
       "<p><strong>Description:</strong> Battles of Legend: Monstrous Revenge Booster Pack﻿</p>"
      ],
      "text/plain": [
       "<IPython.core.display.HTML object>"
      ]
     },
     "metadata": {},
     "output_type": "display_data"
    },
    {
     "data": {
      "text/html": [
       "<p><strong>Price:</strong> $ 4.000</p>"
      ],
      "text/plain": [
       "<IPython.core.display.HTML object>"
      ]
     },
     "metadata": {},
     "output_type": "display_data"
    },
    {
     "data": {
      "text/html": [
       "<p><strong>Availability:</strong> Disponible</p>"
      ],
      "text/plain": [
       "<IPython.core.display.HTML object>"
      ]
     },
     "metadata": {},
     "output_type": "display_data"
    },
    {
     "data": {
      "text/html": [
       "<hr>"
      ],
      "text/plain": [
       "<IPython.core.display.HTML object>"
      ]
     },
     "metadata": {},
     "output_type": "display_data"
    },
    {
     "data": {
      "text/html": [
       "<h2><a href='http://www.store.netdecker.cl/beware-of-traptrix/30766-beware-of-traptrix.html' target='_blank'>Beware of Traptrix</a></h2>"
      ],
      "text/plain": [
       "<IPython.core.display.HTML object>"
      ]
     },
     "metadata": {},
     "output_type": "display_data"
    },
    {
     "data": {
      "text/html": [
       "<img src=\"http://www.store.netdecker.cl/30766-31832-home/beware-of-traptrix.jpg\" width=\"300\" height=\"300\"/>"
      ],
      "text/plain": [
       "<IPython.core.display.Image object>"
      ]
     },
     "metadata": {},
     "output_type": "display_data"
    },
    {
     "data": {
      "text/html": [
       "<p><strong>Description:</strong> Yu-Gi-Oh ! - Beware of Traptrix</p>"
      ],
      "text/plain": [
       "<IPython.core.display.HTML object>"
      ]
     },
     "metadata": {},
     "output_type": "display_data"
    },
    {
     "data": {
      "text/html": [
       "<p><strong>Price:</strong> $ 14.000</p>"
      ],
      "text/plain": [
       "<IPython.core.display.HTML object>"
      ]
     },
     "metadata": {},
     "output_type": "display_data"
    },
    {
     "data": {
      "text/html": [
       "<p><strong>Availability:</strong> Disponible</p>"
      ],
      "text/plain": [
       "<IPython.core.display.HTML object>"
      ]
     },
     "metadata": {},
     "output_type": "display_data"
    },
    {
     "data": {
      "text/html": [
       "<hr>"
      ],
      "text/plain": [
       "<IPython.core.display.HTML object>"
      ]
     },
     "metadata": {},
     "output_type": "display_data"
    },
    {
     "data": {
      "text/html": [
       "<h2><a href='http://www.store.netdecker.cl/beware-of-traptrix/30824-beware-of-traptrix.html' target='_blank'>Beware of Traptrix</a></h2>"
      ],
      "text/plain": [
       "<IPython.core.display.HTML object>"
      ]
     },
     "metadata": {},
     "output_type": "display_data"
    },
    {
     "data": {
      "text/html": [
       "<img src=\"http://www.store.netdecker.cl/30824-31890-home/beware-of-traptrix.jpg\" width=\"300\" height=\"300\"/>"
      ],
      "text/plain": [
       "<IPython.core.display.Image object>"
      ]
     },
     "metadata": {},
     "output_type": "display_data"
    },
    {
     "data": {
      "text/html": [
       "<p><strong>Description:</strong> Yu-Gi-Oh ! - Beware of Traptrix</p>"
      ],
      "text/plain": [
       "<IPython.core.display.HTML object>"
      ]
     },
     "metadata": {},
     "output_type": "display_data"
    },
    {
     "data": {
      "text/html": [
       "<p><strong>Price:</strong> $ 14.000</p>"
      ],
      "text/plain": [
       "<IPython.core.display.HTML object>"
      ]
     },
     "metadata": {},
     "output_type": "display_data"
    },
    {
     "data": {
      "text/html": [
       "<p><strong>Availability:</strong> Disponible</p>"
      ],
      "text/plain": [
       "<IPython.core.display.HTML object>"
      ]
     },
     "metadata": {},
     "output_type": "display_data"
    },
    {
     "data": {
      "text/html": [
       "<hr>"
      ],
      "text/plain": [
       "<IPython.core.display.HTML object>"
      ]
     },
     "metadata": {},
     "output_type": "display_data"
    },
    {
     "data": {
      "text/html": [
       "<h2><a href='http://www.store.netdecker.cl/booster-packs/25910-blazing-vortex-booster-pack.html' target='_blank'>Blazing Vortex Booster Pack</a></h2>"
      ],
      "text/plain": [
       "<IPython.core.display.HTML object>"
      ]
     },
     "metadata": {},
     "output_type": "display_data"
    },
    {
     "data": {
      "text/html": [
       "<img src=\"http://www.store.netdecker.cl/25910-26701-home/blazing-vortex-booster-pack.jpg\" width=\"300\" height=\"300\"/>"
      ],
      "text/plain": [
       "<IPython.core.display.Image object>"
      ]
     },
     "metadata": {},
     "output_type": "display_data"
    },
    {
     "data": {
      "text/html": [
       "<p><strong>Description:</strong> Yu-Gi-Oh ! - Blazing Vortex Booster Pack﻿</p>"
      ],
      "text/plain": [
       "<IPython.core.display.HTML object>"
      ]
     },
     "metadata": {},
     "output_type": "display_data"
    },
    {
     "data": {
      "text/html": [
       "<p><strong>Price:</strong> $ 3.000</p>"
      ],
      "text/plain": [
       "<IPython.core.display.HTML object>"
      ]
     },
     "metadata": {},
     "output_type": "display_data"
    },
    {
     "data": {
      "text/html": [
       "<p><strong>Availability:</strong> Disponible</p>"
      ],
      "text/plain": [
       "<IPython.core.display.HTML object>"
      ]
     },
     "metadata": {},
     "output_type": "display_data"
    },
    {
     "data": {
      "text/html": [
       "<hr>"
      ],
      "text/plain": [
       "<IPython.core.display.HTML object>"
      ]
     },
     "metadata": {},
     "output_type": "display_data"
    },
    {
     "data": {
      "text/html": [
       "<h2><a href='http://www.store.netdecker.cl/brothers-of-legend/28126-brothers-of-legend-booster-pack.html' target='_blank'>Brothers of Legend Booster Pack</a></h2>"
      ],
      "text/plain": [
       "<IPython.core.display.HTML object>"
      ]
     },
     "metadata": {},
     "output_type": "display_data"
    },
    {
     "data": {
      "text/html": [
       "<img src=\"http://www.store.netdecker.cl/28126-29087-home/brothers-of-legend-booster-pack.jpg\" width=\"300\" height=\"300\"/>"
      ],
      "text/plain": [
       "<IPython.core.display.Image object>"
      ]
     },
     "metadata": {},
     "output_type": "display_data"
    },
    {
     "data": {
      "text/html": [
       "<p><strong>Description:</strong> Yu-Gi-Oh ! - Brothers of Legend Booster Pack﻿</p>"
      ],
      "text/plain": [
       "<IPython.core.display.HTML object>"
      ]
     },
     "metadata": {},
     "output_type": "display_data"
    },
    {
     "data": {
      "text/html": [
       "<p><strong>Price:</strong> $ 3.500</p>"
      ],
      "text/plain": [
       "<IPython.core.display.HTML object>"
      ]
     },
     "metadata": {},
     "output_type": "display_data"
    },
    {
     "data": {
      "text/html": [
       "<p><strong>Availability:</strong> Disponible</p>"
      ],
      "text/plain": [
       "<IPython.core.display.HTML object>"
      ]
     },
     "metadata": {},
     "output_type": "display_data"
    },
    {
     "data": {
      "text/html": [
       "<hr>"
      ],
      "text/plain": [
       "<IPython.core.display.HTML object>"
      ]
     },
     "metadata": {},
     "output_type": "display_data"
    },
    {
     "data": {
      "text/html": [
       "<h2><a href='http://www.store.netdecker.cl/burst-of-destiny/27719-burst-of-destiny-booster-pack.html' target='_blank'>Burst of Destiny Booster Pack</a></h2>"
      ],
      "text/plain": [
       "<IPython.core.display.HTML object>"
      ]
     },
     "metadata": {},
     "output_type": "display_data"
    },
    {
     "data": {
      "text/html": [
       "<img src=\"http://www.store.netdecker.cl/27719-28670-home/burst-of-destiny-booster-pack.jpg\" width=\"300\" height=\"300\"/>"
      ],
      "text/plain": [
       "<IPython.core.display.Image object>"
      ]
     },
     "metadata": {},
     "output_type": "display_data"
    },
    {
     "data": {
      "text/html": [
       "<p><strong>Description:</strong> Yu-Gi-Oh ! - Burst of Destiny Booster Pack﻿</p>"
      ],
      "text/plain": [
       "<IPython.core.display.HTML object>"
      ]
     },
     "metadata": {},
     "output_type": "display_data"
    },
    {
     "data": {
      "text/html": [
       "<p><strong>Price:</strong> $ 3.000</p>"
      ],
      "text/plain": [
       "<IPython.core.display.HTML object>"
      ]
     },
     "metadata": {},
     "output_type": "display_data"
    },
    {
     "data": {
      "text/html": [
       "<p><strong>Availability:</strong> Disponible</p>"
      ],
      "text/plain": [
       "<IPython.core.display.HTML object>"
      ]
     },
     "metadata": {},
     "output_type": "display_data"
    },
    {
     "data": {
      "text/html": [
       "<hr>"
      ],
      "text/plain": [
       "<IPython.core.display.HTML object>"
      ]
     },
     "metadata": {},
     "output_type": "display_data"
    },
    {
     "data": {
      "text/html": [
       "<h2><a href='http://www.store.netdecker.cl/chaos-impact/23494-chaos-impact-booster-pack.html' target='_blank'>Chaos Impact Booster Pack</a></h2>"
      ],
      "text/plain": [
       "<IPython.core.display.HTML object>"
      ]
     },
     "metadata": {},
     "output_type": "display_data"
    },
    {
     "data": {
      "text/html": [
       "<img src=\"http://www.store.netdecker.cl/23494-24230-home/chaos-impact-booster-pack.jpg\" width=\"300\" height=\"300\"/>"
      ],
      "text/plain": [
       "<IPython.core.display.Image object>"
      ]
     },
     "metadata": {},
     "output_type": "display_data"
    },
    {
     "data": {
      "text/html": [
       "<p><strong>Description:</strong> Yu-Gi-Oh ! - Chaos Impact Booster Pack﻿</p>"
      ],
      "text/plain": [
       "<IPython.core.display.HTML object>"
      ]
     },
     "metadata": {},
     "output_type": "display_data"
    },
    {
     "data": {
      "text/html": [
       "<p><strong>Price:</strong> $ 2.800</p>"
      ],
      "text/plain": [
       "<IPython.core.display.HTML object>"
      ]
     },
     "metadata": {},
     "output_type": "display_data"
    },
    {
     "data": {
      "text/html": [
       "<p><strong>Availability:</strong> Disponible</p>"
      ],
      "text/plain": [
       "<IPython.core.display.HTML object>"
      ]
     },
     "metadata": {},
     "output_type": "display_data"
    },
    {
     "data": {
      "text/html": [
       "<hr>"
      ],
      "text/plain": [
       "<IPython.core.display.HTML object>"
      ]
     },
     "metadata": {},
     "output_type": "display_data"
    },
    {
     "data": {
      "text/html": [
       "<h2><a href='http://www.store.netdecker.cl/special-edition/23669-chaos-impact-se.html' target='_blank'>Chaos Impact SE</a></h2>"
      ],
      "text/plain": [
       "<IPython.core.display.HTML object>"
      ]
     },
     "metadata": {},
     "output_type": "display_data"
    },
    {
     "data": {
      "text/html": [
       "<img src=\"http://www.store.netdecker.cl/23669-24406-home/chaos-impact-se.jpg\" width=\"300\" height=\"300\"/>"
      ],
      "text/plain": [
       "<IPython.core.display.Image object>"
      ]
     },
     "metadata": {},
     "output_type": "display_data"
    },
    {
     "data": {
      "text/html": [
       "<p><strong>Description:</strong> Yu-Gi-Oh ! - Chaos Impact SE﻿</p>"
      ],
      "text/plain": [
       "<IPython.core.display.HTML object>"
      ]
     },
     "metadata": {},
     "output_type": "display_data"
    },
    {
     "data": {
      "text/html": [
       "<p><strong>Price:</strong> $ 8.000</p>"
      ],
      "text/plain": [
       "<IPython.core.display.HTML object>"
      ]
     },
     "metadata": {},
     "output_type": "display_data"
    },
    {
     "data": {
      "text/html": [
       "<p><strong>Availability:</strong> Disponible</p>"
      ],
      "text/plain": [
       "<IPython.core.display.HTML object>"
      ]
     },
     "metadata": {},
     "output_type": "display_data"
    },
    {
     "data": {
      "text/html": [
       "<hr>"
      ],
      "text/plain": [
       "<IPython.core.display.HTML object>"
      ]
     },
     "metadata": {},
     "output_type": "display_data"
    },
    {
     "data": {
      "text/html": [
       "<h2><a href='http://www.store.netdecker.cl/booster-packs/27223-circuit-break-1st-edition-booster-pack.html' target='_blank'>Circuit Break 1st Edition...</a></h2>"
      ],
      "text/plain": [
       "<IPython.core.display.HTML object>"
      ]
     },
     "metadata": {},
     "output_type": "display_data"
    },
    {
     "data": {
      "text/html": [
       "<img src=\"http://www.store.netdecker.cl/27223-28159-home/circuit-break-1st-edition-booster-pack.jpg\" width=\"300\" height=\"300\"/>"
      ],
      "text/plain": [
       "<IPython.core.display.Image object>"
      ]
     },
     "metadata": {},
     "output_type": "display_data"
    },
    {
     "data": {
      "text/html": [
       "<p><strong>Description:</strong> Yu-Gi-Oh ! - Circuit Break 1st Edition Booster Pack﻿</p>"
      ],
      "text/plain": [
       "<IPython.core.display.HTML object>"
      ]
     },
     "metadata": {},
     "output_type": "display_data"
    },
    {
     "data": {
      "text/html": [
       "<p><strong>Price:</strong> $ 3.000</p>"
      ],
      "text/plain": [
       "<IPython.core.display.HTML object>"
      ]
     },
     "metadata": {},
     "output_type": "display_data"
    },
    {
     "data": {
      "text/html": [
       "<p><strong>Availability:</strong> Disponible</p>"
      ],
      "text/plain": [
       "<IPython.core.display.HTML object>"
      ]
     },
     "metadata": {},
     "output_type": "display_data"
    },
    {
     "data": {
      "text/html": [
       "<hr>"
      ],
      "text/plain": [
       "<IPython.core.display.HTML object>"
      ]
     },
     "metadata": {},
     "output_type": "display_data"
    },
    {
     "data": {
      "text/html": [
       "<h2><a href='http://www.store.netdecker.cl/booster-packs/27246-code-of-the-duelist-booster-pack.html' target='_blank'>Code of the Duelist Booster Pack</a></h2>"
      ],
      "text/plain": [
       "<IPython.core.display.HTML object>"
      ]
     },
     "metadata": {},
     "output_type": "display_data"
    },
    {
     "data": {
      "text/html": [
       "<img src=\"http://www.store.netdecker.cl/27246-28187-home/code-of-the-duelist-booster-pack.jpg\" width=\"300\" height=\"300\"/>"
      ],
      "text/plain": [
       "<IPython.core.display.Image object>"
      ]
     },
     "metadata": {},
     "output_type": "display_data"
    },
    {
     "data": {
      "text/html": [
       "<p><strong>Description:</strong> Yu-Gi-Oh ! - Code of the Duelist Booster Pack﻿</p>"
      ],
      "text/plain": [
       "<IPython.core.display.HTML object>"
      ]
     },
     "metadata": {},
     "output_type": "display_data"
    },
    {
     "data": {
      "text/html": [
       "<p><strong>Price:</strong> $ 2.800</p>"
      ],
      "text/plain": [
       "<IPython.core.display.HTML object>"
      ]
     },
     "metadata": {},
     "output_type": "display_data"
    },
    {
     "data": {
      "text/html": [
       "<p><strong>Availability:</strong> Disponible</p>"
      ],
      "text/plain": [
       "<IPython.core.display.HTML object>"
      ]
     },
     "metadata": {},
     "output_type": "display_data"
    },
    {
     "data": {
      "text/html": [
       "<hr>"
      ],
      "text/plain": [
       "<IPython.core.display.HTML object>"
      ]
     },
     "metadata": {},
     "output_type": "display_data"
    },
    {
     "data": {
      "text/html": [
       "<h2><a href='http://www.store.netdecker.cl/cyber-strike/27628-cyber-strike.html' target='_blank'>Cyber Strike</a></h2>"
      ],
      "text/plain": [
       "<IPython.core.display.HTML object>"
      ]
     },
     "metadata": {},
     "output_type": "display_data"
    },
    {
     "data": {
      "text/html": [
       "<img src=\"http://www.store.netdecker.cl/27628-28578-home/cyber-strike.jpg\" width=\"300\" height=\"300\"/>"
      ],
      "text/plain": [
       "<IPython.core.display.Image object>"
      ]
     },
     "metadata": {},
     "output_type": "display_data"
    },
    {
     "data": {
      "text/html": [
       "<p><strong>Description:</strong> Yu-Gi-Oh ! - Cyber Strike</p>"
      ],
      "text/plain": [
       "<IPython.core.display.HTML object>"
      ]
     },
     "metadata": {},
     "output_type": "display_data"
    },
    {
     "data": {
      "text/html": [
       "<p><strong>Price:</strong> $ 14.000</p>"
      ],
      "text/plain": [
       "<IPython.core.display.HTML object>"
      ]
     },
     "metadata": {},
     "output_type": "display_data"
    },
    {
     "data": {
      "text/html": [
       "<p><strong>Availability:</strong> Disponible</p>"
      ],
      "text/plain": [
       "<IPython.core.display.HTML object>"
      ]
     },
     "metadata": {},
     "output_type": "display_data"
    },
    {
     "data": {
      "text/html": [
       "<hr>"
      ],
      "text/plain": [
       "<IPython.core.display.HTML object>"
      ]
     },
     "metadata": {},
     "output_type": "display_data"
    },
    {
     "data": {
      "text/html": [
       "<h2><a href='http://www.store.netdecker.cl/cyber-strike/29344-cyber-strike.html' target='_blank'>Cyber Strike</a></h2>"
      ],
      "text/plain": [
       "<IPython.core.display.HTML object>"
      ]
     },
     "metadata": {},
     "output_type": "display_data"
    },
    {
     "data": {
      "text/html": [
       "<img src=\"http://www.store.netdecker.cl/29344-30392-home/cyber-strike.jpg\" width=\"300\" height=\"300\"/>"
      ],
      "text/plain": [
       "<IPython.core.display.Image object>"
      ]
     },
     "metadata": {},
     "output_type": "display_data"
    },
    {
     "data": {
      "text/html": [
       "<p><strong>Description:</strong> Yu-Gi-Oh ! - Cyber Strike</p>"
      ],
      "text/plain": [
       "<IPython.core.display.HTML object>"
      ]
     },
     "metadata": {},
     "output_type": "display_data"
    },
    {
     "data": {
      "text/html": [
       "<p><strong>Price:</strong> $ 11.000</p>"
      ],
      "text/plain": [
       "<IPython.core.display.HTML object>"
      ]
     },
     "metadata": {},
     "output_type": "display_data"
    },
    {
     "data": {
      "text/html": [
       "<p><strong>Availability:</strong> Disponible</p>"
      ],
      "text/plain": [
       "<IPython.core.display.HTML object>"
      ]
     },
     "metadata": {},
     "output_type": "display_data"
    },
    {
     "data": {
      "text/html": [
       "<hr>"
      ],
      "text/plain": [
       "<IPython.core.display.HTML object>"
      ]
     },
     "metadata": {},
     "output_type": "display_data"
    },
    {
     "data": {
      "text/html": [
       "<h2><a href='http://www.store.netdecker.cl/booster-packs/31311-cyberstorm-access-booster-pack.html' target='_blank'>Cyberstorm Access Booster Pack</a></h2>"
      ],
      "text/plain": [
       "<IPython.core.display.HTML object>"
      ]
     },
     "metadata": {},
     "output_type": "display_data"
    },
    {
     "data": {
      "text/html": [
       "<img src=\"http://www.store.netdecker.cl/31311-32392-home/cyberstorm-access-booster-pack.jpg\" width=\"300\" height=\"300\"/>"
      ],
      "text/plain": [
       "<IPython.core.display.Image object>"
      ]
     },
     "metadata": {},
     "output_type": "display_data"
    },
    {
     "data": {
      "text/html": [
       "<p><strong>Description:</strong> Yu-Gi-Oh ! - Cyberstorm Access Booster Pack﻿</p>"
      ],
      "text/plain": [
       "<IPython.core.display.HTML object>"
      ]
     },
     "metadata": {},
     "output_type": "display_data"
    },
    {
     "data": {
      "text/html": [
       "<p><strong>Price:</strong> $ 4.000</p>"
      ],
      "text/plain": [
       "<IPython.core.display.HTML object>"
      ]
     },
     "metadata": {},
     "output_type": "display_data"
    },
    {
     "data": {
      "text/html": [
       "<p><strong>Availability:</strong> Disponible</p>"
      ],
      "text/plain": [
       "<IPython.core.display.HTML object>"
      ]
     },
     "metadata": {},
     "output_type": "display_data"
    },
    {
     "data": {
      "text/html": [
       "<hr>"
      ],
      "text/plain": [
       "<IPython.core.display.HTML object>"
      ]
     },
     "metadata": {},
     "output_type": "display_data"
    },
    {
     "data": {
      "text/html": [
       "<h2><a href='http://www.store.netdecker.cl/booster-packs/31312-cyberstorm-access-booster-pack.html' target='_blank'>Cyberstorm Access Booster Pack</a></h2>"
      ],
      "text/plain": [
       "<IPython.core.display.HTML object>"
      ]
     },
     "metadata": {},
     "output_type": "display_data"
    },
    {
     "data": {
      "text/html": [
       "<img src=\"http://www.store.netdecker.cl/31312-32393-home/cyberstorm-access-booster-pack.jpg\" width=\"300\" height=\"300\"/>"
      ],
      "text/plain": [
       "<IPython.core.display.Image object>"
      ]
     },
     "metadata": {},
     "output_type": "display_data"
    },
    {
     "data": {
      "text/html": [
       "<p><strong>Description:</strong> Yu-Gi-Oh ! - Cyberstorm Access Booster Pack﻿</p>"
      ],
      "text/plain": [
       "<IPython.core.display.HTML object>"
      ]
     },
     "metadata": {},
     "output_type": "display_data"
    },
    {
     "data": {
      "text/html": [
       "<p><strong>Price:</strong> $ 4.000</p>"
      ],
      "text/plain": [
       "<IPython.core.display.HTML object>"
      ]
     },
     "metadata": {},
     "output_type": "display_data"
    },
    {
     "data": {
      "text/html": [
       "<p><strong>Availability:</strong> Disponible</p>"
      ],
      "text/plain": [
       "<IPython.core.display.HTML object>"
      ]
     },
     "metadata": {},
     "output_type": "display_data"
    },
    {
     "data": {
      "text/html": [
       "<hr>"
      ],
      "text/plain": [
       "<IPython.core.display.HTML object>"
      ]
     },
     "metadata": {},
     "output_type": "display_data"
    },
    {
     "data": {
      "text/html": [
       "<h2><a href='http://www.store.netdecker.cl/dark-neostorm/22560-dark-neostorm-booster-box.html' target='_blank'>Dark Neostorm Booster Pack</a></h2>"
      ],
      "text/plain": [
       "<IPython.core.display.HTML object>"
      ]
     },
     "metadata": {},
     "output_type": "display_data"
    },
    {
     "data": {
      "text/html": [
       "<img src=\"http://www.store.netdecker.cl/22560-23286-home/dark-neostorm-booster-box.jpg\" width=\"300\" height=\"300\"/>"
      ],
      "text/plain": [
       "<IPython.core.display.Image object>"
      ]
     },
     "metadata": {},
     "output_type": "display_data"
    },
    {
     "data": {
      "text/html": [
       "<p><strong>Description:</strong> Yu-Gi-Oh ! - Dark Neostorm Booster Pack﻿</p>"
      ],
      "text/plain": [
       "<IPython.core.display.HTML object>"
      ]
     },
     "metadata": {},
     "output_type": "display_data"
    },
    {
     "data": {
      "text/html": [
       "<p><strong>Price:</strong> $ 2.800</p>"
      ],
      "text/plain": [
       "<IPython.core.display.HTML object>"
      ]
     },
     "metadata": {},
     "output_type": "display_data"
    },
    {
     "data": {
      "text/html": [
       "<p><strong>Availability:</strong> Disponible</p>"
      ],
      "text/plain": [
       "<IPython.core.display.HTML object>"
      ]
     },
     "metadata": {},
     "output_type": "display_data"
    },
    {
     "data": {
      "text/html": [
       "<hr>"
      ],
      "text/plain": [
       "<IPython.core.display.HTML object>"
      ]
     },
     "metadata": {},
     "output_type": "display_data"
    },
    {
     "data": {
      "text/html": [
       "<h2><a href='http://www.store.netdecker.cl/special-edition/22731-dark-neostorm-se.html' target='_blank'>Dark Neostorm SE</a></h2>"
      ],
      "text/plain": [
       "<IPython.core.display.HTML object>"
      ]
     },
     "metadata": {},
     "output_type": "display_data"
    },
    {
     "data": {
      "text/html": [
       "<img src=\"http://www.store.netdecker.cl/22731-23463-home/dark-neostorm-se.jpg\" width=\"300\" height=\"300\"/>"
      ],
      "text/plain": [
       "<IPython.core.display.Image object>"
      ]
     },
     "metadata": {},
     "output_type": "display_data"
    },
    {
     "data": {
      "text/html": [
       "<p><strong>Description:</strong> Yu-Gi-Oh ! - Dark Neostorm SE﻿</p>"
      ],
      "text/plain": [
       "<IPython.core.display.HTML object>"
      ]
     },
     "metadata": {},
     "output_type": "display_data"
    },
    {
     "data": {
      "text/html": [
       "<p><strong>Price:</strong> $ 7.500</p>"
      ],
      "text/plain": [
       "<IPython.core.display.HTML object>"
      ]
     },
     "metadata": {},
     "output_type": "display_data"
    },
    {
     "data": {
      "text/html": [
       "<p><strong>Availability:</strong> Disponible</p>"
      ],
      "text/plain": [
       "<IPython.core.display.HTML object>"
      ]
     },
     "metadata": {},
     "output_type": "display_data"
    },
    {
     "data": {
      "text/html": [
       "<hr>"
      ],
      "text/plain": [
       "<IPython.core.display.HTML object>"
      ]
     },
     "metadata": {},
     "output_type": "display_data"
    },
    {
     "data": {
      "text/html": [
       "<h2><a href='http://www.store.netdecker.cl/dark-world/30516-dark-world.html' target='_blank'>Dark World</a></h2>"
      ],
      "text/plain": [
       "<IPython.core.display.HTML object>"
      ]
     },
     "metadata": {},
     "output_type": "display_data"
    },
    {
     "data": {
      "text/html": [
       "<img src=\"http://www.store.netdecker.cl/30516-31579-home/dark-world.jpg\" width=\"300\" height=\"300\"/>"
      ],
      "text/plain": [
       "<IPython.core.display.Image object>"
      ]
     },
     "metadata": {},
     "output_type": "display_data"
    },
    {
     "data": {
      "text/html": [
       "<p><strong>Description:</strong> Yu-Gi-Oh ! - Dark World</p>"
      ],
      "text/plain": [
       "<IPython.core.display.HTML object>"
      ]
     },
     "metadata": {},
     "output_type": "display_data"
    },
    {
     "data": {
      "text/html": [
       "<p><strong>Price:</strong> $ 15.000</p>"
      ],
      "text/plain": [
       "<IPython.core.display.HTML object>"
      ]
     },
     "metadata": {},
     "output_type": "display_data"
    },
    {
     "data": {
      "text/html": [
       "<p><strong>Availability:</strong> Disponible</p>"
      ],
      "text/plain": [
       "<IPython.core.display.HTML object>"
      ]
     },
     "metadata": {},
     "output_type": "display_data"
    },
    {
     "data": {
      "text/html": [
       "<hr>"
      ],
      "text/plain": [
       "<IPython.core.display.HTML object>"
      ]
     },
     "metadata": {},
     "output_type": "display_data"
    },
    {
     "data": {
      "text/html": [
       "<h2><a href='http://www.store.netdecker.cl/dark-world/30653-dark-world.html' target='_blank'>Dark World</a></h2>"
      ],
      "text/plain": [
       "<IPython.core.display.HTML object>"
      ]
     },
     "metadata": {},
     "output_type": "display_data"
    },
    {
     "data": {
      "text/html": [
       "<img src=\"http://www.store.netdecker.cl/30653-31717-home/dark-world.jpg\" width=\"300\" height=\"300\"/>"
      ],
      "text/plain": [
       "<IPython.core.display.Image object>"
      ]
     },
     "metadata": {},
     "output_type": "display_data"
    },
    {
     "data": {
      "text/html": [
       "<p><strong>Description:</strong> Yu-Gi-Oh ! - Dark World﻿</p>"
      ],
      "text/plain": [
       "<IPython.core.display.HTML object>"
      ]
     },
     "metadata": {},
     "output_type": "display_data"
    },
    {
     "data": {
      "text/html": [
       "<p><strong>Price:</strong> $ 15.000</p>"
      ],
      "text/plain": [
       "<IPython.core.display.HTML object>"
      ]
     },
     "metadata": {},
     "output_type": "display_data"
    },
    {
     "data": {
      "text/html": [
       "<p><strong>Availability:</strong> Disponible</p>"
      ],
      "text/plain": [
       "<IPython.core.display.HTML object>"
      ]
     },
     "metadata": {},
     "output_type": "display_data"
    },
    {
     "data": {
      "text/html": [
       "<hr>"
      ],
      "text/plain": [
       "<IPython.core.display.HTML object>"
      ]
     },
     "metadata": {},
     "output_type": "display_data"
    },
    {
     "data": {
      "text/html": [
       "<h2><a href='http://www.store.netdecker.cl/darkwing-blast/30229-darkwing-blast-booster-pack.html' target='_blank'>Darkwing Blast Booster Pack</a></h2>"
      ],
      "text/plain": [
       "<IPython.core.display.HTML object>"
      ]
     },
     "metadata": {},
     "output_type": "display_data"
    },
    {
     "data": {
      "text/html": [
       "<img src=\"http://www.store.netdecker.cl/30229-31283-home/darkwing-blast-booster-pack.jpg\" width=\"300\" height=\"300\"/>"
      ],
      "text/plain": [
       "<IPython.core.display.Image object>"
      ]
     },
     "metadata": {},
     "output_type": "display_data"
    },
    {
     "data": {
      "text/html": [
       "<p><strong>Description:</strong> Yu-Gi-Oh ! - Darkwing Blast Booster Pack﻿</p>"
      ],
      "text/plain": [
       "<IPython.core.display.HTML object>"
      ]
     },
     "metadata": {},
     "output_type": "display_data"
    },
    {
     "data": {
      "text/html": [
       "<p><strong>Price:</strong> $ 4.000</p>"
      ],
      "text/plain": [
       "<IPython.core.display.HTML object>"
      ]
     },
     "metadata": {},
     "output_type": "display_data"
    },
    {
     "data": {
      "text/html": [
       "<p><strong>Availability:</strong> Disponible</p>"
      ],
      "text/plain": [
       "<IPython.core.display.HTML object>"
      ]
     },
     "metadata": {},
     "output_type": "display_data"
    },
    {
     "data": {
      "text/html": [
       "<hr>"
      ],
      "text/plain": [
       "<IPython.core.display.HTML object>"
      ]
     },
     "metadata": {},
     "output_type": "display_data"
    },
    {
     "data": {
      "text/html": [
       "<h2><a href='http://www.store.netdecker.cl/dawn-of-majesty/27067-dawn-of-majesty-booster-pack.html' target='_blank'>Dawn of Majesty Booster Pack</a></h2>"
      ],
      "text/plain": [
       "<IPython.core.display.HTML object>"
      ]
     },
     "metadata": {},
     "output_type": "display_data"
    },
    {
     "data": {
      "text/html": [
       "<img src=\"http://www.store.netdecker.cl/27067-27994-home/dawn-of-majesty-booster-pack.jpg\" width=\"300\" height=\"300\"/>"
      ],
      "text/plain": [
       "<IPython.core.display.Image object>"
      ]
     },
     "metadata": {},
     "output_type": "display_data"
    },
    {
     "data": {
      "text/html": [
       "<p><strong>Description:</strong> Yu-Gi-Oh !  - Dawn of Majesty Booster Box﻿</p>"
      ],
      "text/plain": [
       "<IPython.core.display.HTML object>"
      ]
     },
     "metadata": {},
     "output_type": "display_data"
    },
    {
     "data": {
      "text/html": [
       "<p><strong>Price:</strong> $ 3.000</p>"
      ],
      "text/plain": [
       "<IPython.core.display.HTML object>"
      ]
     },
     "metadata": {},
     "output_type": "display_data"
    },
    {
     "data": {
      "text/html": [
       "<p><strong>Availability:</strong> Disponible</p>"
      ],
      "text/plain": [
       "<IPython.core.display.HTML object>"
      ]
     },
     "metadata": {},
     "output_type": "display_data"
    },
    {
     "data": {
      "text/html": [
       "<hr>"
      ],
      "text/plain": [
       "<IPython.core.display.HTML object>"
      ]
     },
     "metadata": {},
     "output_type": "display_data"
    },
    {
     "data": {
      "text/html": [
       "<h2><a href='http://www.store.netdecker.cl/dimension-force/29072-dimension-force-booster-pack.html' target='_blank'>Dimension Force Booster Pack</a></h2>"
      ],
      "text/plain": [
       "<IPython.core.display.HTML object>"
      ]
     },
     "metadata": {},
     "output_type": "display_data"
    },
    {
     "data": {
      "text/html": [
       "<img src=\"http://www.store.netdecker.cl/29072-30092-home/dimension-force-booster-pack.jpg\" width=\"300\" height=\"300\"/>"
      ],
      "text/plain": [
       "<IPython.core.display.Image object>"
      ]
     },
     "metadata": {},
     "output_type": "display_data"
    },
    {
     "data": {
      "text/html": [
       "<p><strong>Description:</strong> Yu-Gi-Oh ! - Dimension Force Booster Pack</p>"
      ],
      "text/plain": [
       "<IPython.core.display.HTML object>"
      ]
     },
     "metadata": {},
     "output_type": "display_data"
    },
    {
     "data": {
      "text/html": [
       "<p><strong>Price:</strong> $ 3.300</p>"
      ],
      "text/plain": [
       "<IPython.core.display.HTML object>"
      ]
     },
     "metadata": {},
     "output_type": "display_data"
    },
    {
     "data": {
      "text/html": [
       "<p><strong>Availability:</strong> Disponible</p>"
      ],
      "text/plain": [
       "<IPython.core.display.HTML object>"
      ]
     },
     "metadata": {},
     "output_type": "display_data"
    },
    {
     "data": {
      "text/html": [
       "<hr>"
      ],
      "text/plain": [
       "<IPython.core.display.HTML object>"
      ]
     },
     "metadata": {},
     "output_type": "display_data"
    },
    {
     "data": {
      "text/html": [
       "<h2><a href='http://www.store.netdecker.cl/booster-packs/18363-dimensional-guardians-booster-pack.html' target='_blank'>Dimensional Guardians Booster Pack</a></h2>"
      ],
      "text/plain": [
       "<IPython.core.display.HTML object>"
      ]
     },
     "metadata": {},
     "output_type": "display_data"
    },
    {
     "data": {
      "text/html": [
       "<img src=\"http://www.store.netdecker.cl/18363-18973-home/dimensional-guardians-booster-pack.jpg\" width=\"300\" height=\"300\"/>"
      ],
      "text/plain": [
       "<IPython.core.display.Image object>"
      ]
     },
     "metadata": {},
     "output_type": "display_data"
    },
    {
     "data": {
      "text/html": [
       "<p><strong>Description:</strong> Yu-Gi-Oh ! - Dimensional Guardians Booster Pack﻿</p>"
      ],
      "text/plain": [
       "<IPython.core.display.HTML object>"
      ]
     },
     "metadata": {},
     "output_type": "display_data"
    },
    {
     "data": {
      "text/html": [
       "<p><strong>Price:</strong> $ 1.500</p>"
      ],
      "text/plain": [
       "<IPython.core.display.HTML object>"
      ]
     },
     "metadata": {},
     "output_type": "display_data"
    },
    {
     "data": {
      "text/html": [
       "<p><strong>Availability:</strong> Disponible</p>"
      ],
      "text/plain": [
       "<IPython.core.display.HTML object>"
      ]
     },
     "metadata": {},
     "output_type": "display_data"
    },
    {
     "data": {
      "text/html": [
       "<hr>"
      ],
      "text/plain": [
       "<IPython.core.display.HTML object>"
      ]
     },
     "metadata": {},
     "output_type": "display_data"
    },
    {
     "data": {
      "text/html": [
       "<h2><a href='http://www.store.netdecker.cl/duel-devastator/23358-duel-devastator.html' target='_blank'>Duel Devastator</a></h2>"
      ],
      "text/plain": [
       "<IPython.core.display.HTML object>"
      ]
     },
     "metadata": {},
     "output_type": "display_data"
    },
    {
     "data": {
      "text/html": [
       "<img src=\"http://www.store.netdecker.cl/23358-34299-home/duel-devastator.jpg\" width=\"300\" height=\"300\"/>"
      ],
      "text/plain": [
       "<IPython.core.display.Image object>"
      ]
     },
     "metadata": {},
     "output_type": "display_data"
    },
    {
     "data": {
      "text/html": [
       "<p><strong>Description:</strong> Yu-Gi-Oh ! - Duel Devastator﻿</p>"
      ],
      "text/plain": [
       "<IPython.core.display.HTML object>"
      ]
     },
     "metadata": {},
     "output_type": "display_data"
    },
    {
     "data": {
      "text/html": [
       "<p><strong>Price:</strong> $ 29.000</p>"
      ],
      "text/plain": [
       "<IPython.core.display.HTML object>"
      ]
     },
     "metadata": {},
     "output_type": "display_data"
    },
    {
     "data": {
      "text/html": [
       "<p><strong>Availability:</strong> Disponible</p>"
      ],
      "text/plain": [
       "<IPython.core.display.HTML object>"
      ]
     },
     "metadata": {},
     "output_type": "display_data"
    },
    {
     "data": {
      "text/html": [
       "<hr>"
      ],
      "text/plain": [
       "<IPython.core.display.HTML object>"
      ]
     },
     "metadata": {},
     "output_type": "display_data"
    },
    {
     "data": {
      "text/html": [
       "<h2><a href='http://www.store.netdecker.cl/duel-overload/25891-duel-overload.html' target='_blank'>Duel Overload</a></h2>"
      ],
      "text/plain": [
       "<IPython.core.display.HTML object>"
      ]
     },
     "metadata": {},
     "output_type": "display_data"
    },
    {
     "data": {
      "text/html": [
       "<img src=\"http://www.store.netdecker.cl/25891-26681-home/duel-overload.jpg\" width=\"300\" height=\"300\"/>"
      ],
      "text/plain": [
       "<IPython.core.display.Image object>"
      ]
     },
     "metadata": {},
     "output_type": "display_data"
    },
    {
     "data": {
      "text/html": [
       "<p><strong>Description:</strong> Yu-Gi-Oh ! - Duel Overload﻿</p>"
      ],
      "text/plain": [
       "<IPython.core.display.HTML object>"
      ]
     },
     "metadata": {},
     "output_type": "display_data"
    },
    {
     "data": {
      "text/html": [
       "<p><strong>Price:</strong> $ 30.000</p>"
      ],
      "text/plain": [
       "<IPython.core.display.HTML object>"
      ]
     },
     "metadata": {},
     "output_type": "display_data"
    },
    {
     "data": {
      "text/html": [
       "<p><strong>Availability:</strong> Disponible</p>"
      ],
      "text/plain": [
       "<IPython.core.display.HTML object>"
      ]
     },
     "metadata": {},
     "output_type": "display_data"
    },
    {
     "data": {
      "text/html": [
       "<hr>"
      ],
      "text/plain": [
       "<IPython.core.display.HTML object>"
      ]
     },
     "metadata": {},
     "output_type": "display_data"
    },
    {
     "data": {
      "text/html": [
       "<h2><a href='http://www.store.netdecker.cl/tins/31902-dueling-heroes-tin.html' target='_blank'>Dueling Heroes Tin</a></h2>"
      ],
      "text/plain": [
       "<IPython.core.display.HTML object>"
      ]
     },
     "metadata": {},
     "output_type": "display_data"
    },
    {
     "data": {
      "text/html": [
       "<img src=\"http://www.store.netdecker.cl/31902-33005-home/dueling-heroes-tin.jpg\" width=\"300\" height=\"300\"/>"
      ],
      "text/plain": [
       "<IPython.core.display.Image object>"
      ]
     },
     "metadata": {},
     "output_type": "display_data"
    },
    {
     "data": {
      "text/html": [
       "<p><strong>Description:</strong> Dueling Heroes Tin</p>"
      ],
      "text/plain": [
       "<IPython.core.display.HTML object>"
      ]
     },
     "metadata": {},
     "output_type": "display_data"
    },
    {
     "data": {
      "text/html": [
       "<p><strong>Price:</strong> $ 24.000</p>"
      ],
      "text/plain": [
       "<IPython.core.display.HTML object>"
      ]
     },
     "metadata": {},
     "output_type": "display_data"
    },
    {
     "data": {
      "text/html": [
       "<p><strong>Availability:</strong> Disponible</p>"
      ],
      "text/plain": [
       "<IPython.core.display.HTML object>"
      ]
     },
     "metadata": {},
     "output_type": "display_data"
    },
    {
     "data": {
      "text/html": [
       "<hr>"
      ],
      "text/plain": [
       "<IPython.core.display.HTML object>"
      ]
     },
     "metadata": {},
     "output_type": "display_data"
    },
    {
     "data": {
      "text/html": [
       "<h2><a href='http://www.store.netdecker.cl/tins/31903-dueling-heroes-tin.html' target='_blank'>Dueling Heroes Tin</a></h2>"
      ],
      "text/plain": [
       "<IPython.core.display.HTML object>"
      ]
     },
     "metadata": {},
     "output_type": "display_data"
    },
    {
     "data": {
      "text/html": [
       "<img src=\"http://www.store.netdecker.cl/31903-33006-home/dueling-heroes-tin.jpg\" width=\"300\" height=\"300\"/>"
      ],
      "text/plain": [
       "<IPython.core.display.Image object>"
      ]
     },
     "metadata": {},
     "output_type": "display_data"
    },
    {
     "data": {
      "text/html": [
       "<p><strong>Description:</strong> Dueling Heroes Tin</p>"
      ],
      "text/plain": [
       "<IPython.core.display.HTML object>"
      ]
     },
     "metadata": {},
     "output_type": "display_data"
    },
    {
     "data": {
      "text/html": [
       "<p><strong>Price:</strong> $ 24.000</p>"
      ],
      "text/plain": [
       "<IPython.core.display.HTML object>"
      ]
     },
     "metadata": {},
     "output_type": "display_data"
    },
    {
     "data": {
      "text/html": [
       "<p><strong>Availability:</strong> Disponible</p>"
      ],
      "text/plain": [
       "<IPython.core.display.HTML object>"
      ]
     },
     "metadata": {},
     "output_type": "display_data"
    },
    {
     "data": {
      "text/html": [
       "<hr>"
      ],
      "text/plain": [
       "<IPython.core.display.HTML object>"
      ]
     },
     "metadata": {},
     "output_type": "display_data"
    },
    {
     "data": {
      "text/html": [
       "<h2><a href='http://www.store.netdecker.cl/duels-from-the-deep/29282-duels-from-the-deep-booster-pack.html' target='_blank'>Duels From the Deep Booster Pack</a></h2>"
      ],
      "text/plain": [
       "<IPython.core.display.HTML object>"
      ]
     },
     "metadata": {},
     "output_type": "display_data"
    },
    {
     "data": {
      "text/html": [
       "<img src=\"http://www.store.netdecker.cl/29282-30315-home/duels-from-the-deep-booster-pack.jpg\" width=\"300\" height=\"300\"/>"
      ],
      "text/plain": [
       "<IPython.core.display.Image object>"
      ]
     },
     "metadata": {},
     "output_type": "display_data"
    },
    {
     "data": {
      "text/html": [
       "<p><strong>Description:</strong> Duels From the Deep Booster Pack</p>"
      ],
      "text/plain": [
       "<IPython.core.display.HTML object>"
      ]
     },
     "metadata": {},
     "output_type": "display_data"
    },
    {
     "data": {
      "text/html": [
       "<p><strong>Price:</strong> $ 1.800</p>"
      ],
      "text/plain": [
       "<IPython.core.display.HTML object>"
      ]
     },
     "metadata": {},
     "output_type": "display_data"
    },
    {
     "data": {
      "text/html": [
       "<p><strong>Availability:</strong> Disponible</p>"
      ],
      "text/plain": [
       "<IPython.core.display.HTML object>"
      ]
     },
     "metadata": {},
     "output_type": "display_data"
    },
    {
     "data": {
      "text/html": [
       "<hr>"
      ],
      "text/plain": [
       "<IPython.core.display.HTML object>"
      ]
     },
     "metadata": {},
     "output_type": "display_data"
    },
    {
     "data": {
      "text/html": [
       "<h2><a href='http://www.store.netdecker.cl/god-deck-obelisk/26929-egyptian-god-deck-obelisk-the-tormentor.html' target='_blank'>Egyptian God Deck: Obelisk the...</a></h2>"
      ],
      "text/plain": [
       "<IPython.core.display.HTML object>"
      ]
     },
     "metadata": {},
     "output_type": "display_data"
    },
    {
     "data": {
      "text/html": [
       "<img src=\"http://www.store.netdecker.cl/26929-27854-home/egyptian-god-deck-obelisk-the-tormentor.jpg\" width=\"300\" height=\"300\"/>"
      ],
      "text/plain": [
       "<IPython.core.display.Image object>"
      ]
     },
     "metadata": {},
     "output_type": "display_data"
    },
    {
     "data": {
      "text/html": [
       "<p><strong>Description:</strong> Yu-Gi-Oh ! - Egyptian God Deck: Obelisk the Tormentor﻿</p>"
      ],
      "text/plain": [
       "<IPython.core.display.HTML object>"
      ]
     },
     "metadata": {},
     "output_type": "display_data"
    },
    {
     "data": {
      "text/html": [
       "<p><strong>Price:</strong> $ 9.000</p>"
      ],
      "text/plain": [
       "<IPython.core.display.HTML object>"
      ]
     },
     "metadata": {},
     "output_type": "display_data"
    },
    {
     "data": {
      "text/html": [
       "<p><strong>Availability:</strong> Disponible</p>"
      ],
      "text/plain": [
       "<IPython.core.display.HTML object>"
      ]
     },
     "metadata": {},
     "output_type": "display_data"
    },
    {
     "data": {
      "text/html": [
       "<hr>"
      ],
      "text/plain": [
       "<IPython.core.display.HTML object>"
      ]
     },
     "metadata": {},
     "output_type": "display_data"
    },
    {
     "data": {
      "text/html": [
       "<h2><a href='http://www.store.netdecker.cl/god-deck-obelisk/31644-egyptian-god-deck-obelisk-the-tormentor.html' target='_blank'>Egyptian God Deck: Obelisk the...</a></h2>"
      ],
      "text/plain": [
       "<IPython.core.display.HTML object>"
      ]
     },
     "metadata": {},
     "output_type": "display_data"
    },
    {
     "data": {
      "text/html": [
       "<img src=\"http://www.store.netdecker.cl/31644-32735-home/egyptian-god-deck-obelisk-the-tormentor.jpg\" width=\"300\" height=\"300\"/>"
      ],
      "text/plain": [
       "<IPython.core.display.Image object>"
      ]
     },
     "metadata": {},
     "output_type": "display_data"
    },
    {
     "data": {
      "text/html": [
       "<p><strong>Description:</strong> Yu-Gi-Oh ! - Egyptian God Deck: Obelisk the Tormentor﻿</p>"
      ],
      "text/plain": [
       "<IPython.core.display.HTML object>"
      ]
     },
     "metadata": {},
     "output_type": "display_data"
    },
    {
     "data": {
      "text/html": [
       "<p><strong>Price:</strong> $ 10.000</p>"
      ],
      "text/plain": [
       "<IPython.core.display.HTML object>"
      ]
     },
     "metadata": {},
     "output_type": "display_data"
    },
    {
     "data": {
      "text/html": [
       "<p><strong>Availability:</strong> Disponible</p>"
      ],
      "text/plain": [
       "<IPython.core.display.HTML object>"
      ]
     },
     "metadata": {},
     "output_type": "display_data"
    },
    {
     "data": {
      "text/html": [
       "<hr>"
      ],
      "text/plain": [
       "<IPython.core.display.HTML object>"
      ]
     },
     "metadata": {},
     "output_type": "display_data"
    },
    {
     "data": {
      "text/html": [
       "<h2><a href='http://www.store.netdecker.cl/god-deck-slifer/26930-egyptian-god-deck-slifer-the-sky-dragon.html' target='_blank'>Egyptian God Deck: Slifer the...</a></h2>"
      ],
      "text/plain": [
       "<IPython.core.display.HTML object>"
      ]
     },
     "metadata": {},
     "output_type": "display_data"
    },
    {
     "data": {
      "text/html": [
       "<img src=\"http://www.store.netdecker.cl/26930-27855-home/egyptian-god-deck-slifer-the-sky-dragon.jpg\" width=\"300\" height=\"300\"/>"
      ],
      "text/plain": [
       "<IPython.core.display.Image object>"
      ]
     },
     "metadata": {},
     "output_type": "display_data"
    },
    {
     "data": {
      "text/html": [
       "<p><strong>Description:</strong> Yu-Gi-Oh ! - Egyptian God Deck: Slifer the Sky Dragon﻿</p>"
      ],
      "text/plain": [
       "<IPython.core.display.HTML object>"
      ]
     },
     "metadata": {},
     "output_type": "display_data"
    },
    {
     "data": {
      "text/html": [
       "<p><strong>Price:</strong> $ 9.000</p>"
      ],
      "text/plain": [
       "<IPython.core.display.HTML object>"
      ]
     },
     "metadata": {},
     "output_type": "display_data"
    },
    {
     "data": {
      "text/html": [
       "<p><strong>Availability:</strong> Disponible</p>"
      ],
      "text/plain": [
       "<IPython.core.display.HTML object>"
      ]
     },
     "metadata": {},
     "output_type": "display_data"
    },
    {
     "data": {
      "text/html": [
       "<hr>"
      ],
      "text/plain": [
       "<IPython.core.display.HTML object>"
      ]
     },
     "metadata": {},
     "output_type": "display_data"
    },
    {
     "data": {
      "text/html": [
       "<h2><a href='http://www.store.netdecker.cl/god-deck-slifer/31645-egyptian-god-deck-slifer-the-sky-dragon.html' target='_blank'>Egyptian God Deck: Slifer the...</a></h2>"
      ],
      "text/plain": [
       "<IPython.core.display.HTML object>"
      ]
     },
     "metadata": {},
     "output_type": "display_data"
    },
    {
     "data": {
      "text/html": [
       "<img src=\"http://www.store.netdecker.cl/31645-32736-home/egyptian-god-deck-slifer-the-sky-dragon.jpg\" width=\"300\" height=\"300\"/>"
      ],
      "text/plain": [
       "<IPython.core.display.Image object>"
      ]
     },
     "metadata": {},
     "output_type": "display_data"
    },
    {
     "data": {
      "text/html": [
       "<p><strong>Description:</strong> Yu-Gi-Oh ! - Egyptian God Deck: Slifer the Sky Dragon﻿</p>"
      ],
      "text/plain": [
       "<IPython.core.display.HTML object>"
      ]
     },
     "metadata": {},
     "output_type": "display_data"
    },
    {
     "data": {
      "text/html": [
       "<p><strong>Price:</strong> $ 10.000</p>"
      ],
      "text/plain": [
       "<IPython.core.display.HTML object>"
      ]
     },
     "metadata": {},
     "output_type": "display_data"
    },
    {
     "data": {
      "text/html": [
       "<p><strong>Availability:</strong> Disponible</p>"
      ],
      "text/plain": [
       "<IPython.core.display.HTML object>"
      ]
     },
     "metadata": {},
     "output_type": "display_data"
    },
    {
     "data": {
      "text/html": [
       "<hr>"
      ],
      "text/plain": [
       "<IPython.core.display.HTML object>"
      ]
     },
     "metadata": {},
     "output_type": "display_data"
    },
    {
     "data": {
      "text/html": [
       "<h2><a href='http://www.store.netdecker.cl/eternity-code/24245-eternity-code-booster-box.html' target='_blank'>Eternity Code Booster Pack</a></h2>"
      ],
      "text/plain": [
       "<IPython.core.display.HTML object>"
      ]
     },
     "metadata": {},
     "output_type": "display_data"
    },
    {
     "data": {
      "text/html": [
       "<img src=\"http://www.store.netdecker.cl/24245-24992-home/eternity-code-booster-box.jpg\" width=\"300\" height=\"300\"/>"
      ],
      "text/plain": [
       "<IPython.core.display.Image object>"
      ]
     },
     "metadata": {},
     "output_type": "display_data"
    },
    {
     "data": {
      "text/html": [
       "<p><strong>Description:</strong> Yu-Gi-Oh ! - ﻿Eternity Code Booster Pack</p>"
      ],
      "text/plain": [
       "<IPython.core.display.HTML object>"
      ]
     },
     "metadata": {},
     "output_type": "display_data"
    },
    {
     "data": {
      "text/html": [
       "<p><strong>Price:</strong> $ 3.000</p>"
      ],
      "text/plain": [
       "<IPython.core.display.HTML object>"
      ]
     },
     "metadata": {},
     "output_type": "display_data"
    },
    {
     "data": {
      "text/html": [
       "<p><strong>Availability:</strong> Disponible</p>"
      ],
      "text/plain": [
       "<IPython.core.display.HTML object>"
      ]
     },
     "metadata": {},
     "output_type": "display_data"
    },
    {
     "data": {
      "text/html": [
       "<hr>"
      ],
      "text/plain": [
       "<IPython.core.display.HTML object>"
      ]
     },
     "metadata": {},
     "output_type": "display_data"
    },
    {
     "data": {
      "text/html": [
       "<h2><a href='http://www.store.netdecker.cl/booster-packs/27225-extreme-victory-booster-pack.html' target='_blank'>Extreme Victory Booster Pack</a></h2>"
      ],
      "text/plain": [
       "<IPython.core.display.HTML object>"
      ]
     },
     "metadata": {},
     "output_type": "display_data"
    },
    {
     "data": {
      "text/html": [
       "<img src=\"http://www.store.netdecker.cl/27225-28161-home/extreme-victory-booster-pack.jpg\" width=\"300\" height=\"300\"/>"
      ],
      "text/plain": [
       "<IPython.core.display.Image object>"
      ]
     },
     "metadata": {},
     "output_type": "display_data"
    },
    {
     "data": {
      "text/html": [
       "<p><strong>Description:</strong> Yu-Gi-Oh ! - Extreme Victory Booster Pack﻿</p>"
      ],
      "text/plain": [
       "<IPython.core.display.HTML object>"
      ]
     },
     "metadata": {},
     "output_type": "display_data"
    },
    {
     "data": {
      "text/html": [
       "<p><strong>Price:</strong> $ 2.500</p>"
      ],
      "text/plain": [
       "<IPython.core.display.HTML object>"
      ]
     },
     "metadata": {},
     "output_type": "display_data"
    },
    {
     "data": {
      "text/html": [
       "<p><strong>Availability:</strong> Disponible</p>"
      ],
      "text/plain": [
       "<IPython.core.display.HTML object>"
      ]
     },
     "metadata": {},
     "output_type": "display_data"
    },
    {
     "data": {
      "text/html": [
       "<hr>"
      ],
      "text/plain": [
       "<IPython.core.display.HTML object>"
      ]
     },
     "metadata": {},
     "output_type": "display_data"
    },
    {
     "data": {
      "text/html": [
       "<h2><a href='http://www.store.netdecker.cl/fire-kings/33636-fire-kings-structure-deck.html' target='_blank'>Fire Kings Structure Deck</a></h2>"
      ],
      "text/plain": [
       "<IPython.core.display.HTML object>"
      ]
     },
     "metadata": {},
     "output_type": "display_data"
    },
    {
     "data": {
      "text/html": [
       "<img src=\"http://www.store.netdecker.cl/33636-34981-home/fire-kings-structure-deck.jpg\" width=\"300\" height=\"300\"/>"
      ],
      "text/plain": [
       "<IPython.core.display.Image object>"
      ]
     },
     "metadata": {},
     "output_type": "display_data"
    },
    {
     "data": {
      "text/html": [
       "<p><strong>Description:</strong> Fire Kings Structure Deck</p>"
      ],
      "text/plain": [
       "<IPython.core.display.HTML object>"
      ]
     },
     "metadata": {},
     "output_type": "display_data"
    },
    {
     "data": {
      "text/html": [
       "<p><strong>Price:</strong> $ 13.000</p>"
      ],
      "text/plain": [
       "<IPython.core.display.HTML object>"
      ]
     },
     "metadata": {},
     "output_type": "display_data"
    },
    {
     "data": {
      "text/html": [
       "<p><strong>Availability:</strong> Disponible</p>"
      ],
      "text/plain": [
       "<IPython.core.display.HTML object>"
      ]
     },
     "metadata": {},
     "output_type": "display_data"
    },
    {
     "data": {
      "text/html": [
       "<hr>"
      ],
      "text/plain": [
       "<IPython.core.display.HTML object>"
      ]
     },
     "metadata": {},
     "output_type": "display_data"
    },
    {
     "data": {
      "text/html": [
       "<h2><a href='http://www.store.netdecker.cl/fire-kings/33710-fire-kings-structure-deck.html' target='_blank'>Fire Kings Structure Deck</a></h2>"
      ],
      "text/plain": [
       "<IPython.core.display.HTML object>"
      ]
     },
     "metadata": {},
     "output_type": "display_data"
    },
    {
     "data": {
      "text/html": [
       "<img src=\"http://www.store.netdecker.cl/33710-35056-home/fire-kings-structure-deck.jpg\" width=\"300\" height=\"300\"/>"
      ],
      "text/plain": [
       "<IPython.core.display.Image object>"
      ]
     },
     "metadata": {},
     "output_type": "display_data"
    },
    {
     "data": {
      "text/html": [
       "<p><strong>Description:</strong> Fire Kings Structure Deck</p>"
      ],
      "text/plain": [
       "<IPython.core.display.HTML object>"
      ]
     },
     "metadata": {},
     "output_type": "display_data"
    },
    {
     "data": {
      "text/html": [
       "<p><strong>Price:</strong> $ 13.000</p>"
      ],
      "text/plain": [
       "<IPython.core.display.HTML object>"
      ]
     },
     "metadata": {},
     "output_type": "display_data"
    },
    {
     "data": {
      "text/html": [
       "<p><strong>Availability:</strong> Disponible</p>"
      ],
      "text/plain": [
       "<IPython.core.display.HTML object>"
      ]
     },
     "metadata": {},
     "output_type": "display_data"
    },
    {
     "data": {
      "text/html": [
       "<hr>"
      ],
      "text/plain": [
       "<IPython.core.display.HTML object>"
      ]
     },
     "metadata": {},
     "output_type": "display_data"
    },
    {
     "data": {
      "text/html": [
       "<h2><a href='http://www.store.netdecker.cl/fists-of-gadgets/23154-fists-of-gadgets-booster-pack.html' target='_blank'>Fists of Gadgets Booster Pack</a></h2>"
      ],
      "text/plain": [
       "<IPython.core.display.HTML object>"
      ]
     },
     "metadata": {},
     "output_type": "display_data"
    },
    {
     "data": {
      "text/html": [
       "<img src=\"http://www.store.netdecker.cl/23154-23890-home/fists-of-gadgets-booster-pack.jpg\" width=\"300\" height=\"300\"/>"
      ],
      "text/plain": [
       "<IPython.core.display.Image object>"
      ]
     },
     "metadata": {},
     "output_type": "display_data"
    },
    {
     "data": {
      "text/html": [
       "<p><strong>Description:</strong> Yu-Gi-Oh ! - Fists of Gadgets Booster Pack﻿</p>"
      ],
      "text/plain": [
       "<IPython.core.display.HTML object>"
      ]
     },
     "metadata": {},
     "output_type": "display_data"
    },
    {
     "data": {
      "text/html": [
       "<p><strong>Price:</strong> $ 2.800</p>"
      ],
      "text/plain": [
       "<IPython.core.display.HTML object>"
      ]
     },
     "metadata": {},
     "output_type": "display_data"
    },
    {
     "data": {
      "text/html": [
       "<p><strong>Availability:</strong> Disponible</p>"
      ],
      "text/plain": [
       "<IPython.core.display.HTML object>"
      ]
     },
     "metadata": {},
     "output_type": "display_data"
    },
    {
     "data": {
      "text/html": [
       "<hr>"
      ],
      "text/plain": [
       "<IPython.core.display.HTML object>"
      ]
     },
     "metadata": {},
     "output_type": "display_data"
    },
    {
     "data": {
      "text/html": [
       "<h2><a href='http://www.store.netdecker.cl/genesis-impact/25567-genesis-impact-booster-box.html' target='_blank'>Genesis Impact Booster Pack</a></h2>"
      ],
      "text/plain": [
       "<IPython.core.display.HTML object>"
      ]
     },
     "metadata": {},
     "output_type": "display_data"
    },
    {
     "data": {
      "text/html": [
       "<img src=\"http://www.store.netdecker.cl/25567-26323-home/genesis-impact-booster-box.jpg\" width=\"300\" height=\"300\"/>"
      ],
      "text/plain": [
       "<IPython.core.display.Image object>"
      ]
     },
     "metadata": {},
     "output_type": "display_data"
    },
    {
     "data": {
      "text/html": [
       "<p><strong>Description:</strong> Yu-Gi-Oh ! - Genesis Impact Booster Pack</p>"
      ],
      "text/plain": [
       "<IPython.core.display.HTML object>"
      ]
     },
     "metadata": {},
     "output_type": "display_data"
    },
    {
     "data": {
      "text/html": [
       "<p><strong>Price:</strong> $ 3.000</p>"
      ],
      "text/plain": [
       "<IPython.core.display.HTML object>"
      ]
     },
     "metadata": {},
     "output_type": "display_data"
    },
    {
     "data": {
      "text/html": [
       "<p><strong>Availability:</strong> Disponible</p>"
      ],
      "text/plain": [
       "<IPython.core.display.HTML object>"
      ]
     },
     "metadata": {},
     "output_type": "display_data"
    },
    {
     "data": {
      "text/html": [
       "<hr>"
      ],
      "text/plain": [
       "<IPython.core.display.HTML object>"
      ]
     },
     "metadata": {},
     "output_type": "display_data"
    },
    {
     "data": {
      "text/html": [
       "<h2><a href='http://www.store.netdecker.cl/ghosts-from-the-past-2/28858-ghosts-from-the-past-2nd-booster-pack.html' target='_blank'>Ghosts From the Past: 2nd...</a></h2>"
      ],
      "text/plain": [
       "<IPython.core.display.HTML object>"
      ]
     },
     "metadata": {},
     "output_type": "display_data"
    },
    {
     "data": {
      "text/html": [
       "<img src=\"http://www.store.netdecker.cl/28858-29870-home/ghosts-from-the-past-2nd-booster-pack.jpg\" width=\"300\" height=\"300\"/>"
      ],
      "text/plain": [
       "<IPython.core.display.Image object>"
      ]
     },
     "metadata": {},
     "output_type": "display_data"
    },
    {
     "data": {
      "text/html": [
       "<p><strong>Description:</strong> Yu-Gi-Oh ! - Ghosts From the Past: 2nd Booster Pack﻿</p>"
      ],
      "text/plain": [
       "<IPython.core.display.HTML object>"
      ]
     },
     "metadata": {},
     "output_type": "display_data"
    },
    {
     "data": {
      "text/html": [
       "<p><strong>Price:</strong> $ 5.000</p>"
      ],
      "text/plain": [
       "<IPython.core.display.HTML object>"
      ]
     },
     "metadata": {},
     "output_type": "display_data"
    },
    {
     "data": {
      "text/html": [
       "<p><strong>Availability:</strong> Disponible</p>"
      ],
      "text/plain": [
       "<IPython.core.display.HTML object>"
      ]
     },
     "metadata": {},
     "output_type": "display_data"
    },
    {
     "data": {
      "text/html": [
       "<hr>"
      ],
      "text/plain": [
       "<IPython.core.display.HTML object>"
      ]
     },
     "metadata": {},
     "output_type": "display_data"
    },
    {
     "data": {
      "text/html": [
       "<h2><a href='http://www.store.netdecker.cl/ghosts-from-the-past-2/28856-ghosts-from-the-past-2nd-mini-box.html' target='_blank'>Ghosts From the Past: 2nd Mini Box</a></h2>"
      ],
      "text/plain": [
       "<IPython.core.display.HTML object>"
      ]
     },
     "metadata": {},
     "output_type": "display_data"
    },
    {
     "data": {
      "text/html": [
       "<img src=\"http://www.store.netdecker.cl/28856-30072-home/ghosts-from-the-past-2nd-mini-box.jpg\" width=\"300\" height=\"300\"/>"
      ],
      "text/plain": [
       "<IPython.core.display.Image object>"
      ]
     },
     "metadata": {},
     "output_type": "display_data"
    },
    {
     "data": {
      "text/html": [
       "<p><strong>Description:</strong> Yu-Gi-Oh ! - Ghosts From the Past: 2nd Mini Box﻿</p>"
      ],
      "text/plain": [
       "<IPython.core.display.HTML object>"
      ]
     },
     "metadata": {},
     "output_type": "display_data"
    },
    {
     "data": {
      "text/html": [
       "<p><strong>Price:</strong> $ 20.000</p>"
      ],
      "text/plain": [
       "<IPython.core.display.HTML object>"
      ]
     },
     "metadata": {},
     "output_type": "display_data"
    },
    {
     "data": {
      "text/html": [
       "<p><strong>Availability:</strong> Disponible</p>"
      ],
      "text/plain": [
       "<IPython.core.display.HTML object>"
      ]
     },
     "metadata": {},
     "output_type": "display_data"
    },
    {
     "data": {
      "text/html": [
       "<hr>"
      ],
      "text/plain": [
       "<IPython.core.display.HTML object>"
      ]
     },
     "metadata": {},
     "output_type": "display_data"
    },
    {
     "data": {
      "text/html": [
       "<h2><a href='http://www.store.netdecker.cl/ghosts-from-the-past-2/28869-ghosts-from-the-past-2nd-mini-box.html' target='_blank'>Ghosts From the Past: 2nd Mini Box</a></h2>"
      ],
      "text/plain": [
       "<IPython.core.display.HTML object>"
      ]
     },
     "metadata": {},
     "output_type": "display_data"
    },
    {
     "data": {
      "text/html": [
       "<img src=\"http://www.store.netdecker.cl/28869-29882-home/ghosts-from-the-past-2nd-mini-box.jpg\" width=\"300\" height=\"300\"/>"
      ],
      "text/plain": [
       "<IPython.core.display.Image object>"
      ]
     },
     "metadata": {},
     "output_type": "display_data"
    },
    {
     "data": {
      "text/html": [
       "<p><strong>Description:</strong> Yu-Gi-Oh ! - Ghosts From the Past: 2nd Mini Box﻿</p>"
      ],
      "text/plain": [
       "<IPython.core.display.HTML object>"
      ]
     },
     "metadata": {},
     "output_type": "display_data"
    },
    {
     "data": {
      "text/html": [
       "<p><strong>Price:</strong> $ 20.000</p>"
      ],
      "text/plain": [
       "<IPython.core.display.HTML object>"
      ]
     },
     "metadata": {},
     "output_type": "display_data"
    },
    {
     "data": {
      "text/html": [
       "<p><strong>Availability:</strong> Disponible</p>"
      ],
      "text/plain": [
       "<IPython.core.display.HTML object>"
      ]
     },
     "metadata": {},
     "output_type": "display_data"
    },
    {
     "data": {
      "text/html": [
       "<hr>"
      ],
      "text/plain": [
       "<IPython.core.display.HTML object>"
      ]
     },
     "metadata": {},
     "output_type": "display_data"
    },
    {
     "data": {
      "text/html": [
       "<h2><a href='http://www.store.netdecker.cl/special-pack/33649-ghosts-from-the-past-.html' target='_blank'>Ghosts From The Past﻿</a></h2>"
      ],
      "text/plain": [
       "<IPython.core.display.HTML object>"
      ]
     },
     "metadata": {},
     "output_type": "display_data"
    },
    {
     "data": {
      "text/html": [
       "<img src=\"http://www.store.netdecker.cl/33649-34994-home/ghosts-from-the-past-.jpg\" width=\"300\" height=\"300\"/>"
      ],
      "text/plain": [
       "<IPython.core.display.Image object>"
      ]
     },
     "metadata": {},
     "output_type": "display_data"
    },
    {
     "data": {
      "text/html": [
       "<p><strong>Description:</strong> Yu-Gi-Oh ! - Ghosts From The Past﻿﻿</p>"
      ],
      "text/plain": [
       "<IPython.core.display.HTML object>"
      ]
     },
     "metadata": {},
     "output_type": "display_data"
    },
    {
     "data": {
      "text/html": [
       "<p><strong>Price:</strong> $ 16.000</p>"
      ],
      "text/plain": [
       "<IPython.core.display.HTML object>"
      ]
     },
     "metadata": {},
     "output_type": "display_data"
    },
    {
     "data": {
      "text/html": [
       "<p><strong>Availability:</strong> Disponible</p>"
      ],
      "text/plain": [
       "<IPython.core.display.HTML object>"
      ]
     },
     "metadata": {},
     "output_type": "display_data"
    },
    {
     "data": {
      "text/html": [
       "<hr>"
      ],
      "text/plain": [
       "<IPython.core.display.HTML object>"
      ]
     },
     "metadata": {},
     "output_type": "display_data"
    },
    {
     "data": {
      "text/html": [
       "<h2><a href='http://www.store.netdecker.cl/booster-packs/31145-hidden-arsenal-chapter-1-booster-pack.html' target='_blank'>Hidden Arsenal Chapter 1 Booster...</a></h2>"
      ],
      "text/plain": [
       "<IPython.core.display.HTML object>"
      ]
     },
     "metadata": {},
     "output_type": "display_data"
    },
    {
     "data": {
      "text/html": [
       "<img src=\"http://www.store.netdecker.cl/31145-32224-home/hidden-arsenal-chapter-1-booster-pack.jpg\" width=\"300\" height=\"300\"/>"
      ],
      "text/plain": [
       "<IPython.core.display.Image object>"
      ]
     },
     "metadata": {},
     "output_type": "display_data"
    },
    {
     "data": {
      "text/html": [
       "<p><strong>Description:</strong> Hidden Arsenal Chapter 1 Booster Pack﻿</p>"
      ],
      "text/plain": [
       "<IPython.core.display.HTML object>"
      ]
     },
     "metadata": {},
     "output_type": "display_data"
    },
    {
     "data": {
      "text/html": [
       "<p><strong>Price:</strong> $ 4.500</p>"
      ],
      "text/plain": [
       "<IPython.core.display.HTML object>"
      ]
     },
     "metadata": {},
     "output_type": "display_data"
    },
    {
     "data": {
      "text/html": [
       "<p><strong>Availability:</strong> Disponible</p>"
      ],
      "text/plain": [
       "<IPython.core.display.HTML object>"
      ]
     },
     "metadata": {},
     "output_type": "display_data"
    },
    {
     "data": {
      "text/html": [
       "<hr>"
      ],
      "text/plain": [
       "<IPython.core.display.HTML object>"
      ]
     },
     "metadata": {},
     "output_type": "display_data"
    },
    {
     "data": {
      "text/html": [
       "<h2><a href='http://www.store.netdecker.cl/special-pack/28728-hidden-arsenal-chapter-1.html' target='_blank'>Hidden Arsenal: Chapter 1</a></h2>"
      ],
      "text/plain": [
       "<IPython.core.display.HTML object>"
      ]
     },
     "metadata": {},
     "output_type": "display_data"
    },
    {
     "data": {
      "text/html": [
       "<img src=\"http://www.store.netdecker.cl/28728-29731-home/hidden-arsenal-chapter-1.jpg\" width=\"300\" height=\"300\"/>"
      ],
      "text/plain": [
       "<IPython.core.display.Image object>"
      ]
     },
     "metadata": {},
     "output_type": "display_data"
    },
    {
     "data": {
      "text/html": [
       "<p><strong>Description:</strong> Yu-Gi-Oh ! - Hidden Arsenal: Chapter 1﻿</p>"
      ],
      "text/plain": [
       "<IPython.core.display.HTML object>"
      ]
     },
     "metadata": {},
     "output_type": "display_data"
    },
    {
     "data": {
      "text/html": [
       "<p><strong>Price:</strong> $ 15.000</p>"
      ],
      "text/plain": [
       "<IPython.core.display.HTML object>"
      ]
     },
     "metadata": {},
     "output_type": "display_data"
    },
    {
     "data": {
      "text/html": [
       "<p><strong>Availability:</strong> Disponible</p>"
      ],
      "text/plain": [
       "<IPython.core.display.HTML object>"
      ]
     },
     "metadata": {},
     "output_type": "display_data"
    },
    {
     "data": {
      "text/html": [
       "<hr>"
      ],
      "text/plain": [
       "<IPython.core.display.HTML object>"
      ]
     },
     "metadata": {},
     "output_type": "display_data"
    },
    {
     "data": {
      "text/html": [
       "<h2><a href='http://www.store.netdecker.cl/hidden-summoners/21719-hidden-summoners-booster-pack.html' target='_blank'>Hidden Summoners Booster Pack</a></h2>"
      ],
      "text/plain": [
       "<IPython.core.display.HTML object>"
      ]
     },
     "metadata": {},
     "output_type": "display_data"
    },
    {
     "data": {
      "text/html": [
       "<img src=\"http://www.store.netdecker.cl/21719-22401-home/hidden-summoners-booster-pack.jpg\" width=\"300\" height=\"300\"/>"
      ],
      "text/plain": [
       "<IPython.core.display.Image object>"
      ]
     },
     "metadata": {},
     "output_type": "display_data"
    },
    {
     "data": {
      "text/html": [
       "<p><strong>Description:</strong> Yu-Gi-Oh ! - Hidden Summoners Booster Pack﻿</p>"
      ],
      "text/plain": [
       "<IPython.core.display.HTML object>"
      ]
     },
     "metadata": {},
     "output_type": "display_data"
    },
    {
     "data": {
      "text/html": [
       "<p><strong>Price:</strong> $ 2.800</p>"
      ],
      "text/plain": [
       "<IPython.core.display.HTML object>"
      ]
     },
     "metadata": {},
     "output_type": "display_data"
    },
    {
     "data": {
      "text/html": [
       "<p><strong>Availability:</strong> Disponible</p>"
      ],
      "text/plain": [
       "<IPython.core.display.HTML object>"
      ]
     },
     "metadata": {},
     "output_type": "display_data"
    },
    {
     "data": {
      "text/html": [
       "<hr>"
      ],
      "text/plain": [
       "<IPython.core.display.HTML object>"
      ]
     },
     "metadata": {},
     "output_type": "display_data"
    },
    {
     "data": {
      "text/html": [
       "<h2><a href='http://www.store.netdecker.cl/ignition-assault/23770-ignition-assault-booster-pack.html' target='_blank'>Ignition Assault Booster Pack</a></h2>"
      ],
      "text/plain": [
       "<IPython.core.display.HTML object>"
      ]
     },
     "metadata": {},
     "output_type": "display_data"
    },
    {
     "data": {
      "text/html": [
       "<img src=\"http://www.store.netdecker.cl/23770-24507-home/ignition-assault-booster-pack.jpg\" width=\"300\" height=\"300\"/>"
      ],
      "text/plain": [
       "<IPython.core.display.Image object>"
      ]
     },
     "metadata": {},
     "output_type": "display_data"
    },
    {
     "data": {
      "text/html": [
       "<p><strong>Description:</strong> Yu-Gi-Oh ! - Ignition Assault Booster Pack﻿ </p>"
      ],
      "text/plain": [
       "<IPython.core.display.HTML object>"
      ]
     },
     "metadata": {},
     "output_type": "display_data"
    },
    {
     "data": {
      "text/html": [
       "<p><strong>Price:</strong> $ 3.000</p>"
      ],
      "text/plain": [
       "<IPython.core.display.HTML object>"
      ]
     },
     "metadata": {},
     "output_type": "display_data"
    },
    {
     "data": {
      "text/html": [
       "<p><strong>Availability:</strong> Disponible</p>"
      ],
      "text/plain": [
       "<IPython.core.display.HTML object>"
      ]
     },
     "metadata": {},
     "output_type": "display_data"
    },
    {
     "data": {
      "text/html": [
       "<hr>"
      ],
      "text/plain": [
       "<IPython.core.display.HTML object>"
      ]
     },
     "metadata": {},
     "output_type": "display_data"
    },
    {
     "data": {
      "text/html": [
       "<h2><a href='http://www.store.netdecker.cl/invasion-vengeance/17079-invasion-vengeance-booster-pack-martes-8.html' target='_blank'>Invasion: Vengeance Booster Pack</a></h2>"
      ],
      "text/plain": [
       "<IPython.core.display.HTML object>"
      ]
     },
     "metadata": {},
     "output_type": "display_data"
    },
    {
     "data": {
      "text/html": [
       "<img src=\"http://www.store.netdecker.cl/17079-17664-home/invasion-vengeance-booster-pack-martes-8.jpg\" width=\"300\" height=\"300\"/>"
      ],
      "text/plain": [
       "<IPython.core.display.Image object>"
      ]
     },
     "metadata": {},
     "output_type": "display_data"
    },
    {
     "data": {
      "text/html": [
       "<p><strong>Description:</strong> Yu-Gi-Oh ! - Invasion: Vengeance Booster PacK</p>"
      ],
      "text/plain": [
       "<IPython.core.display.HTML object>"
      ]
     },
     "metadata": {},
     "output_type": "display_data"
    },
    {
     "data": {
      "text/html": [
       "<p><strong>Price:</strong> $ 2.500</p>"
      ],
      "text/plain": [
       "<IPython.core.display.HTML object>"
      ]
     },
     "metadata": {},
     "output_type": "display_data"
    },
    {
     "data": {
      "text/html": [
       "<p><strong>Availability:</strong> Disponible</p>"
      ],
      "text/plain": [
       "<IPython.core.display.HTML object>"
      ]
     },
     "metadata": {},
     "output_type": "display_data"
    },
    {
     "data": {
      "text/html": [
       "<hr>"
      ],
      "text/plain": [
       "<IPython.core.display.HTML object>"
      ]
     },
     "metadata": {},
     "output_type": "display_data"
    },
    {
     "data": {
      "text/html": [
       "<h2><a href='http://www.store.netdecker.cl/legacy-of-destruction/34584-legacy-of-destruction-booster-pack.html' target='_blank'>Legacy of Destruction Booster Pack</a></h2>"
      ],
      "text/plain": [
       "<IPython.core.display.HTML object>"
      ]
     },
     "metadata": {},
     "output_type": "display_data"
    },
    {
     "data": {
      "text/html": [
       "<img src=\"http://www.store.netdecker.cl/34584-35947-home/legacy-of-destruction-booster-pack.jpg\" width=\"300\" height=\"300\"/>"
      ],
      "text/plain": [
       "<IPython.core.display.Image object>"
      ]
     },
     "metadata": {},
     "output_type": "display_data"
    },
    {
     "data": {
      "text/html": [
       "<p><strong>Description:</strong> Legacy of Destruction Booster Pack﻿</p>"
      ],
      "text/plain": [
       "<IPython.core.display.HTML object>"
      ]
     },
     "metadata": {},
     "output_type": "display_data"
    },
    {
     "data": {
      "text/html": [
       "<p><strong>Price:</strong> $ 4.500</p>"
      ],
      "text/plain": [
       "<IPython.core.display.HTML object>"
      ]
     },
     "metadata": {},
     "output_type": "display_data"
    },
    {
     "data": {
      "text/html": [
       "<p><strong>Availability:</strong> Disponible</p>"
      ],
      "text/plain": [
       "<IPython.core.display.HTML object>"
      ]
     },
     "metadata": {},
     "output_type": "display_data"
    },
    {
     "data": {
      "text/html": [
       "<hr>"
      ],
      "text/plain": [
       "<IPython.core.display.HTML object>"
      ]
     },
     "metadata": {},
     "output_type": "display_data"
    },
    {
     "data": {
      "text/html": [
       "<h2><a href='http://www.store.netdecker.cl/legend-of-the-crystal-beasts/30094-legend-of-the-crystal-beasts.html' target='_blank'>Legend of the Crystal Beasts</a></h2>"
      ],
      "text/plain": [
       "<IPython.core.display.HTML object>"
      ]
     },
     "metadata": {},
     "output_type": "display_data"
    },
    {
     "data": {
      "text/html": [
       "<img src=\"http://www.store.netdecker.cl/30094-31140-home/legend-of-the-crystal-beasts.jpg\" width=\"300\" height=\"300\"/>"
      ],
      "text/plain": [
       "<IPython.core.display.Image object>"
      ]
     },
     "metadata": {},
     "output_type": "display_data"
    },
    {
     "data": {
      "text/html": [
       "<p><strong>Description:</strong> Yu-Gi-Oh ! - Legend of the Crystal Beasts﻿</p>"
      ],
      "text/plain": [
       "<IPython.core.display.HTML object>"
      ]
     },
     "metadata": {},
     "output_type": "display_data"
    },
    {
     "data": {
      "text/html": [
       "<p><strong>Price:</strong> $ 13.000</p>"
      ],
      "text/plain": [
       "<IPython.core.display.HTML object>"
      ]
     },
     "metadata": {},
     "output_type": "display_data"
    },
    {
     "data": {
      "text/html": [
       "<p><strong>Availability:</strong> Disponible</p>"
      ],
      "text/plain": [
       "<IPython.core.display.HTML object>"
      ]
     },
     "metadata": {},
     "output_type": "display_data"
    },
    {
     "data": {
      "text/html": [
       "<hr>"
      ],
      "text/plain": [
       "<IPython.core.display.HTML object>"
      ]
     },
     "metadata": {},
     "output_type": "display_data"
    },
    {
     "data": {
      "text/html": [
       "<h2><a href='http://www.store.netdecker.cl/special-pack/31146-legendary-collection-25th-anniversary-box.html' target='_blank'>Legendary Collection: 25th...</a></h2>"
      ],
      "text/plain": [
       "<IPython.core.display.HTML object>"
      ]
     },
     "metadata": {},
     "output_type": "display_data"
    },
    {
     "data": {
      "text/html": [
       "<img src=\"http://www.store.netdecker.cl/31146-32244-home/legendary-collection-25th-anniversary-box.jpg\" width=\"300\" height=\"300\"/>"
      ],
      "text/plain": [
       "<IPython.core.display.Image object>"
      ]
     },
     "metadata": {},
     "output_type": "display_data"
    },
    {
     "data": {
      "text/html": [
       "<p><strong>Description:</strong> Legendary Collection: 25th Anniversary Box﻿</p>"
      ],
      "text/plain": [
       "<IPython.core.display.HTML object>"
      ]
     },
     "metadata": {},
     "output_type": "display_data"
    },
    {
     "data": {
      "text/html": [
       "<p><strong>Price:</strong> $ 30.000</p>"
      ],
      "text/plain": [
       "<IPython.core.display.HTML object>"
      ]
     },
     "metadata": {},
     "output_type": "display_data"
    },
    {
     "data": {
      "text/html": [
       "<p><strong>Availability:</strong> Disponible</p>"
      ],
      "text/plain": [
       "<IPython.core.display.HTML object>"
      ]
     },
     "metadata": {},
     "output_type": "display_data"
    },
    {
     "data": {
      "text/html": [
       "<hr>"
      ],
      "text/plain": [
       "<IPython.core.display.HTML object>"
      ]
     },
     "metadata": {},
     "output_type": "display_data"
    },
    {
     "data": {
      "text/html": [
       "<h2><a href='http://www.store.netdecker.cl/special-pack/31147-legendary-collection-25th-anniversary-box.html' target='_blank'>Legendary Collection: 25th...</a></h2>"
      ],
      "text/plain": [
       "<IPython.core.display.HTML object>"
      ]
     },
     "metadata": {},
     "output_type": "display_data"
    },
    {
     "data": {
      "text/html": [
       "<img src=\"http://www.store.netdecker.cl/31147-32226-home/legendary-collection-25th-anniversary-box.jpg\" width=\"300\" height=\"300\"/>"
      ],
      "text/plain": [
       "<IPython.core.display.Image object>"
      ]
     },
     "metadata": {},
     "output_type": "display_data"
    },
    {
     "data": {
      "text/html": [
       "<p><strong>Description:</strong> Legendary Collection: 25th Anniversary Box﻿</p>"
      ],
      "text/plain": [
       "<IPython.core.display.HTML object>"
      ]
     },
     "metadata": {},
     "output_type": "display_data"
    },
    {
     "data": {
      "text/html": [
       "<p><strong>Price:</strong> $ 30.000</p>"
      ],
      "text/plain": [
       "<IPython.core.display.HTML object>"
      ]
     },
     "metadata": {},
     "output_type": "display_data"
    },
    {
     "data": {
      "text/html": [
       "<p><strong>Availability:</strong> Disponible</p>"
      ],
      "text/plain": [
       "<IPython.core.display.HTML object>"
      ]
     },
     "metadata": {},
     "output_type": "display_data"
    },
    {
     "data": {
      "text/html": [
       "<hr>"
      ],
      "text/plain": [
       "<IPython.core.display.HTML object>"
      ]
     },
     "metadata": {},
     "output_type": "display_data"
    },
    {
     "data": {
      "text/html": [
       "<h2><a href='http://www.store.netdecker.cl/special-pack/34559-legendary-deck-i.html' target='_blank'>Legendary Deck II</a></h2>"
      ],
      "text/plain": [
       "<IPython.core.display.HTML object>"
      ]
     },
     "metadata": {},
     "output_type": "display_data"
    },
    {
     "data": {
      "text/html": [
       "<img src=\"http://www.store.netdecker.cl/34559-35922-home/legendary-deck-i.jpg\" width=\"300\" height=\"300\"/>"
      ],
      "text/plain": [
       "<IPython.core.display.Image object>"
      ]
     },
     "metadata": {},
     "output_type": "display_data"
    },
    {
     "data": {
      "text/html": [
       "<p><strong>Description:</strong> Yu-Gi-Oh ! - Legendary Deck II</p>"
      ],
      "text/plain": [
       "<IPython.core.display.HTML object>"
      ]
     },
     "metadata": {},
     "output_type": "display_data"
    },
    {
     "data": {
      "text/html": [
       "<p><strong>Price:</strong> $ 30.000</p>"
      ],
      "text/plain": [
       "<IPython.core.display.HTML object>"
      ]
     },
     "metadata": {},
     "output_type": "display_data"
    },
    {
     "data": {
      "text/html": [
       "<p><strong>Availability:</strong> Disponible</p>"
      ],
      "text/plain": [
       "<IPython.core.display.HTML object>"
      ]
     },
     "metadata": {},
     "output_type": "display_data"
    },
    {
     "data": {
      "text/html": [
       "<hr>"
      ],
      "text/plain": [
       "<IPython.core.display.HTML object>"
      ]
     },
     "metadata": {},
     "output_type": "display_data"
    },
    {
     "data": {
      "text/html": [
       "<h2><a href='http://www.store.netdecker.cl/legendary-duelists-season-1-/24424-legendary-duelists-season-1.html' target='_blank'>Legendary Duelists: Season 1</a></h2>"
      ],
      "text/plain": [
       "<IPython.core.display.HTML object>"
      ]
     },
     "metadata": {},
     "output_type": "display_data"
    },
    {
     "data": {
      "text/html": [
       "<img src=\"http://www.store.netdecker.cl/24424-25171-home/legendary-duelists-season-1.jpg\" width=\"300\" height=\"300\"/>"
      ],
      "text/plain": [
       "<IPython.core.display.Image object>"
      ]
     },
     "metadata": {},
     "output_type": "display_data"
    },
    {
     "data": {
      "text/html": [
       "<p><strong>Description:</strong> Yu-Gi-Oh ! - Legendary Duelists: Season 1﻿</p>"
      ],
      "text/plain": [
       "<IPython.core.display.HTML object>"
      ]
     },
     "metadata": {},
     "output_type": "display_data"
    },
    {
     "data": {
      "text/html": [
       "<p><strong>Price:</strong> $ 16.000</p>"
      ],
      "text/plain": [
       "<IPython.core.display.HTML object>"
      ]
     },
     "metadata": {},
     "output_type": "display_data"
    },
    {
     "data": {
      "text/html": [
       "<p><strong>Availability:</strong> Disponible</p>"
      ],
      "text/plain": [
       "<IPython.core.display.HTML object>"
      ]
     },
     "metadata": {},
     "output_type": "display_data"
    },
    {
     "data": {
      "text/html": [
       "<hr>"
      ],
      "text/plain": [
       "<IPython.core.display.HTML object>"
      ]
     },
     "metadata": {},
     "output_type": "display_data"
    },
    {
     "data": {
      "text/html": [
       "<h2><a href='http://www.store.netdecker.cl/booster-packs/27220-legendary-duelists-season-1-booster-pack.html' target='_blank'>Legendary Duelists: Season 1...</a></h2>"
      ],
      "text/plain": [
       "<IPython.core.display.HTML object>"
      ]
     },
     "metadata": {},
     "output_type": "display_data"
    },
    {
     "data": {
      "text/html": [
       "<img src=\"http://www.store.netdecker.cl/27220-28156-home/legendary-duelists-season-1-booster-pack.jpg\" width=\"300\" height=\"300\"/>"
      ],
      "text/plain": [
       "<IPython.core.display.Image object>"
      ]
     },
     "metadata": {},
     "output_type": "display_data"
    },
    {
     "data": {
      "text/html": [
       "<p><strong>Description:</strong> Yu-Gi-Oh ! - Legendary Duelists: Season 1 Booster Pack﻿</p>"
      ],
      "text/plain": [
       "<IPython.core.display.HTML object>"
      ]
     },
     "metadata": {},
     "output_type": "display_data"
    },
    {
     "data": {
      "text/html": [
       "<p><strong>Price:</strong> $ 5.000</p>"
      ],
      "text/plain": [
       "<IPython.core.display.HTML object>"
      ]
     },
     "metadata": {},
     "output_type": "display_data"
    },
    {
     "data": {
      "text/html": [
       "<p><strong>Availability:</strong> Disponible</p>"
      ],
      "text/plain": [
       "<IPython.core.display.HTML object>"
      ]
     },
     "metadata": {},
     "output_type": "display_data"
    },
    {
     "data": {
      "text/html": [
       "<hr>"
      ],
      "text/plain": [
       "<IPython.core.display.HTML object>"
      ]
     },
     "metadata": {},
     "output_type": "display_data"
    },
    {
     "data": {
      "text/html": [
       "<h2><a href='http://www.store.netdecker.cl/legendary-duelists-season-3/29358-legendary-duelists-season-3.html' target='_blank'>Legendary Duelists: Season 3</a></h2>"
      ],
      "text/plain": [
       "<IPython.core.display.HTML object>"
      ]
     },
     "metadata": {},
     "output_type": "display_data"
    },
    {
     "data": {
      "text/html": [
       "<img src=\"http://www.store.netdecker.cl/29358-30393-home/legendary-duelists-season-3.jpg\" width=\"300\" height=\"300\"/>"
      ],
      "text/plain": [
       "<IPython.core.display.Image object>"
      ]
     },
     "metadata": {},
     "output_type": "display_data"
    },
    {
     "data": {
      "text/html": [
       "<p><strong>Description:</strong> Yu-Gi-Oh ! - Legendary Duelists: Season 3﻿</p>"
      ],
      "text/plain": [
       "<IPython.core.display.HTML object>"
      ]
     },
     "metadata": {},
     "output_type": "display_data"
    },
    {
     "data": {
      "text/html": [
       "<p><strong>Price:</strong> $ 17.000</p>"
      ],
      "text/plain": [
       "<IPython.core.display.HTML object>"
      ]
     },
     "metadata": {},
     "output_type": "display_data"
    },
    {
     "data": {
      "text/html": [
       "<p><strong>Availability:</strong> Disponible</p>"
      ],
      "text/plain": [
       "<IPython.core.display.HTML object>"
      ]
     },
     "metadata": {},
     "output_type": "display_data"
    },
    {
     "data": {
      "text/html": [
       "<hr>"
      ],
      "text/plain": [
       "<IPython.core.display.HTML object>"
      ]
     },
     "metadata": {},
     "output_type": "display_data"
    },
    {
     "data": {
      "text/html": [
       "<h2><a href='http://www.store.netdecker.cl/legendary-duelists-season-3/29498-legendary-duelists-season-3.html' target='_blank'>Legendary Duelists: Season 3</a></h2>"
      ],
      "text/plain": [
       "<IPython.core.display.HTML object>"
      ]
     },
     "metadata": {},
     "output_type": "display_data"
    },
    {
     "data": {
      "text/html": [
       "<img src=\"http://www.store.netdecker.cl/29498-30533-home/legendary-duelists-season-3.jpg\" width=\"300\" height=\"300\"/>"
      ],
      "text/plain": [
       "<IPython.core.display.Image object>"
      ]
     },
     "metadata": {},
     "output_type": "display_data"
    },
    {
     "data": {
      "text/html": [
       "<p><strong>Description:</strong> Yu-Gi-Oh ! - ﻿﻿Legendary Duelists: Season 3﻿</p>"
      ],
      "text/plain": [
       "<IPython.core.display.HTML object>"
      ]
     },
     "metadata": {},
     "output_type": "display_data"
    },
    {
     "data": {
      "text/html": [
       "<p><strong>Price:</strong> $ 17.000</p>"
      ],
      "text/plain": [
       "<IPython.core.display.HTML object>"
      ]
     },
     "metadata": {},
     "output_type": "display_data"
    },
    {
     "data": {
      "text/html": [
       "<p><strong>Availability:</strong> Agotado</p>"
      ],
      "text/plain": [
       "<IPython.core.display.HTML object>"
      ]
     },
     "metadata": {},
     "output_type": "display_data"
    },
    {
     "data": {
      "text/html": [
       "<hr>"
      ],
      "text/plain": [
       "<IPython.core.display.HTML object>"
      ]
     },
     "metadata": {},
     "output_type": "display_data"
    },
    {
     "data": {
      "text/html": [
       "<h2><a href='http://www.store.netdecker.cl/legendary-duelists-season-3/29497-legendary-duelists-season-3-booster-pack.html' target='_blank'>Legendary Duelists: Season 3...</a></h2>"
      ],
      "text/plain": [
       "<IPython.core.display.HTML object>"
      ]
     },
     "metadata": {},
     "output_type": "display_data"
    },
    {
     "data": {
      "text/html": [
       "<img src=\"http://www.store.netdecker.cl/29497-30532-home/legendary-duelists-season-3-booster-pack.jpg\" width=\"300\" height=\"300\"/>"
      ],
      "text/plain": [
       "<IPython.core.display.Image object>"
      ]
     },
     "metadata": {},
     "output_type": "display_data"
    },
    {
     "data": {
      "text/html": [
       "<p><strong>Description:</strong> Yu-Gi-Oh ! - ﻿﻿Legendary Duelists: Season 3 Booster Pack﻿</p>"
      ],
      "text/plain": [
       "<IPython.core.display.HTML object>"
      ]
     },
     "metadata": {},
     "output_type": "display_data"
    },
    {
     "data": {
      "text/html": [
       "<p><strong>Price:</strong> $ 5.500</p>"
      ],
      "text/plain": [
       "<IPython.core.display.HTML object>"
      ]
     },
     "metadata": {},
     "output_type": "display_data"
    },
    {
     "data": {
      "text/html": [
       "<p><strong>Availability:</strong> Disponible</p>"
      ],
      "text/plain": [
       "<IPython.core.display.HTML object>"
      ]
     },
     "metadata": {},
     "output_type": "display_data"
    },
    {
     "data": {
      "text/html": [
       "<hr>"
      ],
      "text/plain": [
       "<IPython.core.display.HTML object>"
      ]
     },
     "metadata": {},
     "output_type": "display_data"
    },
    {
     "data": {
      "text/html": [
       "<h2><a href='http://www.store.netdecker.cl/synchro-storm/27718-legendary-duelists-synchro-storm-booster-pack.html' target='_blank'>Legendary Duelists: Synchro...</a></h2>"
      ],
      "text/plain": [
       "<IPython.core.display.HTML object>"
      ]
     },
     "metadata": {},
     "output_type": "display_data"
    },
    {
     "data": {
      "text/html": [
       "<img src=\"http://www.store.netdecker.cl/27718-28669-home/legendary-duelists-synchro-storm-booster-pack.jpg\" width=\"300\" height=\"300\"/>"
      ],
      "text/plain": [
       "<IPython.core.display.Image object>"
      ]
     },
     "metadata": {},
     "output_type": "display_data"
    },
    {
     "data": {
      "text/html": [
       "<p><strong>Description:</strong> Yu-Gi-Oh ! - Legendary Duelists: Synchro Storm Booster Pack﻿</p>"
      ],
      "text/plain": [
       "<IPython.core.display.HTML object>"
      ]
     },
     "metadata": {},
     "output_type": "display_data"
    },
    {
     "data": {
      "text/html": [
       "<p><strong>Price:</strong> $ 2.000</p>"
      ],
      "text/plain": [
       "<IPython.core.display.HTML object>"
      ]
     },
     "metadata": {},
     "output_type": "display_data"
    },
    {
     "data": {
      "text/html": [
       "<p><strong>Availability:</strong> Disponible</p>"
      ],
      "text/plain": [
       "<IPython.core.display.HTML object>"
      ]
     },
     "metadata": {},
     "output_type": "display_data"
    },
    {
     "data": {
      "text/html": [
       "<hr>"
      ],
      "text/plain": [
       "<IPython.core.display.HTML object>"
      ]
     },
     "metadata": {},
     "output_type": "display_data"
    },
    {
     "data": {
      "text/html": [
       "<h2><a href='http://www.store.netdecker.cl/legendary-hero-deck/24999-legendary-hero-deck.html' target='_blank'>Legendary Hero Deck</a></h2>"
      ],
      "text/plain": [
       "<IPython.core.display.HTML object>"
      ]
     },
     "metadata": {},
     "output_type": "display_data"
    },
    {
     "data": {
      "text/html": [
       "<img src=\"http://www.store.netdecker.cl/24999-25752-home/legendary-hero-deck.jpg\" width=\"300\" height=\"300\"/>"
      ],
      "text/plain": [
       "<IPython.core.display.Image object>"
      ]
     },
     "metadata": {},
     "output_type": "display_data"
    },
    {
     "data": {
      "text/html": [
       "<p><strong>Description:</strong> Yu-Gi-Oh ! - Legendary Hero Deck﻿</p>"
      ],
      "text/plain": [
       "<IPython.core.display.HTML object>"
      ]
     },
     "metadata": {},
     "output_type": "display_data"
    },
    {
     "data": {
      "text/html": [
       "<p><strong>Price:</strong> $ 24.000</p>"
      ],
      "text/plain": [
       "<IPython.core.display.HTML object>"
      ]
     },
     "metadata": {},
     "output_type": "display_data"
    },
    {
     "data": {
      "text/html": [
       "<p><strong>Availability:</strong> Disponible</p>"
      ],
      "text/plain": [
       "<IPython.core.display.HTML object>"
      ]
     },
     "metadata": {},
     "output_type": "display_data"
    },
    {
     "data": {
      "text/html": [
       "<hr>"
      ],
      "text/plain": [
       "<IPython.core.display.HTML object>"
      ]
     },
     "metadata": {},
     "output_type": "display_data"
    },
    {
     "data": {
      "text/html": [
       "<h2><a href='http://www.store.netdecker.cl/lightning-overdrive/26798-lightning-overdrive-booster-pack.html' target='_blank'>Lightning Overdrive Booster Pack</a></h2>"
      ],
      "text/plain": [
       "<IPython.core.display.HTML object>"
      ]
     },
     "metadata": {},
     "output_type": "display_data"
    },
    {
     "data": {
      "text/html": [
       "<img src=\"http://www.store.netdecker.cl/26798-27715-home/lightning-overdrive-booster-pack.jpg\" width=\"300\" height=\"300\"/>"
      ],
      "text/plain": [
       "<IPython.core.display.Image object>"
      ]
     },
     "metadata": {},
     "output_type": "display_data"
    },
    {
     "data": {
      "text/html": [
       "<p><strong>Description:</strong> Yu-Gi-Oh ! - Lightning Overdrive Booster Pack﻿</p>"
      ],
      "text/plain": [
       "<IPython.core.display.HTML object>"
      ]
     },
     "metadata": {},
     "output_type": "display_data"
    },
    {
     "data": {
      "text/html": [
       "<p><strong>Price:</strong> $ 3.000</p>"
      ],
      "text/plain": [
       "<IPython.core.display.HTML object>"
      ]
     },
     "metadata": {},
     "output_type": "display_data"
    },
    {
     "data": {
      "text/html": [
       "<p><strong>Availability:</strong> Disponible</p>"
      ],
      "text/plain": [
       "<IPython.core.display.HTML object>"
      ]
     },
     "metadata": {},
     "output_type": "display_data"
    },
    {
     "data": {
      "text/html": [
       "<hr>"
      ],
      "text/plain": [
       "<IPython.core.display.HTML object>"
      ]
     },
     "metadata": {},
     "output_type": "display_data"
    },
    {
     "data": {
      "text/html": [
       "<h2><a href='http://www.store.netdecker.cl/magnificent-mavens/30270-magnificent-mavens-mini-box.html' target='_blank'>Magnificent Mavens Mini-Box</a></h2>"
      ],
      "text/plain": [
       "<IPython.core.display.HTML object>"
      ]
     },
     "metadata": {},
     "output_type": "display_data"
    },
    {
     "data": {
      "text/html": [
       "<img src=\"http://www.store.netdecker.cl/30270-31325-home/magnificent-mavens-mini-box.jpg\" width=\"300\" height=\"300\"/>"
      ],
      "text/plain": [
       "<IPython.core.display.Image object>"
      ]
     },
     "metadata": {},
     "output_type": "display_data"
    },
    {
     "data": {
      "text/html": [
       "<p><strong>Description:</strong> Yu-Gi-Oh ! - Magnificent Mavens Mini-Box﻿</p>"
      ],
      "text/plain": [
       "<IPython.core.display.HTML object>"
      ]
     },
     "metadata": {},
     "output_type": "display_data"
    },
    {
     "data": {
      "text/html": [
       "<p><strong>Price:</strong> $ 26.000</p>"
      ],
      "text/plain": [
       "<IPython.core.display.HTML object>"
      ]
     },
     "metadata": {},
     "output_type": "display_data"
    },
    {
     "data": {
      "text/html": [
       "<p><strong>Availability:</strong> Disponible</p>"
      ],
      "text/plain": [
       "<IPython.core.display.HTML object>"
      ]
     },
     "metadata": {},
     "output_type": "display_data"
    },
    {
     "data": {
      "text/html": [
       "<hr>"
      ],
      "text/plain": [
       "<IPython.core.display.HTML object>"
      ]
     },
     "metadata": {},
     "output_type": "display_data"
    },
    {
     "data": {
      "text/html": [
       "<h2><a href='http://www.store.netdecker.cl/maximum-crisis/18159-maximum-crisis-booster-pack.html' target='_blank'>Maximum Crisis Booster Pack</a></h2>"
      ],
      "text/plain": [
       "<IPython.core.display.HTML object>"
      ]
     },
     "metadata": {},
     "output_type": "display_data"
    },
    {
     "data": {
      "text/html": [
       "<img src=\"http://www.store.netdecker.cl/18159-18768-home/maximum-crisis-booster-pack.jpg\" width=\"300\" height=\"300\"/>"
      ],
      "text/plain": [
       "<IPython.core.display.Image object>"
      ]
     },
     "metadata": {},
     "output_type": "display_data"
    },
    {
     "data": {
      "text/html": [
       "<p><strong>Description:</strong> Yu-Gi-Oh ! - Maximum Crisis Booster Pack﻿</p>"
      ],
      "text/plain": [
       "<IPython.core.display.HTML object>"
      ]
     },
     "metadata": {},
     "output_type": "display_data"
    },
    {
     "data": {
      "text/html": [
       "<p><strong>Price:</strong> $ 2.750</p>"
      ],
      "text/plain": [
       "<IPython.core.display.HTML object>"
      ]
     },
     "metadata": {},
     "output_type": "display_data"
    },
    {
     "data": {
      "text/html": [
       "<p><strong>Availability:</strong> Disponible</p>"
      ],
      "text/plain": [
       "<IPython.core.display.HTML object>"
      ]
     },
     "metadata": {},
     "output_type": "display_data"
    },
    {
     "data": {
      "text/html": [
       "<hr>"
      ],
      "text/plain": [
       "<IPython.core.display.HTML object>"
      ]
     },
     "metadata": {},
     "output_type": "display_data"
    },
    {
     "data": {
      "text/html": [
       "<h2><a href='http://www.store.netdecker.cl/maximum-gold/33736-maximum-gold.html' target='_blank'>Maximum Gold</a></h2>"
      ],
      "text/plain": [
       "<IPython.core.display.HTML object>"
      ]
     },
     "metadata": {},
     "output_type": "display_data"
    },
    {
     "data": {
      "text/html": [
       "<img src=\"http://www.store.netdecker.cl/33736-35083-home/maximum-gold.jpg\" width=\"300\" height=\"300\"/>"
      ],
      "text/plain": [
       "<IPython.core.display.Image object>"
      ]
     },
     "metadata": {},
     "output_type": "display_data"
    },
    {
     "data": {
      "text/html": [
       "<p><strong>Description:</strong> Yu-Gi-Oh ! - Maximum Gold﻿</p>"
      ],
      "text/plain": [
       "<IPython.core.display.HTML object>"
      ]
     },
     "metadata": {},
     "output_type": "display_data"
    },
    {
     "data": {
      "text/html": [
       "<p><strong>Price:</strong> $ 30.000</p>"
      ],
      "text/plain": [
       "<IPython.core.display.HTML object>"
      ]
     },
     "metadata": {},
     "output_type": "display_data"
    },
    {
     "data": {
      "text/html": [
       "<p><strong>Availability:</strong> Disponible</p>"
      ],
      "text/plain": [
       "<IPython.core.display.HTML object>"
      ]
     },
     "metadata": {},
     "output_type": "display_data"
    },
    {
     "data": {
      "text/html": [
       "<hr>"
      ],
      "text/plain": [
       "<IPython.core.display.HTML object>"
      ]
     },
     "metadata": {},
     "output_type": "display_data"
    },
    {
     "data": {
      "text/html": [
       "<h2><a href='http://www.store.netdecker.cl/maximum-gold-2/27909-maximum-gold-el-dorado.html' target='_blank'>Maximum Gold: El Dorado</a></h2>"
      ],
      "text/plain": [
       "<IPython.core.display.HTML object>"
      ]
     },
     "metadata": {},
     "output_type": "display_data"
    },
    {
     "data": {
      "text/html": [
       "<img src=\"http://www.store.netdecker.cl/27909-28867-home/maximum-gold-el-dorado.jpg\" width=\"300\" height=\"300\"/>"
      ],
      "text/plain": [
       "<IPython.core.display.Image object>"
      ]
     },
     "metadata": {},
     "output_type": "display_data"
    },
    {
     "data": {
      "text/html": [
       "<p><strong>Description:</strong> Yu-Gi-Oh ! - Maximum Gold: El Dorado﻿</p>"
      ],
      "text/plain": [
       "<IPython.core.display.HTML object>"
      ]
     },
     "metadata": {},
     "output_type": "display_data"
    },
    {
     "data": {
      "text/html": [
       "<p><strong>Price:</strong> $ 30.000</p>"
      ],
      "text/plain": [
       "<IPython.core.display.HTML object>"
      ]
     },
     "metadata": {},
     "output_type": "display_data"
    },
    {
     "data": {
      "text/html": [
       "<p><strong>Availability:</strong> Disponible</p>"
      ],
      "text/plain": [
       "<IPython.core.display.HTML object>"
      ]
     },
     "metadata": {},
     "output_type": "display_data"
    },
    {
     "data": {
      "text/html": [
       "<hr>"
      ],
      "text/plain": [
       "<IPython.core.display.HTML object>"
      ]
     },
     "metadata": {},
     "output_type": "display_data"
    },
    {
     "data": {
      "text/html": [
       "<h2><a href='http://www.store.netdecker.cl/maximum-gold-2/28064-maximum-gold-el-dorado.html' target='_blank'>Maximum Gold: El Dorado</a></h2>"
      ],
      "text/plain": [
       "<IPython.core.display.HTML object>"
      ]
     },
     "metadata": {},
     "output_type": "display_data"
    },
    {
     "data": {
      "text/html": [
       "<img src=\"http://www.store.netdecker.cl/28064-29486-home/maximum-gold-el-dorado.jpg\" width=\"300\" height=\"300\"/>"
      ],
      "text/plain": [
       "<IPython.core.display.Image object>"
      ]
     },
     "metadata": {},
     "output_type": "display_data"
    },
    {
     "data": {
      "text/html": [
       "<p><strong>Description:</strong> Yu-Gi-Oh ! - Maximum Gold: El Dorado﻿</p>"
      ],
      "text/plain": [
       "<IPython.core.display.HTML object>"
      ]
     },
     "metadata": {},
     "output_type": "display_data"
    },
    {
     "data": {
      "text/html": [
       "<p><strong>Price:</strong> $ 30.000</p>"
      ],
      "text/plain": [
       "<IPython.core.display.HTML object>"
      ]
     },
     "metadata": {},
     "output_type": "display_data"
    },
    {
     "data": {
      "text/html": [
       "<p><strong>Availability:</strong> Disponible</p>"
      ],
      "text/plain": [
       "<IPython.core.display.HTML object>"
      ]
     },
     "metadata": {},
     "output_type": "display_data"
    },
    {
     "data": {
      "text/html": [
       "<hr>"
      ],
      "text/plain": [
       "<IPython.core.display.HTML object>"
      ]
     },
     "metadata": {},
     "output_type": "display_data"
    },
    {
     "data": {
      "text/html": [
       "<h2><a href='http://www.store.netdecker.cl/maximum-gold-2/27910-maximum-gold-el-dorado-booster-pack.html' target='_blank'>Maximum Gold: El Dorado Booster...</a></h2>"
      ],
      "text/plain": [
       "<IPython.core.display.HTML object>"
      ]
     },
     "metadata": {},
     "output_type": "display_data"
    },
    {
     "data": {
      "text/html": [
       "<img src=\"http://www.store.netdecker.cl/27910-29029-home/maximum-gold-el-dorado-booster-pack.jpg\" width=\"300\" height=\"300\"/>"
      ],
      "text/plain": [
       "<IPython.core.display.Image object>"
      ]
     },
     "metadata": {},
     "output_type": "display_data"
    },
    {
     "data": {
      "text/html": [
       "<p><strong>Description:</strong> Yu-Gi-Oh ! - Maximum Gold: El Dorado Booster Pack﻿</p>"
      ],
      "text/plain": [
       "<IPython.core.display.HTML object>"
      ]
     },
     "metadata": {},
     "output_type": "display_data"
    },
    {
     "data": {
      "text/html": [
       "<p><strong>Price:</strong> $ 7.500</p>"
      ],
      "text/plain": [
       "<IPython.core.display.HTML object>"
      ]
     },
     "metadata": {},
     "output_type": "display_data"
    },
    {
     "data": {
      "text/html": [
       "<p><strong>Availability:</strong> Disponible</p>"
      ],
      "text/plain": [
       "<IPython.core.display.HTML object>"
      ]
     },
     "metadata": {},
     "output_type": "display_data"
    },
    {
     "data": {
      "text/html": [
       "<hr>"
      ],
      "text/plain": [
       "<IPython.core.display.HTML object>"
      ]
     },
     "metadata": {},
     "output_type": "display_data"
    },
    {
     "data": {
      "text/html": [
       "<h2><a href='http://www.store.netdecker.cl/maze-of-memories/30898-maze-of-memories-booster-pack.html' target='_blank'>Maze of Memories Booster Pack</a></h2>"
      ],
      "text/plain": [
       "<IPython.core.display.HTML object>"
      ]
     },
     "metadata": {},
     "output_type": "display_data"
    },
    {
     "data": {
      "text/html": [
       "<img src=\"http://www.store.netdecker.cl/30898-31964-home/maze-of-memories-booster-pack.jpg\" width=\"300\" height=\"300\"/>"
      ],
      "text/plain": [
       "<IPython.core.display.Image object>"
      ]
     },
     "metadata": {},
     "output_type": "display_data"
    },
    {
     "data": {
      "text/html": [
       "<p><strong>Description:</strong> Maze of Memories Booster Pack﻿</p>"
      ],
      "text/plain": [
       "<IPython.core.display.HTML object>"
      ]
     },
     "metadata": {},
     "output_type": "display_data"
    },
    {
     "data": {
      "text/html": [
       "<p><strong>Price:</strong> $ 4.300</p>"
      ],
      "text/plain": [
       "<IPython.core.display.HTML object>"
      ]
     },
     "metadata": {},
     "output_type": "display_data"
    },
    {
     "data": {
      "text/html": [
       "<p><strong>Availability:</strong> Disponible</p>"
      ],
      "text/plain": [
       "<IPython.core.display.HTML object>"
      ]
     },
     "metadata": {},
     "output_type": "display_data"
    },
    {
     "data": {
      "text/html": [
       "<hr>"
      ],
      "text/plain": [
       "<IPython.core.display.HTML object>"
      ]
     },
     "metadata": {},
     "output_type": "display_data"
    },
    {
     "data": {
      "text/html": [
       "<h2><a href='http://www.store.netdecker.cl/maze-of-millennia/33951-maze-of-millennia-booster-pack.html' target='_blank'>Maze of Millennia Booster Pack</a></h2>"
      ],
      "text/plain": [
       "<IPython.core.display.HTML object>"
      ]
     },
     "metadata": {},
     "output_type": "display_data"
    },
    {
     "data": {
      "text/html": [
       "<img src=\"http://www.store.netdecker.cl/33951-35303-home/maze-of-millennia-booster-pack.jpg\" width=\"300\" height=\"300\"/>"
      ],
      "text/plain": [
       "<IPython.core.display.Image object>"
      ]
     },
     "metadata": {},
     "output_type": "display_data"
    },
    {
     "data": {
      "text/html": [
       "<p><strong>Description:</strong> Maze of Millennia Booster Pack﻿</p>"
      ],
      "text/plain": [
       "<IPython.core.display.HTML object>"
      ]
     },
     "metadata": {},
     "output_type": "display_data"
    },
    {
     "data": {
      "text/html": [
       "<p><strong>Price:</strong> $ 4.500</p>"
      ],
      "text/plain": [
       "<IPython.core.display.HTML object>"
      ]
     },
     "metadata": {},
     "output_type": "display_data"
    },
    {
     "data": {
      "text/html": [
       "<p><strong>Availability:</strong> Disponible</p>"
      ],
      "text/plain": [
       "<IPython.core.display.HTML object>"
      ]
     },
     "metadata": {},
     "output_type": "display_data"
    },
    {
     "data": {
      "text/html": [
       "<hr>"
      ],
      "text/plain": [
       "<IPython.core.display.HTML object>"
      ]
     },
     "metadata": {},
     "output_type": "display_data"
    },
    {
     "data": {
      "text/html": [
       "<h2><a href='http://www.store.netdecker.cl/booster-packs/32842-mystic-fighters-booster-pack.html' target='_blank'>Mystic Fighters Booster Pack</a></h2>"
      ],
      "text/plain": [
       "<IPython.core.display.HTML object>"
      ]
     },
     "metadata": {},
     "output_type": "display_data"
    },
    {
     "data": {
      "text/html": [
       "<img src=\"http://www.store.netdecker.cl/32842-34010-home/mystic-fighters-booster-pack.jpg\" width=\"300\" height=\"300\"/>"
      ],
      "text/plain": [
       "<IPython.core.display.Image object>"
      ]
     },
     "metadata": {},
     "output_type": "display_data"
    },
    {
     "data": {
      "text/html": [
       "<p><strong>Description:</strong> Yu-Gi-Oh ! - Mystic Fighters Booster Pack﻿</p>"
      ],
      "text/plain": [
       "<IPython.core.display.HTML object>"
      ]
     },
     "metadata": {},
     "output_type": "display_data"
    },
    {
     "data": {
      "text/html": [
       "<p><strong>Price:</strong> $ 3.500</p>"
      ],
      "text/plain": [
       "<IPython.core.display.HTML object>"
      ]
     },
     "metadata": {},
     "output_type": "display_data"
    },
    {
     "data": {
      "text/html": [
       "<p><strong>Availability:</strong> Disponible</p>"
      ],
      "text/plain": [
       "<IPython.core.display.HTML object>"
      ]
     },
     "metadata": {},
     "output_type": "display_data"
    },
    {
     "data": {
      "text/html": [
       "<hr>"
      ],
      "text/plain": [
       "<IPython.core.display.HTML object>"
      ]
     },
     "metadata": {},
     "output_type": "display_data"
    },
    {
     "data": {
      "text/html": [
       "<h2><a href='http://www.store.netdecker.cl/booster-packs/18423-pendulum-evolution-booster-pack.html' target='_blank'>Pendulum Evolution Booster Pack</a></h2>"
      ],
      "text/plain": [
       "<IPython.core.display.HTML object>"
      ]
     },
     "metadata": {},
     "output_type": "display_data"
    },
    {
     "data": {
      "text/html": [
       "<img src=\"http://www.store.netdecker.cl/18423-19033-home/pendulum-evolution-booster-pack.jpg\" width=\"300\" height=\"300\"/>"
      ],
      "text/plain": [
       "<IPython.core.display.Image object>"
      ]
     },
     "metadata": {},
     "output_type": "display_data"
    },
    {
     "data": {
      "text/html": [
       "<p><strong>Description:</strong> Yu-Gi-Oh ! - Pendulum Evolution Booster Pack</p>"
      ],
      "text/plain": [
       "<IPython.core.display.HTML object>"
      ]
     },
     "metadata": {},
     "output_type": "display_data"
    },
    {
     "data": {
      "text/html": [
       "<p><strong>Price:</strong> $ 3.000</p>"
      ],
      "text/plain": [
       "<IPython.core.display.HTML object>"
      ]
     },
     "metadata": {},
     "output_type": "display_data"
    },
    {
     "data": {
      "text/html": [
       "<p><strong>Availability:</strong> Disponible</p>"
      ],
      "text/plain": [
       "<IPython.core.display.HTML object>"
      ]
     },
     "metadata": {},
     "output_type": "display_data"
    },
    {
     "data": {
      "text/html": [
       "<hr>"
      ],
      "text/plain": [
       "<IPython.core.display.HTML object>"
      ]
     },
     "metadata": {},
     "output_type": "display_data"
    },
    {
     "data": {
      "text/html": [
       "<h2><a href='http://www.store.netdecker.cl/phantom-nightmare/34007-phantom-nightmare.html' target='_blank'>Phantom Nightmare﻿ Booster Pack</a></h2>"
      ],
      "text/plain": [
       "<IPython.core.display.HTML object>"
      ]
     },
     "metadata": {},
     "output_type": "display_data"
    },
    {
     "data": {
      "text/html": [
       "<img src=\"http://www.store.netdecker.cl/34007-35365-home/phantom-nightmare.jpg\" width=\"300\" height=\"300\"/>"
      ],
      "text/plain": [
       "<IPython.core.display.Image object>"
      ]
     },
     "metadata": {},
     "output_type": "display_data"
    },
    {
     "data": {
      "text/html": [
       "<p><strong>Description:</strong> Phantom Nightmare﻿ Booster Pack</p>"
      ],
      "text/plain": [
       "<IPython.core.display.HTML object>"
      ]
     },
     "metadata": {},
     "output_type": "display_data"
    },
    {
     "data": {
      "text/html": [
       "<p><strong>Price:</strong> $ 4.500</p>"
      ],
      "text/plain": [
       "<IPython.core.display.HTML object>"
      ]
     },
     "metadata": {},
     "output_type": "display_data"
    },
    {
     "data": {
      "text/html": [
       "<p><strong>Availability:</strong> Disponible</p>"
      ],
      "text/plain": [
       "<IPython.core.display.HTML object>"
      ]
     },
     "metadata": {},
     "output_type": "display_data"
    },
    {
     "data": {
      "text/html": [
       "<hr>"
      ],
      "text/plain": [
       "<IPython.core.display.HTML object>"
      ]
     },
     "metadata": {},
     "output_type": "display_data"
    },
    {
     "data": {
      "text/html": [
       "<h2><a href='http://www.store.netdecker.cl/booster-packs/33878-phantom-rage-booster-pack.html' target='_blank'>Phantom Rage Booster Pack</a></h2>"
      ],
      "text/plain": [
       "<IPython.core.display.HTML object>"
      ]
     },
     "metadata": {},
     "output_type": "display_data"
    },
    {
     "data": {
      "text/html": [
       "<img src=\"http://www.store.netdecker.cl/33878-35230-home/phantom-rage-booster-pack.jpg\" width=\"300\" height=\"300\"/>"
      ],
      "text/plain": [
       "<IPython.core.display.Image object>"
      ]
     },
     "metadata": {},
     "output_type": "display_data"
    },
    {
     "data": {
      "text/html": [
       "<p><strong>Description:</strong> Yu-Gi-Oh ! - Phantom Rage Booster Pack﻿</p>"
      ],
      "text/plain": [
       "<IPython.core.display.HTML object>"
      ]
     },
     "metadata": {},
     "output_type": "display_data"
    },
    {
     "data": {
      "text/html": [
       "<p><strong>Price:</strong> $ 3.000</p>"
      ],
      "text/plain": [
       "<IPython.core.display.HTML object>"
      ]
     },
     "metadata": {},
     "output_type": "display_data"
    },
    {
     "data": {
      "text/html": [
       "<p><strong>Availability:</strong> Disponible</p>"
      ],
      "text/plain": [
       "<IPython.core.display.HTML object>"
      ]
     },
     "metadata": {},
     "output_type": "display_data"
    },
    {
     "data": {
      "text/html": [
       "<hr>"
      ],
      "text/plain": [
       "<IPython.core.display.HTML object>"
      ]
     },
     "metadata": {},
     "output_type": "display_data"
    },
    {
     "data": {
      "text/html": [
       "<h2><a href='http://www.store.netdecker.cl/photon-hypernova/30706-photon-hypernova-booster-pack.html' target='_blank'>Photon Hypernova Booster Pack</a></h2>"
      ],
      "text/plain": [
       "<IPython.core.display.HTML object>"
      ]
     },
     "metadata": {},
     "output_type": "display_data"
    },
    {
     "data": {
      "text/html": [
       "<img src=\"http://www.store.netdecker.cl/30706-31771-home/photon-hypernova-booster-pack.jpg\" width=\"300\" height=\"300\"/>"
      ],
      "text/plain": [
       "<IPython.core.display.Image object>"
      ]
     },
     "metadata": {},
     "output_type": "display_data"
    },
    {
     "data": {
      "text/html": [
       "<p><strong>Description:</strong> Yu-Gi-Oh ! - Photon Hypernova Booster Pack﻿</p>"
      ],
      "text/plain": [
       "<IPython.core.display.HTML object>"
      ]
     },
     "metadata": {},
     "output_type": "display_data"
    },
    {
     "data": {
      "text/html": [
       "<p><strong>Price:</strong> $ 4.300</p>"
      ],
      "text/plain": [
       "<IPython.core.display.HTML object>"
      ]
     },
     "metadata": {},
     "output_type": "display_data"
    },
    {
     "data": {
      "text/html": [
       "<p><strong>Availability:</strong> Disponible</p>"
      ],
      "text/plain": [
       "<IPython.core.display.HTML object>"
      ]
     },
     "metadata": {},
     "output_type": "display_data"
    },
    {
     "data": {
      "text/html": [
       "<hr>"
      ],
      "text/plain": [
       "<IPython.core.display.HTML object>"
      ]
     },
     "metadata": {},
     "output_type": "display_data"
    },
    {
     "data": {
      "text/html": [
       "<h2><a href='http://www.store.netdecker.cl/power-of-the-elements/29624-power-of-the-elements-booster-pack.html' target='_blank'>Power of the Elements Booster Pack</a></h2>"
      ],
      "text/plain": [
       "<IPython.core.display.HTML object>"
      ]
     },
     "metadata": {},
     "output_type": "display_data"
    },
    {
     "data": {
      "text/html": [
       "<img src=\"http://www.store.netdecker.cl/29624-30661-home/power-of-the-elements-booster-pack.jpg\" width=\"300\" height=\"300\"/>"
      ],
      "text/plain": [
       "<IPython.core.display.Image object>"
      ]
     },
     "metadata": {},
     "output_type": "display_data"
    },
    {
     "data": {
      "text/html": [
       "<p><strong>Description:</strong> Yu-Gi-Oh ! - Power of the Elements Booster Pack﻿</p>"
      ],
      "text/plain": [
       "<IPython.core.display.HTML object>"
      ]
     },
     "metadata": {},
     "output_type": "display_data"
    },
    {
     "data": {
      "text/html": [
       "<p><strong>Price:</strong> $ 4.000</p>"
      ],
      "text/plain": [
       "<IPython.core.display.HTML object>"
      ]
     },
     "metadata": {},
     "output_type": "display_data"
    },
    {
     "data": {
      "text/html": [
       "<p><strong>Availability:</strong> Disponible</p>"
      ],
      "text/plain": [
       "<IPython.core.display.HTML object>"
      ]
     },
     "metadata": {},
     "output_type": "display_data"
    },
    {
     "data": {
      "text/html": [
       "<hr>"
      ],
      "text/plain": [
       "<IPython.core.display.HTML object>"
      ]
     },
     "metadata": {},
     "output_type": "display_data"
    },
    {
     "data": {
      "text/html": [
       "<h2><a href='http://www.store.netdecker.cl/booster-packs/27226-primal-origin-booster-pack.html' target='_blank'>Primal Origin Booster Pack</a></h2>"
      ],
      "text/plain": [
       "<IPython.core.display.HTML object>"
      ]
     },
     "metadata": {},
     "output_type": "display_data"
    },
    {
     "data": {
      "text/html": [
       "<img src=\"http://www.store.netdecker.cl/27226-28162-home/primal-origin-booster-pack.jpg\" width=\"300\" height=\"300\"/>"
      ],
      "text/plain": [
       "<IPython.core.display.Image object>"
      ]
     },
     "metadata": {},
     "output_type": "display_data"
    },
    {
     "data": {
      "text/html": [
       "<p><strong>Description:</strong> Yu-Gi-Oh ! - Primal Origin Booster Pack﻿</p>"
      ],
      "text/plain": [
       "<IPython.core.display.HTML object>"
      ]
     },
     "metadata": {},
     "output_type": "display_data"
    },
    {
     "data": {
      "text/html": [
       "<p><strong>Price:</strong> $ 2.500</p>"
      ],
      "text/plain": [
       "<IPython.core.display.HTML object>"
      ]
     },
     "metadata": {},
     "output_type": "display_data"
    },
    {
     "data": {
      "text/html": [
       "<p><strong>Availability:</strong> Disponible</p>"
      ],
      "text/plain": [
       "<IPython.core.display.HTML object>"
      ]
     },
     "metadata": {},
     "output_type": "display_data"
    },
    {
     "data": {
      "text/html": [
       "<hr>"
      ],
      "text/plain": [
       "<IPython.core.display.HTML object>"
      ]
     },
     "metadata": {},
     "output_type": "display_data"
    },
    {
     "data": {
      "text/html": [
       "<h2><a href='http://www.store.netdecker.cl/25th-rarity-collection-ii/34848-rarity-collection-ii-booster-pack.html' target='_blank'>Rarity Collection II Booster Pack</a></h2>"
      ],
      "text/plain": [
       "<IPython.core.display.HTML object>"
      ]
     },
     "metadata": {},
     "output_type": "display_data"
    },
    {
     "data": {
      "text/html": [
       "<img src=\"http://www.store.netdecker.cl/34848-36218-home/rarity-collection-ii-booster-pack.jpg\" width=\"300\" height=\"300\"/>"
      ],
      "text/plain": [
       "<IPython.core.display.Image object>"
      ]
     },
     "metadata": {},
     "output_type": "display_data"
    },
    {
     "data": {
      "text/html": [
       "<p><strong>Description:</strong> Rarity Collection II Booster Pack﻿</p>"
      ],
      "text/plain": [
       "<IPython.core.display.HTML object>"
      ]
     },
     "metadata": {},
     "output_type": "display_data"
    },
    {
     "data": {
      "text/html": [
       "<p><strong>Price:</strong> $ 11.000</p>"
      ],
      "text/plain": [
       "<IPython.core.display.HTML object>"
      ]
     },
     "metadata": {},
     "output_type": "display_data"
    },
    {
     "data": {
      "text/html": [
       "<p><strong>Availability:</strong> Disponible</p>"
      ],
      "text/plain": [
       "<IPython.core.display.HTML object>"
      ]
     },
     "metadata": {},
     "output_type": "display_data"
    },
    {
     "data": {
      "text/html": [
       "<hr>"
      ],
      "text/plain": [
       "<IPython.core.display.HTML object>"
      ]
     },
     "metadata": {},
     "output_type": "display_data"
    },
    {
     "data": {
      "text/html": [
       "<h2><a href='http://www.store.netdecker.cl/rising-rampage/22976-rising-rampage-booster-pack.html' target='_blank'>Rising Rampage Booster Pack</a></h2>"
      ],
      "text/plain": [
       "<IPython.core.display.HTML object>"
      ]
     },
     "metadata": {},
     "output_type": "display_data"
    },
    {
     "data": {
      "text/html": [
       "<img src=\"http://www.store.netdecker.cl/22976-23708-home/rising-rampage-booster-pack.jpg\" width=\"300\" height=\"300\"/>"
      ],
      "text/plain": [
       "<IPython.core.display.Image object>"
      ]
     },
     "metadata": {},
     "output_type": "display_data"
    },
    {
     "data": {
      "text/html": [
       "<p><strong>Description:</strong> Yu-Gi-Oh ! - Rising Rampage Booster Pack﻿</p>"
      ],
      "text/plain": [
       "<IPython.core.display.HTML object>"
      ]
     },
     "metadata": {},
     "output_type": "display_data"
    },
    {
     "data": {
      "text/html": [
       "<p><strong>Price:</strong> $ 2.800</p>"
      ],
      "text/plain": [
       "<IPython.core.display.HTML object>"
      ]
     },
     "metadata": {},
     "output_type": "display_data"
    },
    {
     "data": {
      "text/html": [
       "<p><strong>Availability:</strong> Disponible</p>"
      ],
      "text/plain": [
       "<IPython.core.display.HTML object>"
      ]
     },
     "metadata": {},
     "output_type": "display_data"
    },
    {
     "data": {
      "text/html": [
       "<hr>"
      ],
      "text/plain": [
       "<IPython.core.display.HTML object>"
      ]
     },
     "metadata": {},
     "output_type": "display_data"
    },
    {
     "data": {
      "text/html": [
       "<h2><a href='http://www.store.netdecker.cl/special-edition/23462-rising-rampage-se.html' target='_blank'>Rising Rampage SE</a></h2>"
      ],
      "text/plain": [
       "<IPython.core.display.HTML object>"
      ]
     },
     "metadata": {},
     "output_type": "display_data"
    },
    {
     "data": {
      "text/html": [
       "<img src=\"http://www.store.netdecker.cl/23462-24198-home/rising-rampage-se.jpg\" width=\"300\" height=\"300\"/>"
      ],
      "text/plain": [
       "<IPython.core.display.Image object>"
      ]
     },
     "metadata": {},
     "output_type": "display_data"
    },
    {
     "data": {
      "text/html": [
       "<p><strong>Description:</strong> Yu-Gi-Oh ! - Rising Rampage﻿ SE</p>"
      ],
      "text/plain": [
       "<IPython.core.display.HTML object>"
      ]
     },
     "metadata": {},
     "output_type": "display_data"
    },
    {
     "data": {
      "text/html": [
       "<p><strong>Price:</strong> $ 8.000</p>"
      ],
      "text/plain": [
       "<IPython.core.display.HTML object>"
      ]
     },
     "metadata": {},
     "output_type": "display_data"
    },
    {
     "data": {
      "text/html": [
       "<p><strong>Availability:</strong> Disponible</p>"
      ],
      "text/plain": [
       "<IPython.core.display.HTML object>"
      ]
     },
     "metadata": {},
     "output_type": "display_data"
    },
    {
     "data": {
      "text/html": [
       "<hr>"
      ],
      "text/plain": [
       "<IPython.core.display.HTML object>"
      ]
     },
     "metadata": {},
     "output_type": "display_data"
    },
    {
     "data": {
      "text/html": [
       "<h2><a href='http://www.store.netdecker.cl/structure-deck/30406-saga-of-blue-eyes-white-dragon.html' target='_blank'>Saga of Blue Eyes White Dragon</a></h2>"
      ],
      "text/plain": [
       "<IPython.core.display.HTML object>"
      ]
     },
     "metadata": {},
     "output_type": "display_data"
    },
    {
     "data": {
      "text/html": [
       "<img src=\"http://www.store.netdecker.cl/30406-31467-home/saga-of-blue-eyes-white-dragon.jpg\" width=\"300\" height=\"300\"/>"
      ],
      "text/plain": [
       "<IPython.core.display.Image object>"
      ]
     },
     "metadata": {},
     "output_type": "display_data"
    },
    {
     "data": {
      "text/html": [
       "<p><strong>Description:</strong> Yu-Gi-Oh ! - Saga of Blue Eyes White Dragon﻿</p>"
      ],
      "text/plain": [
       "<IPython.core.display.HTML object>"
      ]
     },
     "metadata": {},
     "output_type": "display_data"
    },
    {
     "data": {
      "text/html": [
       "<p><strong>Price:</strong> $ 13.000</p>"
      ],
      "text/plain": [
       "<IPython.core.display.HTML object>"
      ]
     },
     "metadata": {},
     "output_type": "display_data"
    },
    {
     "data": {
      "text/html": [
       "<p><strong>Availability:</strong> Disponible</p>"
      ],
      "text/plain": [
       "<IPython.core.display.HTML object>"
      ]
     },
     "metadata": {},
     "output_type": "display_data"
    },
    {
     "data": {
      "text/html": [
       "<hr>"
      ],
      "text/plain": [
       "<IPython.core.display.HTML object>"
      ]
     },
     "metadata": {},
     "output_type": "display_data"
    },
    {
     "data": {
      "text/html": [
       "<h2><a href='http://www.store.netdecker.cl/booster-packs/24137-secret-slayers-booster-pack.html' target='_blank'>Secret Slayers Booster Pack</a></h2>"
      ],
      "text/plain": [
       "<IPython.core.display.HTML object>"
      ]
     },
     "metadata": {},
     "output_type": "display_data"
    },
    {
     "data": {
      "text/html": [
       "<img src=\"http://www.store.netdecker.cl/24137-24884-home/secret-slayers-booster-pack.jpg\" width=\"300\" height=\"300\"/>"
      ],
      "text/plain": [
       "<IPython.core.display.Image object>"
      ]
     },
     "metadata": {},
     "output_type": "display_data"
    },
    {
     "data": {
      "text/html": [
       "<p><strong>Description:</strong> Yu-Gi-Oh ! - Secret Slayers Booster Pack</p>"
      ],
      "text/plain": [
       "<IPython.core.display.HTML object>"
      ]
     },
     "metadata": {},
     "output_type": "display_data"
    },
    {
     "data": {
      "text/html": [
       "<p><strong>Price:</strong> $ 3.000</p>"
      ],
      "text/plain": [
       "<IPython.core.display.HTML object>"
      ]
     },
     "metadata": {},
     "output_type": "display_data"
    },
    {
     "data": {
      "text/html": [
       "<p><strong>Availability:</strong> Disponible</p>"
      ],
      "text/plain": [
       "<IPython.core.display.HTML object>"
      ]
     },
     "metadata": {},
     "output_type": "display_data"
    },
    {
     "data": {
      "text/html": [
       "<hr>"
      ],
      "text/plain": [
       "<IPython.core.display.HTML object>"
      ]
     },
     "metadata": {},
     "output_type": "display_data"
    },
    {
     "data": {
      "text/html": [
       "<h2><a href='http://www.store.netdecker.cl/booster-packs/27224-shining-victories-booster-pack.html' target='_blank'>Shining Victories Booster Pack</a></h2>"
      ],
      "text/plain": [
       "<IPython.core.display.HTML object>"
      ]
     },
     "metadata": {},
     "output_type": "display_data"
    },
    {
     "data": {
      "text/html": [
       "<img src=\"http://www.store.netdecker.cl/27224-28160-home/shining-victories-booster-pack.jpg\" width=\"300\" height=\"300\"/>"
      ],
      "text/plain": [
       "<IPython.core.display.Image object>"
      ]
     },
     "metadata": {},
     "output_type": "display_data"
    },
    {
     "data": {
      "text/html": [
       "<p><strong>Description:</strong> Yu-Gi-Oh ! - Shining Victories Booster Pack﻿</p>"
      ],
      "text/plain": [
       "<IPython.core.display.HTML object>"
      ]
     },
     "metadata": {},
     "output_type": "display_data"
    },
    {
     "data": {
      "text/html": [
       "<p><strong>Price:</strong> $ 2.500</p>"
      ],
      "text/plain": [
       "<IPython.core.display.HTML object>"
      ]
     },
     "metadata": {},
     "output_type": "display_data"
    },
    {
     "data": {
      "text/html": [
       "<p><strong>Availability:</strong> Disponible</p>"
      ],
      "text/plain": [
       "<IPython.core.display.HTML object>"
      ]
     },
     "metadata": {},
     "output_type": "display_data"
    },
    {
     "data": {
      "text/html": [
       "<hr>"
      ],
      "text/plain": [
       "<IPython.core.display.HTML object>"
      ]
     },
     "metadata": {},
     "output_type": "display_data"
    },
    {
     "data": {
      "text/html": [
       "<h2><a href='http://www.store.netdecker.cl/sisters-of-the-rose/21995-sisters-of-the-rose-booster-pack.html' target='_blank'>Sisters of the Rose Booster Pack</a></h2>"
      ],
      "text/plain": [
       "<IPython.core.display.HTML object>"
      ]
     },
     "metadata": {},
     "output_type": "display_data"
    },
    {
     "data": {
      "text/html": [
       "<img src=\"http://www.store.netdecker.cl/21995-22698-home/sisters-of-the-rose-booster-pack.jpg\" width=\"300\" height=\"300\"/>"
      ],
      "text/plain": [
       "<IPython.core.display.Image object>"
      ]
     },
     "metadata": {},
     "output_type": "display_data"
    },
    {
     "data": {
      "text/html": [
       "<p><strong>Description:</strong> Yu-Gi-Oh ! - Sisters of the Rose Booster Pack﻿</p>"
      ],
      "text/plain": [
       "<IPython.core.display.HTML object>"
      ]
     },
     "metadata": {},
     "output_type": "display_data"
    },
    {
     "data": {
      "text/html": [
       "<p><strong>Price:</strong> $ 1.500</p>"
      ],
      "text/plain": [
       "<IPython.core.display.HTML object>"
      ]
     },
     "metadata": {},
     "output_type": "display_data"
    },
    {
     "data": {
      "text/html": [
       "<p><strong>Availability:</strong> Disponible</p>"
      ],
      "text/plain": [
       "<IPython.core.display.HTML object>"
      ]
     },
     "metadata": {},
     "output_type": "display_data"
    },
    {
     "data": {
      "text/html": [
       "<hr>"
      ],
      "text/plain": [
       "<IPython.core.display.HTML object>"
      ]
     },
     "metadata": {},
     "output_type": "display_data"
    },
    {
     "data": {
      "text/html": [
       "<h2><a href='http://www.store.netdecker.cl/soul-fusion/21386-soul-fusion-booster-pack.html' target='_blank'>Soul Fusion Booster Pack</a></h2>"
      ],
      "text/plain": [
       "<IPython.core.display.HTML object>"
      ]
     },
     "metadata": {},
     "output_type": "display_data"
    },
    {
     "data": {
      "text/html": [
       "<img src=\"http://www.store.netdecker.cl/21386-22068-home/soul-fusion-booster-pack.jpg\" width=\"300\" height=\"300\"/>"
      ],
      "text/plain": [
       "<IPython.core.display.Image object>"
      ]
     },
     "metadata": {},
     "output_type": "display_data"
    },
    {
     "data": {
      "text/html": [
       "<p><strong>Description:</strong> Yu-Gi-Oh ! - Soul Fusion Booster Pack﻿</p>"
      ],
      "text/plain": [
       "<IPython.core.display.HTML object>"
      ]
     },
     "metadata": {},
     "output_type": "display_data"
    },
    {
     "data": {
      "text/html": [
       "<p><strong>Price:</strong> $ 2.800</p>"
      ],
      "text/plain": [
       "<IPython.core.display.HTML object>"
      ]
     },
     "metadata": {},
     "output_type": "display_data"
    },
    {
     "data": {
      "text/html": [
       "<p><strong>Availability:</strong> Disponible</p>"
      ],
      "text/plain": [
       "<IPython.core.display.HTML object>"
      ]
     },
     "metadata": {},
     "output_type": "display_data"
    },
    {
     "data": {
      "text/html": [
       "<hr>"
      ],
      "text/plain": [
       "<IPython.core.display.HTML object>"
      ]
     },
     "metadata": {},
     "output_type": "display_data"
    },
    {
     "data": {
      "text/html": [
       "<h2><a href='http://www.store.netdecker.cl/special-edition/21988-soul-fusion-se.html' target='_blank'>Soul Fusion SE</a></h2>"
      ],
      "text/plain": [
       "<IPython.core.display.HTML object>"
      ]
     },
     "metadata": {},
     "output_type": "display_data"
    },
    {
     "data": {
      "text/html": [
       "<img src=\"http://www.store.netdecker.cl/21988-22691-home/soul-fusion-se.jpg\" width=\"300\" height=\"300\"/>"
      ],
      "text/plain": [
       "<IPython.core.display.Image object>"
      ]
     },
     "metadata": {},
     "output_type": "display_data"
    },
    {
     "data": {
      "text/html": [
       "<p><strong>Description:</strong> Yu-Gi-Oh ! - Soul Fusion SE﻿</p>"
      ],
      "text/plain": [
       "<IPython.core.display.HTML object>"
      ]
     },
     "metadata": {},
     "output_type": "display_data"
    },
    {
     "data": {
      "text/html": [
       "<p><strong>Price:</strong> $ 7.500</p>"
      ],
      "text/plain": [
       "<IPython.core.display.HTML object>"
      ]
     },
     "metadata": {},
     "output_type": "display_data"
    },
    {
     "data": {
      "text/html": [
       "<p><strong>Availability:</strong> Disponible</p>"
      ],
      "text/plain": [
       "<IPython.core.display.HTML object>"
      ]
     },
     "metadata": {},
     "output_type": "display_data"
    },
    {
     "data": {
      "text/html": [
       "<hr>"
      ],
      "text/plain": [
       "<IPython.core.display.HTML object>"
      ]
     },
     "metadata": {},
     "output_type": "display_data"
    },
    {
     "data": {
      "text/html": [
       "<h2><a href='http://www.store.netdecker.cl/soulburning-volcano/32508-soulburning-volcano-booster-pack.html' target='_blank'>Soulburning Volcano Booster Pack</a></h2>"
      ],
      "text/plain": [
       "<IPython.core.display.HTML object>"
      ]
     },
     "metadata": {},
     "output_type": "display_data"
    },
    {
     "data": {
      "text/html": [
       "<img src=\"http://www.store.netdecker.cl/32508-33645-home/soulburning-volcano-booster-pack.jpg\" width=\"300\" height=\"300\"/>"
      ],
      "text/plain": [
       "<IPython.core.display.Image object>"
      ]
     },
     "metadata": {},
     "output_type": "display_data"
    },
    {
     "data": {
      "text/html": [
       "<p><strong>Description:</strong> Yu-Gi-Oh ! - Soulburning Volcano Booster Pack﻿</p>"
      ],
      "text/plain": [
       "<IPython.core.display.HTML object>"
      ]
     },
     "metadata": {},
     "output_type": "display_data"
    },
    {
     "data": {
      "text/html": [
       "<p><strong>Price:</strong> $ 2.500</p>"
      ],
      "text/plain": [
       "<IPython.core.display.HTML object>"
      ]
     },
     "metadata": {},
     "output_type": "display_data"
    },
    {
     "data": {
      "text/html": [
       "<p><strong>Availability:</strong> Disponible</p>"
      ],
      "text/plain": [
       "<IPython.core.display.HTML object>"
      ]
     },
     "metadata": {},
     "output_type": "display_data"
    },
    {
     "data": {
      "text/html": [
       "<hr>"
      ],
      "text/plain": [
       "<IPython.core.display.HTML object>"
      ]
     },
     "metadata": {},
     "output_type": "display_data"
    },
    {
     "data": {
      "text/html": [
       "<h2><a href='http://www.store.netdecker.cl/spirit-charmers/33551-spirit-charmers.html' target='_blank'>Spirit Charmers</a></h2>"
      ],
      "text/plain": [
       "<IPython.core.display.HTML object>"
      ]
     },
     "metadata": {},
     "output_type": "display_data"
    },
    {
     "data": {
      "text/html": [
       "<img src=\"http://www.store.netdecker.cl/33551-34896-home/spirit-charmers.jpg\" width=\"300\" height=\"300\"/>"
      ],
      "text/plain": [
       "<IPython.core.display.Image object>"
      ]
     },
     "metadata": {},
     "output_type": "display_data"
    },
    {
     "data": {
      "text/html": [
       "<p><strong>Description:</strong> Yu-Gi-Oh ! - Spirit Charmers﻿</p>"
      ],
      "text/plain": [
       "<IPython.core.display.HTML object>"
      ]
     },
     "metadata": {},
     "output_type": "display_data"
    },
    {
     "data": {
      "text/html": [
       "<p><strong>Price:</strong> $ 9.000</p>"
      ],
      "text/plain": [
       "<IPython.core.display.HTML object>"
      ]
     },
     "metadata": {},
     "output_type": "display_data"
    },
    {
     "data": {
      "text/html": [
       "<p><strong>Availability:</strong> Disponible</p>"
      ],
      "text/plain": [
       "<IPython.core.display.HTML object>"
      ]
     },
     "metadata": {},
     "output_type": "display_data"
    },
    {
     "data": {
      "text/html": [
       "<hr>"
      ],
      "text/plain": [
       "<IPython.core.display.HTML object>"
      ]
     },
     "metadata": {},
     "output_type": "display_data"
    },
    {
     "data": {
      "text/html": [
       "<h2><a href='http://www.store.netdecker.cl/spirit-warrior/19642-spirit-warrior-booster-pack.html' target='_blank'>Spirit Warrior Booster Pack</a></h2>"
      ],
      "text/plain": [
       "<IPython.core.display.HTML object>"
      ]
     },
     "metadata": {},
     "output_type": "display_data"
    },
    {
     "data": {
      "text/html": [
       "<img src=\"http://www.store.netdecker.cl/19642-20271-home/spirit-warrior-booster-pack.jpg\" width=\"300\" height=\"300\"/>"
      ],
      "text/plain": [
       "<IPython.core.display.Image object>"
      ]
     },
     "metadata": {},
     "output_type": "display_data"
    },
    {
     "data": {
      "text/html": [
       "<p><strong>Description:</strong> Yu-Gi-Oh ! - Spirit Warrior Booster Pack</p>"
      ],
      "text/plain": [
       "<IPython.core.display.HTML object>"
      ]
     },
     "metadata": {},
     "output_type": "display_data"
    },
    {
     "data": {
      "text/html": [
       "<p><strong>Price:</strong> $ 3.000</p>"
      ],
      "text/plain": [
       "<IPython.core.display.HTML object>"
      ]
     },
     "metadata": {},
     "output_type": "display_data"
    },
    {
     "data": {
      "text/html": [
       "<p><strong>Availability:</strong> Disponible</p>"
      ],
      "text/plain": [
       "<IPython.core.display.HTML object>"
      ]
     },
     "metadata": {},
     "output_type": "display_data"
    },
    {
     "data": {
      "text/html": [
       "<hr>"
      ],
      "text/plain": [
       "<IPython.core.display.HTML object>"
      ]
     },
     "metadata": {},
     "output_type": "display_data"
    },
    {
     "data": {
      "text/html": [
       "<h2><a href='http://www.store.netdecker.cl/booster-packs/20371-star-pack-vrains-booster-pack.html' target='_blank'>Star Pack Vrains Booster Pack</a></h2>"
      ],
      "text/plain": [
       "<IPython.core.display.HTML object>"
      ]
     },
     "metadata": {},
     "output_type": "display_data"
    },
    {
     "data": {
      "text/html": [
       "<img src=\"http://www.store.netdecker.cl/20371-21040-home/star-pack-vrains-booster-pack.jpg\" width=\"300\" height=\"300\"/>"
      ],
      "text/plain": [
       "<IPython.core.display.Image object>"
      ]
     },
     "metadata": {},
     "output_type": "display_data"
    },
    {
     "data": {
      "text/html": [
       "<p><strong>Description:</strong> Yu-Gi-Oh ! - Star Pack Vrains Booster Pack﻿</p>"
      ],
      "text/plain": [
       "<IPython.core.display.HTML object>"
      ]
     },
     "metadata": {},
     "output_type": "display_data"
    },
    {
     "data": {
      "text/html": [
       "<p><strong>Price:</strong> $ 700</p>"
      ],
      "text/plain": [
       "<IPython.core.display.HTML object>"
      ]
     },
     "metadata": {},
     "output_type": "display_data"
    },
    {
     "data": {
      "text/html": [
       "<p><strong>Availability:</strong> Disponible</p>"
      ],
      "text/plain": [
       "<IPython.core.display.HTML object>"
      ]
     },
     "metadata": {},
     "output_type": "display_data"
    },
    {
     "data": {
      "text/html": [
       "<hr>"
      ],
      "text/plain": [
       "<IPython.core.display.HTML object>"
      ]
     },
     "metadata": {},
     "output_type": "display_data"
    },
    {
     "data": {
      "text/html": [
       "<h2><a href='http://www.store.netdecker.cl/tactical-masters/29698-tactical-masters-booster-pack.html' target='_blank'>Tactical Masters Booster Pack</a></h2>"
      ],
      "text/plain": [
       "<IPython.core.display.HTML object>"
      ]
     },
     "metadata": {},
     "output_type": "display_data"
    },
    {
     "data": {
      "text/html": [
       "<img src=\"http://www.store.netdecker.cl/29698-30735-home/tactical-masters-booster-pack.jpg\" width=\"300\" height=\"300\"/>"
      ],
      "text/plain": [
       "<IPython.core.display.Image object>"
      ]
     },
     "metadata": {},
     "output_type": "display_data"
    },
    {
     "data": {
      "text/html": [
       "<p><strong>Description:</strong> Yu-Gi-Oh ! - Tactical Masters Booster Pack﻿</p>"
      ],
      "text/plain": [
       "<IPython.core.display.HTML object>"
      ]
     },
     "metadata": {},
     "output_type": "display_data"
    },
    {
     "data": {
      "text/html": [
       "<p><strong>Price:</strong> $ 3.800</p>"
      ],
      "text/plain": [
       "<IPython.core.display.HTML object>"
      ]
     },
     "metadata": {},
     "output_type": "display_data"
    },
    {
     "data": {
      "text/html": [
       "<p><strong>Availability:</strong> Disponible</p>"
      ],
      "text/plain": [
       "<IPython.core.display.HTML object>"
      ]
     },
     "metadata": {},
     "output_type": "display_data"
    },
    {
     "data": {
      "text/html": [
       "<hr>"
      ],
      "text/plain": [
       "<IPython.core.display.HTML object>"
      ]
     },
     "metadata": {},
     "output_type": "display_data"
    },
    {
     "data": {
      "text/html": [
       "<h2><a href='http://www.store.netdecker.cl/battles-of-legend-terminal/34856-terminal-revenge-booster-pack.html' target='_blank'>Terminal Revenge Booster Pack</a></h2>"
      ],
      "text/plain": [
       "<IPython.core.display.HTML object>"
      ]
     },
     "metadata": {},
     "output_type": "display_data"
    },
    {
     "data": {
      "text/html": [
       "<img src=\"http://www.store.netdecker.cl/34856-36227-home/terminal-revenge-booster-pack.jpg\" width=\"300\" height=\"300\"/>"
      ],
      "text/plain": [
       "<IPython.core.display.Image object>"
      ]
     },
     "metadata": {},
     "output_type": "display_data"
    },
    {
     "data": {
      "text/html": [
       "<p><strong>Description:</strong> Terminal Revenge Booster Pack﻿</p>"
      ],
      "text/plain": [
       "<IPython.core.display.HTML object>"
      ]
     },
     "metadata": {},
     "output_type": "display_data"
    },
    {
     "data": {
      "text/html": [
       "<p><strong>Price:</strong> $ 4.500</p>"
      ],
      "text/plain": [
       "<IPython.core.display.HTML object>"
      ]
     },
     "metadata": {},
     "output_type": "display_data"
    },
    {
     "data": {
      "text/html": [
       "<p><strong>Availability:</strong> Disponible</p>"
      ],
      "text/plain": [
       "<IPython.core.display.HTML object>"
      ]
     },
     "metadata": {},
     "output_type": "display_data"
    },
    {
     "data": {
      "text/html": [
       "<hr>"
      ],
      "text/plain": [
       "<IPython.core.display.HTML object>"
      ]
     },
     "metadata": {},
     "output_type": "display_data"
    },
    {
     "data": {
      "text/html": [
       "<h2><a href='http://www.store.netdecker.cl/the-crimson-king/32372-the-crimson-king.html' target='_blank'>The Crimson King</a></h2>"
      ],
      "text/plain": [
       "<IPython.core.display.HTML object>"
      ]
     },
     "metadata": {},
     "output_type": "display_data"
    },
    {
     "data": {
      "text/html": [
       "<img src=\"http://www.store.netdecker.cl/32372-33502-home/the-crimson-king.jpg\" width=\"300\" height=\"300\"/>"
      ],
      "text/plain": [
       "<IPython.core.display.Image object>"
      ]
     },
     "metadata": {},
     "output_type": "display_data"
    },
    {
     "data": {
      "text/html": [
       "<p><strong>Description:</strong> The Crimson King﻿ Structure Deck</p>"
      ],
      "text/plain": [
       "<IPython.core.display.HTML object>"
      ]
     },
     "metadata": {},
     "output_type": "display_data"
    },
    {
     "data": {
      "text/html": [
       "<p><strong>Price:</strong> $ 13.000</p>"
      ],
      "text/plain": [
       "<IPython.core.display.HTML object>"
      ]
     },
     "metadata": {},
     "output_type": "display_data"
    },
    {
     "data": {
      "text/html": [
       "<p><strong>Availability:</strong> Disponible</p>"
      ],
      "text/plain": [
       "<IPython.core.display.HTML object>"
      ]
     },
     "metadata": {},
     "output_type": "display_data"
    },
    {
     "data": {
      "text/html": [
       "<hr>"
      ],
      "text/plain": [
       "<IPython.core.display.HTML object>"
      ]
     },
     "metadata": {},
     "output_type": "display_data"
    },
    {
     "data": {
      "text/html": [
       "<h2><a href='http://www.store.netdecker.cl/the-crimson-king/32399-the-crimson-king.html' target='_blank'>The Crimson King</a></h2>"
      ],
      "text/plain": [
       "<IPython.core.display.HTML object>"
      ]
     },
     "metadata": {},
     "output_type": "display_data"
    },
    {
     "data": {
      "text/html": [
       "<img src=\"http://www.store.netdecker.cl/32399-33536-home/the-crimson-king.jpg\" width=\"300\" height=\"300\"/>"
      ],
      "text/plain": [
       "<IPython.core.display.Image object>"
      ]
     },
     "metadata": {},
     "output_type": "display_data"
    },
    {
     "data": {
      "text/html": [
       "<p><strong>Description:</strong> The Crimson King﻿ Structure Deck</p>"
      ],
      "text/plain": [
       "<IPython.core.display.HTML object>"
      ]
     },
     "metadata": {},
     "output_type": "display_data"
    },
    {
     "data": {
      "text/html": [
       "<p><strong>Price:</strong> $ 13.000</p>"
      ],
      "text/plain": [
       "<IPython.core.display.HTML object>"
      ]
     },
     "metadata": {},
     "output_type": "display_data"
    },
    {
     "data": {
      "text/html": [
       "<p><strong>Availability:</strong> Disponible</p>"
      ],
      "text/plain": [
       "<IPython.core.display.HTML object>"
      ]
     },
     "metadata": {},
     "output_type": "display_data"
    },
    {
     "data": {
      "text/html": [
       "<hr>"
      ],
      "text/plain": [
       "<IPython.core.display.HTML object>"
      ]
     },
     "metadata": {},
     "output_type": "display_data"
    },
    {
     "data": {
      "text/html": [
       "<h2><a href='http://www.store.netdecker.cl/the-grand-creators/28273-the-grand-creators-booster-pack.html' target='_blank'>The Grand Creators Booster Pack</a></h2>"
      ],
      "text/plain": [
       "<IPython.core.display.HTML object>"
      ]
     },
     "metadata": {},
     "output_type": "display_data"
    },
    {
     "data": {
      "text/html": [
       "<img src=\"http://www.store.netdecker.cl/28273-29240-home/the-grand-creators-booster-pack.jpg\" width=\"300\" height=\"300\"/>"
      ],
      "text/plain": [
       "<IPython.core.display.Image object>"
      ]
     },
     "metadata": {},
     "output_type": "display_data"
    },
    {
     "data": {
      "text/html": [
       "<p><strong>Description:</strong> Yu-Gi-Oh ! - The Grand Creators Booster Pack</p>"
      ],
      "text/plain": [
       "<IPython.core.display.HTML object>"
      ]
     },
     "metadata": {},
     "output_type": "display_data"
    },
    {
     "data": {
      "text/html": [
       "<p><strong>Price:</strong> $ 3.500</p>"
      ],
      "text/plain": [
       "<IPython.core.display.HTML object>"
      ]
     },
     "metadata": {},
     "output_type": "display_data"
    },
    {
     "data": {
      "text/html": [
       "<p><strong>Availability:</strong> Disponible</p>"
      ],
      "text/plain": [
       "<IPython.core.display.HTML object>"
      ]
     },
     "metadata": {},
     "output_type": "display_data"
    },
    {
     "data": {
      "text/html": [
       "<hr>"
      ],
      "text/plain": [
       "<IPython.core.display.HTML object>"
      ]
     },
     "metadata": {},
     "output_type": "display_data"
    },
    {
     "data": {
      "text/html": [
       "<h2><a href='http://www.store.netdecker.cl/the-infinity-chasers/22239-the-infinity-chasers-booster-pack.html' target='_blank'>The Infinity Chasers Booster Pack</a></h2>"
      ],
      "text/plain": [
       "<IPython.core.display.HTML object>"
      ]
     },
     "metadata": {},
     "output_type": "display_data"
    },
    {
     "data": {
      "text/html": [
       "<img src=\"http://www.store.netdecker.cl/22239-22943-home/the-infinity-chasers-booster-pack.jpg\" width=\"300\" height=\"300\"/>"
      ],
      "text/plain": [
       "<IPython.core.display.Image object>"
      ]
     },
     "metadata": {},
     "output_type": "display_data"
    },
    {
     "data": {
      "text/html": [
       "<p><strong>Description:</strong> Yu-Gi-Oh ! - ﻿The Infinity Chasers Booster Pack﻿</p>"
      ],
      "text/plain": [
       "<IPython.core.display.HTML object>"
      ]
     },
     "metadata": {},
     "output_type": "display_data"
    },
    {
     "data": {
      "text/html": [
       "<p><strong>Price:</strong> $ 2.800</p>"
      ],
      "text/plain": [
       "<IPython.core.display.HTML object>"
      ]
     },
     "metadata": {},
     "output_type": "display_data"
    },
    {
     "data": {
      "text/html": [
       "<p><strong>Availability:</strong> Disponible</p>"
      ],
      "text/plain": [
       "<IPython.core.display.HTML object>"
      ]
     },
     "metadata": {},
     "output_type": "display_data"
    },
    {
     "data": {
      "text/html": [
       "<hr>"
      ],
      "text/plain": [
       "<IPython.core.display.HTML object>"
      ]
     },
     "metadata": {},
     "output_type": "display_data"
    },
    {
     "data": {
      "text/html": [
       "<h2><a href='http://www.store.netdecker.cl/booster-packs/29075-tin-of-ancient-battles-mega-pack.html' target='_blank'>Tin of Ancient Battles Mega Pack</a></h2>"
      ],
      "text/plain": [
       "<IPython.core.display.HTML object>"
      ]
     },
     "metadata": {},
     "output_type": "display_data"
    },
    {
     "data": {
      "text/html": [
       "<img src=\"http://www.store.netdecker.cl/29075-30096-home/tin-of-ancient-battles-mega-pack.jpg\" width=\"300\" height=\"300\"/>"
      ],
      "text/plain": [
       "<IPython.core.display.Image object>"
      ]
     },
     "metadata": {},
     "output_type": "display_data"
    },
    {
     "data": {
      "text/html": [
       "<p><strong>Description:</strong> Yu-Gi-Oh ! - Tin of Ancient Battles Mega Pack﻿</p>"
      ],
      "text/plain": [
       "<IPython.core.display.HTML object>"
      ]
     },
     "metadata": {},
     "output_type": "display_data"
    },
    {
     "data": {
      "text/html": [
       "<p><strong>Price:</strong> $ 6.500</p>"
      ],
      "text/plain": [
       "<IPython.core.display.HTML object>"
      ]
     },
     "metadata": {},
     "output_type": "display_data"
    },
    {
     "data": {
      "text/html": [
       "<p><strong>Availability:</strong> Disponible</p>"
      ],
      "text/plain": [
       "<IPython.core.display.HTML object>"
      ]
     },
     "metadata": {},
     "output_type": "display_data"
    },
    {
     "data": {
      "text/html": [
       "<hr>"
      ],
      "text/plain": [
       "<IPython.core.display.HTML object>"
      ]
     },
     "metadata": {},
     "output_type": "display_data"
    },
    {
     "data": {
      "text/html": [
       "<h2><a href='http://www.store.netdecker.cl/tins/29723-tin-of-the-pharaoh-s-gods.html' target='_blank'>Tin of the Pharaoh's Gods</a></h2>"
      ],
      "text/plain": [
       "<IPython.core.display.HTML object>"
      ]
     },
     "metadata": {},
     "output_type": "display_data"
    },
    {
     "data": {
      "text/html": [
       "<img src=\"http://www.store.netdecker.cl/29723-31166-home/tin-of-the-pharaoh-s-gods.jpg\" width=\"300\" height=\"300\"/>"
      ],
      "text/plain": [
       "<IPython.core.display.Image object>"
      ]
     },
     "metadata": {},
     "output_type": "display_data"
    },
    {
     "data": {
      "text/html": [
       "<p><strong>Description:</strong> Yu-Gi-Oh ! - Tin of the Pharaoh's Gods﻿</p>"
      ],
      "text/plain": [
       "<IPython.core.display.HTML object>"
      ]
     },
     "metadata": {},
     "output_type": "display_data"
    },
    {
     "data": {
      "text/html": [
       "<p><strong>Price:</strong> $ 23.000</p>"
      ],
      "text/plain": [
       "<IPython.core.display.HTML object>"
      ]
     },
     "metadata": {},
     "output_type": "display_data"
    },
    {
     "data": {
      "text/html": [
       "<p><strong>Availability:</strong> Disponible</p>"
      ],
      "text/plain": [
       "<IPython.core.display.HTML object>"
      ]
     },
     "metadata": {},
     "output_type": "display_data"
    },
    {
     "data": {
      "text/html": [
       "<hr>"
      ],
      "text/plain": [
       "<IPython.core.display.HTML object>"
      ]
     },
     "metadata": {},
     "output_type": "display_data"
    },
    {
     "data": {
      "text/html": [
       "<h2><a href='http://www.store.netdecker.cl/toon-chaos/24352-toon-chaos-booster-pack.html' target='_blank'>Toon Chaos Booster Pack</a></h2>"
      ],
      "text/plain": [
       "<IPython.core.display.HTML object>"
      ]
     },
     "metadata": {},
     "output_type": "display_data"
    },
    {
     "data": {
      "text/html": [
       "<img src=\"http://www.store.netdecker.cl/24352-25099-home/toon-chaos-booster-pack.jpg\" width=\"300\" height=\"300\"/>"
      ],
      "text/plain": [
       "<IPython.core.display.Image object>"
      ]
     },
     "metadata": {},
     "output_type": "display_data"
    },
    {
     "data": {
      "text/html": [
       "<p><strong>Description:</strong> Yu-Gi-Oh ! - Toon Chaos Booster Pack﻿</p>"
      ],
      "text/plain": [
       "<IPython.core.display.HTML object>"
      ]
     },
     "metadata": {},
     "output_type": "display_data"
    },
    {
     "data": {
      "text/html": [
       "<p><strong>Price:</strong> $ 4.000</p>"
      ],
      "text/plain": [
       "<IPython.core.display.HTML object>"
      ]
     },
     "metadata": {},
     "output_type": "display_data"
    },
    {
     "data": {
      "text/html": [
       "<p><strong>Availability:</strong> Disponible</p>"
      ],
      "text/plain": [
       "<IPython.core.display.HTML object>"
      ]
     },
     "metadata": {},
     "output_type": "display_data"
    },
    {
     "data": {
      "text/html": [
       "<hr>"
      ],
      "text/plain": [
       "<IPython.core.display.HTML object>"
      ]
     },
     "metadata": {},
     "output_type": "display_data"
    },
    {
     "data": {
      "text/html": [
       "<h2><a href='http://www.store.netdecker.cl/valiant-smashers/33741-valiant-smashers-booster-pack.html' target='_blank'>Valiant Smashers Booster Pack</a></h2>"
      ],
      "text/plain": [
       "<IPython.core.display.HTML object>"
      ]
     },
     "metadata": {},
     "output_type": "display_data"
    },
    {
     "data": {
      "text/html": [
       "<img src=\"http://www.store.netdecker.cl/33741-35088-home/valiant-smashers-booster-pack.jpg\" width=\"300\" height=\"300\"/>"
      ],
      "text/plain": [
       "<IPython.core.display.Image object>"
      ]
     },
     "metadata": {},
     "output_type": "display_data"
    },
    {
     "data": {
      "text/html": [
       "<p><strong>Description:</strong> Valiant Smashers Booster Pack﻿</p>"
      ],
      "text/plain": [
       "<IPython.core.display.HTML object>"
      ]
     },
     "metadata": {},
     "output_type": "display_data"
    },
    {
     "data": {
      "text/html": [
       "<p><strong>Price:</strong> $ 4.300</p>"
      ],
      "text/plain": [
       "<IPython.core.display.HTML object>"
      ]
     },
     "metadata": {},
     "output_type": "display_data"
    },
    {
     "data": {
      "text/html": [
       "<p><strong>Availability:</strong> Disponible</p>"
      ],
      "text/plain": [
       "<IPython.core.display.HTML object>"
      ]
     },
     "metadata": {},
     "output_type": "display_data"
    },
    {
     "data": {
      "text/html": [
       "<hr>"
      ],
      "text/plain": [
       "<IPython.core.display.HTML object>"
      ]
     },
     "metadata": {},
     "output_type": "display_data"
    },
    {
     "data": {
      "text/html": [
       "<h2><a href='http://www.store.netdecker.cl/wave-of-light/19936-wave-of-light.html' target='_blank'>Wave of Light</a></h2>"
      ],
      "text/plain": [
       "<IPython.core.display.HTML object>"
      ]
     },
     "metadata": {},
     "output_type": "display_data"
    },
    {
     "data": {
      "text/html": [
       "<img src=\"http://www.store.netdecker.cl/19936-20578-home/wave-of-light.jpg\" width=\"300\" height=\"300\"/>"
      ],
      "text/plain": [
       "<IPython.core.display.Image object>"
      ]
     },
     "metadata": {},
     "output_type": "display_data"
    },
    {
     "data": {
      "text/html": [
       "<p><strong>Description:</strong> Yu-Gi-Oh ! - ﻿Wave of Light﻿</p>"
      ],
      "text/plain": [
       "<IPython.core.display.HTML object>"
      ]
     },
     "metadata": {},
     "output_type": "display_data"
    },
    {
     "data": {
      "text/html": [
       "<p><strong>Price:</strong> $ 8.000</p>"
      ],
      "text/plain": [
       "<IPython.core.display.HTML object>"
      ]
     },
     "metadata": {},
     "output_type": "display_data"
    },
    {
     "data": {
      "text/html": [
       "<p><strong>Availability:</strong> Disponible</p>"
      ],
      "text/plain": [
       "<IPython.core.display.HTML object>"
      ]
     },
     "metadata": {},
     "output_type": "display_data"
    },
    {
     "data": {
      "text/html": [
       "<hr>"
      ],
      "text/plain": [
       "<IPython.core.display.HTML object>"
      ]
     },
     "metadata": {},
     "output_type": "display_data"
    },
    {
     "data": {
      "text/html": [
       "<h2><a href='http://www.store.netdecker.cl/wild-survivors/31405-wild-survivors-1st-edition-booster-pack.html' target='_blank'>Wild Survivors 1st Edition...</a></h2>"
      ],
      "text/plain": [
       "<IPython.core.display.HTML object>"
      ]
     },
     "metadata": {},
     "output_type": "display_data"
    },
    {
     "data": {
      "text/html": [
       "<img src=\"http://www.store.netdecker.cl/31405-32486-home/wild-survivors-1st-edition-booster-pack.jpg\" width=\"300\" height=\"300\"/>"
      ],
      "text/plain": [
       "<IPython.core.display.Image object>"
      ]
     },
     "metadata": {},
     "output_type": "display_data"
    },
    {
     "data": {
      "text/html": [
       "<p><strong>Description:</strong> Wild Survivors 1st Edition Booster Pack﻿</p>"
      ],
      "text/plain": [
       "<IPython.core.display.HTML object>"
      ]
     },
     "metadata": {},
     "output_type": "display_data"
    },
    {
     "data": {
      "text/html": [
       "<p><strong>Price:</strong> $ 4.000</p>"
      ],
      "text/plain": [
       "<IPython.core.display.HTML object>"
      ]
     },
     "metadata": {},
     "output_type": "display_data"
    },
    {
     "data": {
      "text/html": [
       "<p><strong>Availability:</strong> Disponible</p>"
      ],
      "text/plain": [
       "<IPython.core.display.HTML object>"
      ]
     },
     "metadata": {},
     "output_type": "display_data"
    },
    {
     "data": {
      "text/html": [
       "<hr>"
      ],
      "text/plain": [
       "<IPython.core.display.HTML object>"
      ]
     },
     "metadata": {},
     "output_type": "display_data"
    },
    {
     "data": {
      "text/html": [
       "<h2><a href='http://www.store.netdecker.cl/booster-packs/27053--king-s-court-booster-pack.html' target='_blank'>﻿King's Court Booster Pack</a></h2>"
      ],
      "text/plain": [
       "<IPython.core.display.HTML object>"
      ]
     },
     "metadata": {},
     "output_type": "display_data"
    },
    {
     "data": {
      "text/html": [
       "<img src=\"http://www.store.netdecker.cl/27053-27979-home/-king-s-court-booster-pack.jpg\" width=\"300\" height=\"300\"/>"
      ],
      "text/plain": [
       "<IPython.core.display.Image object>"
      ]
     },
     "metadata": {},
     "output_type": "display_data"
    },
    {
     "data": {
      "text/html": [
       "<p><strong>Description:</strong> ﻿Yu-Gi-Oh ! - King's Court Booster Pack﻿</p>"
      ],
      "text/plain": [
       "<IPython.core.display.HTML object>"
      ]
     },
     "metadata": {},
     "output_type": "display_data"
    },
    {
     "data": {
      "text/html": [
       "<p><strong>Price:</strong> $ 3.000</p>"
      ],
      "text/plain": [
       "<IPython.core.display.HTML object>"
      ]
     },
     "metadata": {},
     "output_type": "display_data"
    },
    {
     "data": {
      "text/html": [
       "<p><strong>Availability:</strong> Disponible</p>"
      ],
      "text/plain": [
       "<IPython.core.display.HTML object>"
      ]
     },
     "metadata": {},
     "output_type": "display_data"
    },
    {
     "data": {
      "text/html": [
       "<hr>"
      ],
      "text/plain": [
       "<IPython.core.display.HTML object>"
      ]
     },
     "metadata": {},
     "output_type": "display_data"
    }
   ],
   "source": [
    "import pandas as pd\n",
    "from IPython.display import display, Image, HTML\n",
    "\n",
    "# Load the scraped data\n",
    "data = pd.read_json('products.json')\n",
    "\n",
    "# Function to display images and text for each product\n",
    "def display_content(data):\n",
    "    for index, row in data.iterrows():\n",
    "        name = row['name']\n",
    "        url = row['url']\n",
    "        image = row['image']\n",
    "        description = row['description']\n",
    "        price = row['price']\n",
    "        availability = row['availability']\n",
    "        \n",
    "        display(HTML(f\"<h2><a href='{url}' target='_blank'>{name}</a></h2>\"))\n",
    "        display(Image(url=image, width=300, height=300))\n",
    "        display(HTML(f\"<p><strong>Description:</strong> {description}</p>\"))\n",
    "        display(HTML(f\"<p><strong>Price:</strong> {price}</p>\"))\n",
    "        display(HTML(f\"<p><strong>Availability:</strong> {availability}</p>\"))\n",
    "        display(HTML(\"<hr>\"))\n",
    "\n",
    "# Display the content\n",
    "display_content(data)"
   ]
  }
 ],
 "metadata": {
  "kernelspec": {
   "display_name": "myenv",
   "language": "python",
   "name": "python3"
  },
  "language_info": {
   "codemirror_mode": {
    "name": "ipython",
    "version": 3
   },
   "file_extension": ".py",
   "mimetype": "text/x-python",
   "name": "python",
   "nbconvert_exporter": "python",
   "pygments_lexer": "ipython3",
   "version": "3.12.0"
  }
 },
 "nbformat": 4,
 "nbformat_minor": 2
}
