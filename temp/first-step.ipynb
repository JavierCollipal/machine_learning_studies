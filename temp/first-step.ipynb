{
 "cells": [
  {
   "cell_type": "markdown",
   "metadata": {},
   "source": [
    "Primero, definimos los numeros como Higher-Order Functions y antes de definirlas vamos a mejorar su lectura con la siguiente funcion."
   ]
  },
  {
   "cell_type": "code",
   "execution_count": 67,
   "metadata": {},
   "outputs": [],
   "source": [
    "\n",
    "def number_function_operation(operation=None, number=0):\n",
    "    if operation:\n",
    "        return operation(number)\n",
    "    return number"
   ]
  },
  {
   "cell_type": "code",
   "execution_count": 68,
   "metadata": {},
   "outputs": [],
   "source": [
    "def zero(operation=None, number=0):\n",
    "    return number_function_operation(operation,number)\n",
    "\n",
    "def one(operation=None, number=1):\n",
    "    return number_function_operation(operation,number)\n",
    "\n",
    "\n",
    "def two(operation=None, number=2):\n",
    "    return number_function_operation(operation,number)\n",
    "\n",
    "\n",
    "def three(operation=None, number=3):\n",
    "    return number_function_operation(operation,number)\n",
    "\n",
    "\n",
    "def four(operation=None, number=4):\n",
    "    return number_function_operation(operation,number)\n",
    "\n",
    "\n",
    "def five(operation=None, number=5):\n",
    "    return number_function_operation(operation,number)\n",
    "\n",
    "\n",
    "def six(operation=None, number=6):\n",
    "    return number_function_operation(operation,number)\n",
    "\n",
    "\n",
    "def seven(operation=None, number=7):\n",
    "    return number_function_operation(operation,number)\n",
    "\n",
    "\n",
    "def eight(operation=None, number=8):\n",
    "    return number_function_operation(operation,number)\n",
    "\n",
    "def nine(operation=None, number=9):\n",
    "    return number_function_operation(operation,number)\n",
    "\n",
    "def plus(y):\n",
    "    return lambda x: x + y\n",
    "\n",
    "def minus(y):\n",
    "    return lambda x: x - y\n",
    "\n",
    "def times(y):\n",
    "    return lambda x: x * y\n",
    "#Para cumplir con el requerimiento, vamos a determinar si el resultado de la división es un entero o decimal. Esto último para remover el resto de la división.\n",
    "#Como también personalmente dejo controlada la división por 0, como ejemplo de que estas operaciones pueden incluir validaciones pre operación.\n",
    "def divided_by(y):\n",
    "    if y == 0:\n",
    "        return lambda x: \"Error: Division by zero\"\n",
    "    return lambda x: int(x / y) if x % y == 0 else x / y\n"
   ]
  },
  {
   "cell_type": "markdown",
   "metadata": {},
   "source": [
    "### operación A * B:\n",
    "\n",
    "\n",
    "Es importante considerar el concepto de Funciones anónimas en las operaciones,  la X en nuestra lambda está tomando automáticamente el valor de A por nosotros permitiéndonos encadenar las funciones mientras Y que es la B, queda cargada en la función anónima, cuando 4 ingresa a la operación este se va volver la X automáticamente sin necesidad de escribirlo en el codigo.\n",
    "El no considerar funciones anonimas para esta prueba resulta en no poder completarla, ya que va estar esperando A y B al momento de ejecutar la función y nunca podremos encadenar numeros y operaciones."
   ]
  },
  {
   "cell_type": "code",
   "execution_count": 69,
   "metadata": {},
   "outputs": [
    {
     "name": "stdout",
     "output_type": "stream",
     "text": [
      "0\n",
      "1\n",
      "2\n",
      "3\n",
      "4\n",
      "5\n",
      "6\n",
      "7\n",
      "8\n",
      "9\n"
     ]
    }
   ],
   "source": [
    "#use the numbers functions, enclose them whithin a print, i want to see all the values.\n",
    "# example: print(one())\n",
    "print(zero())\n",
    "print(one())\n",
    "print(two())\n",
    "print(three())\n",
    "print(four())\n",
    "print(five())\n",
    "print(six())\n",
    "print(seven())\n",
    "print(eight())\n",
    "print(nine())\n"
   ]
  },
  {
   "cell_type": "markdown",
   "metadata": {},
   "source": [
    "Con el bloque de codigo python cumpliendo los requerimentos, finalizaremos validando los ejemplos requeridos. El bloque posterior solo valida la division por 0."
   ]
  },
  {
   "cell_type": "code",
   "execution_count": 70,
   "metadata": {},
   "outputs": [
    {
     "name": "stdout",
     "output_type": "stream",
     "text": [
      "20\n",
      "9\n",
      "4\n",
      "3\n"
     ]
    }
   ],
   "source": [
    "print(four(times(five())))\n",
    "print(one(plus(eight())))\n",
    "print(seven(minus(three())))\n",
    "print(nine(divided_by(three())))"
   ]
  },
  {
   "cell_type": "code",
   "execution_count": 71,
   "metadata": {},
   "outputs": [
    {
     "name": "stdout",
     "output_type": "stream",
     "text": [
      "3\n",
      "2.5\n",
      "Error: Division by zero\n"
     ]
    }
   ],
   "source": [
    "print(nine(divided_by(three())))  # Expected: 3\n",
    "print(five(divided_by(two())))    # Expected: 2.5\n",
    "print(four(divided_by(zero())))   # Expected: \"Error: Division by zero"
   ]
  }
 ],
 "metadata": {
  "kernelspec": {
   "display_name": "myenv",
   "language": "python",
   "name": "python3"
  },
  "language_info": {
   "codemirror_mode": {
    "name": "ipython",
    "version": 3
   },
   "file_extension": ".py",
   "mimetype": "text/x-python",
   "name": "python",
   "nbconvert_exporter": "python",
   "pygments_lexer": "ipython3",
   "version": "3.12.4"
  }
 },
 "nbformat": 4,
 "nbformat_minor": 2
}
